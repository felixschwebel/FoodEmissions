{
 "cells": [
  {
   "cell_type": "markdown",
   "metadata": {
    "collapsed": false
   },
   "source": [
    "# Emissions of different Food Products\n",
    "This Dataset was sourced from *Science* and *Our World in Data* (OWID) by **AMANDAROSEKNUDSEN** and downloaded from [**kaggle.com**](https://www.kaggle.com/datasets/amandaroseknudsen/foodproductemissions)."
   ]
  },
  {
   "cell_type": "code",
   "execution_count": 1,
   "metadata": {
    "collapsed": false
   },
   "outputs": [],
   "source": [
    "import pandas as pd\n",
    "import matplotlib.pyplot as plt\n",
    "import plotly.express as px"
   ]
  },
  {
   "cell_type": "code",
   "execution_count": 2,
   "metadata": {
    "collapsed": true
   },
   "outputs": [],
   "source": [
    "data = pd.read_csv('Food_Product_Emissions.csv')"
   ]
  },
  {
   "cell_type": "code",
   "execution_count": 3,
   "metadata": {
    "collapsed": false
   },
   "outputs": [],
   "source": [
    "pd.options.display.float_format = '{:,.2f}'.format"
   ]
  },
  {
   "cell_type": "markdown",
   "metadata": {
    "collapsed": false
   },
   "source": [
    "### Preliminary Data Exploration"
   ]
  },
  {
   "cell_type": "code",
   "execution_count": 4,
   "metadata": {
    "collapsed": false
   },
   "outputs": [
    {
     "name": "stdout",
     "output_type": "stream",
     "text": [
      "number of rows: 43\n",
      "number of columns: 11\n"
     ]
    }
   ],
   "source": [
    "shape = data.shape\n",
    "print(f\"number of rows: {shape[0]}\")\n",
    "print(f\"number of columns: {shape[1]}\")"
   ]
  },
  {
   "cell_type": "code",
   "execution_count": 5,
   "metadata": {
    "collapsed": false
   },
   "outputs": [
    {
     "name": "stdout",
     "output_type": "stream",
     "text": [
      "<class 'pandas.core.frame.DataFrame'>\n",
      "RangeIndex: 43 entries, 0 to 42\n",
      "Data columns (total 11 columns):\n",
      " #   Column                                     Non-Null Count  Dtype  \n",
      "---  ------                                     --------------  -----  \n",
      " 0   Food product                               43 non-null     object \n",
      " 1   Land Use Change                            43 non-null     float64\n",
      " 2   Feed                                       43 non-null     float64\n",
      " 3   Farm                                       43 non-null     float64\n",
      " 4   Processing                                 43 non-null     float64\n",
      " 5   Transport                                  43 non-null     float64\n",
      " 6   Packaging                                  43 non-null     float64\n",
      " 7   Retail                                     43 non-null     float64\n",
      " 8   Total from Land to Retail                  43 non-null     float64\n",
      " 9   Total Global Average GHG Emissions per kg  43 non-null     float64\n",
      " 10  Unit of GHG Emissions                      43 non-null     object \n",
      "dtypes: float64(9), object(2)\n",
      "memory usage: 3.8+ KB\n"
     ]
    }
   ],
   "source": [
    "data.info()"
   ]
  },
  {
   "cell_type": "code",
   "execution_count": 6,
   "metadata": {},
   "outputs": [
    {
     "data": {
      "text/html": [
       "<div>\n",
       "<style scoped>\n",
       "    .dataframe tbody tr th:only-of-type {\n",
       "        vertical-align: middle;\n",
       "    }\n",
       "\n",
       "    .dataframe tbody tr th {\n",
       "        vertical-align: top;\n",
       "    }\n",
       "\n",
       "    .dataframe thead th {\n",
       "        text-align: right;\n",
       "    }\n",
       "</style>\n",
       "<table border=\"1\" class=\"dataframe\">\n",
       "  <thead>\n",
       "    <tr style=\"text-align: right;\">\n",
       "      <th></th>\n",
       "      <th>Food product</th>\n",
       "      <th>Land Use Change</th>\n",
       "      <th>Feed</th>\n",
       "      <th>Farm</th>\n",
       "      <th>Processing</th>\n",
       "      <th>Transport</th>\n",
       "      <th>Packaging</th>\n",
       "      <th>Retail</th>\n",
       "      <th>Total from Land to Retail</th>\n",
       "      <th>Total Global Average GHG Emissions per kg</th>\n",
       "      <th>Unit of GHG Emissions</th>\n",
       "    </tr>\n",
       "  </thead>\n",
       "  <tbody>\n",
       "    <tr>\n",
       "      <th>0</th>\n",
       "      <td>Apples</td>\n",
       "      <td>-0.03</td>\n",
       "      <td>0.00</td>\n",
       "      <td>0.23</td>\n",
       "      <td>0.00</td>\n",
       "      <td>0.10</td>\n",
       "      <td>0.04</td>\n",
       "      <td>0.02</td>\n",
       "      <td>0.36</td>\n",
       "      <td>0.43</td>\n",
       "      <td>kg CO2e per kg food produced</td>\n",
       "    </tr>\n",
       "    <tr>\n",
       "      <th>1</th>\n",
       "      <td>Bananas</td>\n",
       "      <td>-0.03</td>\n",
       "      <td>0.00</td>\n",
       "      <td>0.27</td>\n",
       "      <td>0.06</td>\n",
       "      <td>0.29</td>\n",
       "      <td>0.07</td>\n",
       "      <td>0.02</td>\n",
       "      <td>0.68</td>\n",
       "      <td>0.86</td>\n",
       "      <td>kg CO2e per kg food produced</td>\n",
       "    </tr>\n",
       "    <tr>\n",
       "      <th>2</th>\n",
       "      <td>Barley</td>\n",
       "      <td>0.01</td>\n",
       "      <td>0.00</td>\n",
       "      <td>0.18</td>\n",
       "      <td>0.13</td>\n",
       "      <td>0.04</td>\n",
       "      <td>0.50</td>\n",
       "      <td>0.26</td>\n",
       "      <td>1.11</td>\n",
       "      <td>1.18</td>\n",
       "      <td>kg CO2e per kg food produced</td>\n",
       "    </tr>\n",
       "    <tr>\n",
       "      <th>3</th>\n",
       "      <td>Beef (beef herd)</td>\n",
       "      <td>16.28</td>\n",
       "      <td>1.88</td>\n",
       "      <td>39.39</td>\n",
       "      <td>1.27</td>\n",
       "      <td>0.35</td>\n",
       "      <td>0.25</td>\n",
       "      <td>0.16</td>\n",
       "      <td>59.57</td>\n",
       "      <td>99.48</td>\n",
       "      <td>kg CO2e per kg food produced</td>\n",
       "    </tr>\n",
       "    <tr>\n",
       "      <th>4</th>\n",
       "      <td>Beef (dairy herd)</td>\n",
       "      <td>0.91</td>\n",
       "      <td>2.51</td>\n",
       "      <td>15.69</td>\n",
       "      <td>1.11</td>\n",
       "      <td>0.42</td>\n",
       "      <td>0.27</td>\n",
       "      <td>0.18</td>\n",
       "      <td>21.09</td>\n",
       "      <td>33.30</td>\n",
       "      <td>kg CO2e per kg food produced</td>\n",
       "    </tr>\n",
       "  </tbody>\n",
       "</table>\n",
       "</div>"
      ],
      "text/plain": [
       "        Food product  Land Use Change  Feed  Farm  Processing  Transport  \\\n",
       "0             Apples            -0.03  0.00  0.23        0.00       0.10   \n",
       "1            Bananas            -0.03  0.00  0.27        0.06       0.29   \n",
       "2             Barley             0.01  0.00  0.18        0.13       0.04   \n",
       "3   Beef (beef herd)            16.28  1.88 39.39        1.27       0.35   \n",
       "4  Beef (dairy herd)             0.91  2.51 15.69        1.11       0.42   \n",
       "\n",
       "   Packaging  Retail  Total from Land to Retail  \\\n",
       "0       0.04    0.02                       0.36   \n",
       "1       0.07    0.02                       0.68   \n",
       "2       0.50    0.26                       1.11   \n",
       "3       0.25    0.16                      59.57   \n",
       "4       0.27    0.18                      21.09   \n",
       "\n",
       "   Total Global Average GHG Emissions per kg         Unit of GHG Emissions  \n",
       "0                                       0.43  kg CO2e per kg food produced  \n",
       "1                                       0.86  kg CO2e per kg food produced  \n",
       "2                                       1.18  kg CO2e per kg food produced  \n",
       "3                                      99.48  kg CO2e per kg food produced  \n",
       "4                                      33.30  kg CO2e per kg food produced  "
      ]
     },
     "execution_count": 6,
     "metadata": {},
     "output_type": "execute_result"
    }
   ],
   "source": [
    "data.head()"
   ]
  },
  {
   "cell_type": "code",
   "execution_count": 7,
   "metadata": {},
   "outputs": [
    {
     "name": "stdout",
     "output_type": "stream",
     "text": [
      "any duplicates: False\n"
     ]
    }
   ],
   "source": [
    "print(f\"any duplicates: {data.duplicated().values.any()}\")"
   ]
  },
  {
   "attachments": {},
   "cell_type": "markdown",
   "metadata": {},
   "source": [
    "The data doesn't contain any duplicates or NaN values. The datatypes are already in the right format. So there is nothing to clean. "
   ]
  },
  {
   "cell_type": "code",
   "execution_count": 8,
   "metadata": {},
   "outputs": [
    {
     "data": {
      "text/html": [
       "<div>\n",
       "<style scoped>\n",
       "    .dataframe tbody tr th:only-of-type {\n",
       "        vertical-align: middle;\n",
       "    }\n",
       "\n",
       "    .dataframe tbody tr th {\n",
       "        vertical-align: top;\n",
       "    }\n",
       "\n",
       "    .dataframe thead th {\n",
       "        text-align: right;\n",
       "    }\n",
       "</style>\n",
       "<table border=\"1\" class=\"dataframe\">\n",
       "  <thead>\n",
       "    <tr style=\"text-align: right;\">\n",
       "      <th></th>\n",
       "      <th>Land Use Change</th>\n",
       "      <th>Feed</th>\n",
       "      <th>Farm</th>\n",
       "      <th>Processing</th>\n",
       "      <th>Transport</th>\n",
       "      <th>Packaging</th>\n",
       "      <th>Retail</th>\n",
       "      <th>Total from Land to Retail</th>\n",
       "      <th>Total Global Average GHG Emissions per kg</th>\n",
       "    </tr>\n",
       "  </thead>\n",
       "  <tbody>\n",
       "    <tr>\n",
       "      <th>count</th>\n",
       "      <td>43.00</td>\n",
       "      <td>43.00</td>\n",
       "      <td>43.00</td>\n",
       "      <td>43.00</td>\n",
       "      <td>43.00</td>\n",
       "      <td>43.00</td>\n",
       "      <td>43.00</td>\n",
       "      <td>43.00</td>\n",
       "      <td>43.00</td>\n",
       "    </tr>\n",
       "    <tr>\n",
       "      <th>mean</th>\n",
       "      <td>1.26</td>\n",
       "      <td>0.46</td>\n",
       "      <td>3.47</td>\n",
       "      <td>0.26</td>\n",
       "      <td>0.19</td>\n",
       "      <td>0.27</td>\n",
       "      <td>0.08</td>\n",
       "      <td>6.00</td>\n",
       "      <td>9.47</td>\n",
       "    </tr>\n",
       "    <tr>\n",
       "      <th>std</th>\n",
       "      <td>3.35</td>\n",
       "      <td>0.92</td>\n",
       "      <td>7.08</td>\n",
       "      <td>0.37</td>\n",
       "      <td>0.16</td>\n",
       "      <td>0.34</td>\n",
       "      <td>0.09</td>\n",
       "      <td>10.49</td>\n",
       "      <td>18.07</td>\n",
       "    </tr>\n",
       "    <tr>\n",
       "      <th>min</th>\n",
       "      <td>-2.05</td>\n",
       "      <td>0.00</td>\n",
       "      <td>0.09</td>\n",
       "      <td>0.00</td>\n",
       "      <td>0.04</td>\n",
       "      <td>0.04</td>\n",
       "      <td>0.01</td>\n",
       "      <td>0.28</td>\n",
       "      <td>0.39</td>\n",
       "    </tr>\n",
       "    <tr>\n",
       "      <th>25%</th>\n",
       "      <td>0.00</td>\n",
       "      <td>0.00</td>\n",
       "      <td>0.34</td>\n",
       "      <td>0.00</td>\n",
       "      <td>0.09</td>\n",
       "      <td>0.06</td>\n",
       "      <td>0.03</td>\n",
       "      <td>0.91</td>\n",
       "      <td>1.02</td>\n",
       "    </tr>\n",
       "    <tr>\n",
       "      <th>50%</th>\n",
       "      <td>0.18</td>\n",
       "      <td>0.00</td>\n",
       "      <td>0.85</td>\n",
       "      <td>0.07</td>\n",
       "      <td>0.13</td>\n",
       "      <td>0.10</td>\n",
       "      <td>0.04</td>\n",
       "      <td>1.61</td>\n",
       "      <td>2.48</td>\n",
       "    </tr>\n",
       "    <tr>\n",
       "      <th>75%</th>\n",
       "      <td>0.81</td>\n",
       "      <td>0.00</td>\n",
       "      <td>2.25</td>\n",
       "      <td>0.30</td>\n",
       "      <td>0.22</td>\n",
       "      <td>0.32</td>\n",
       "      <td>0.11</td>\n",
       "      <td>6.02</td>\n",
       "      <td>6.82</td>\n",
       "    </tr>\n",
       "    <tr>\n",
       "      <th>max</th>\n",
       "      <td>16.28</td>\n",
       "      <td>2.94</td>\n",
       "      <td>39.39</td>\n",
       "      <td>1.27</td>\n",
       "      <td>0.78</td>\n",
       "      <td>1.63</td>\n",
       "      <td>0.33</td>\n",
       "      <td>59.57</td>\n",
       "      <td>99.48</td>\n",
       "    </tr>\n",
       "  </tbody>\n",
       "</table>\n",
       "</div>"
      ],
      "text/plain": [
       "       Land Use Change  Feed  Farm  Processing  Transport  Packaging  Retail  \\\n",
       "count            43.00 43.00 43.00       43.00      43.00      43.00   43.00   \n",
       "mean              1.26  0.46  3.47        0.26       0.19       0.27    0.08   \n",
       "std               3.35  0.92  7.08        0.37       0.16       0.34    0.09   \n",
       "min              -2.05  0.00  0.09        0.00       0.04       0.04    0.01   \n",
       "25%               0.00  0.00  0.34        0.00       0.09       0.06    0.03   \n",
       "50%               0.18  0.00  0.85        0.07       0.13       0.10    0.04   \n",
       "75%               0.81  0.00  2.25        0.30       0.22       0.32    0.11   \n",
       "max              16.28  2.94 39.39        1.27       0.78       1.63    0.33   \n",
       "\n",
       "       Total from Land to Retail  Total Global Average GHG Emissions per kg  \n",
       "count                      43.00                                      43.00  \n",
       "mean                        6.00                                       9.47  \n",
       "std                        10.49                                      18.07  \n",
       "min                         0.28                                       0.39  \n",
       "25%                         0.91                                       1.02  \n",
       "50%                         1.61                                       2.48  \n",
       "75%                         6.02                                       6.82  \n",
       "max                        59.57                                      99.48  "
      ]
     },
     "execution_count": 8,
     "metadata": {},
     "output_type": "execute_result"
    }
   ],
   "source": [
    "data.describe()"
   ]
  },
  {
   "attachments": {},
   "cell_type": "markdown",
   "metadata": {},
   "source": [
    "## Data Analysis "
   ]
  },
  {
   "attachments": {},
   "cell_type": "markdown",
   "metadata": {},
   "source": [
    "Which food has the most and which the least total GHG emissions?"
   ]
  },
  {
   "cell_type": "code",
   "execution_count": 9,
   "metadata": {},
   "outputs": [
    {
     "name": "stdout",
     "output_type": "stream",
     "text": [
      "Food with the most total GHG emissions: Beef (beef herd) - 99.48 per kg\n",
      "Food with the least total GHG emissions: Citrus Fruit - 0.39 per kg\n"
     ]
    }
   ],
   "source": [
    "emissions_max = data[data['Total Global Average GHG Emissions per kg'] == data['Total Global Average GHG Emissions per kg'].max()]\n",
    "emissions_min = data[data['Total Global Average GHG Emissions per kg'] == data['Total Global Average GHG Emissions per kg'].min()]\n",
    "print(f\"Food with the most total GHG emissions: {emissions_max['Food product'].values[0]} - {emissions_max['Total Global Average GHG Emissions per kg'].values[0]} per kg\")\n",
    "print(f\"Food with the least total GHG emissions: {emissions_min['Food product'].values[0]} - {emissions_min['Total Global Average GHG Emissions per kg'].values[0]} per kg\")"
   ]
  },
  {
   "attachments": {},
   "cell_type": "markdown",
   "metadata": {},
   "source": [
    "Bar Chart of Total Global Average GHG Emissions per kg "
   ]
  },
  {
   "cell_type": "code",
   "execution_count": 10,
   "metadata": {},
   "outputs": [
    {
     "data": {
      "application/vnd.plotly.v1+json": {
       "config": {
        "plotlyServerURL": "https://plot.ly"
       },
       "data": [
        {
         "alignmentgroup": "True",
         "hovertemplate": "Food product=%{x}<br>Total Global Average GHG Emissions per kg=%{y}<extra></extra>",
         "legendgroup": "",
         "marker": {
          "color": "#636efa",
          "pattern": {
           "shape": ""
          }
         },
         "name": "",
         "offsetgroup": "",
         "orientation": "v",
         "showlegend": false,
         "textposition": "auto",
         "type": "bar",
         "x": [
          "Beef (beef herd)",
          "Dark Chocolate",
          "Lamb & Mutton",
          "Beef (dairy herd)",
          "Coffee",
          "Shrimps (farmed)",
          "Cheese",
          "Fish (farmed)",
          "Pig Meat",
          "Poultry Meat",
          "Palm Oil",
          "Soybean Oil",
          "Olive Oil",
          "Eggs",
          "Rice",
          "Rapeseed Oil",
          "Sunflower Oil",
          "Groundnuts",
          "Cane Sugar",
          "Tofu",
          "Milk",
          "Oatmeal",
          "Tomatoes",
          "Beet Sugar",
          "Other Pulses",
          "Wine",
          "Maize",
          "Wheat & Rye",
          "Berries & Grapes",
          "Cassava",
          "Barley",
          "Other Fruit",
          "Peas",
          "Soymilk",
          "Bananas",
          "Other Vegetables",
          "Brassicas",
          "Onions & Leeks",
          "Potatoes",
          "Root Vegetables",
          "Nuts",
          "Apples",
          "Citrus Fruit"
         ],
         "xaxis": "x",
         "y": [
          99.48,
          46.65,
          39.72,
          33.3,
          28.53,
          26.87,
          23.88,
          13.63,
          12.31,
          9.87,
          7.32,
          6.32,
          5.42,
          4.67,
          4.45,
          3.77,
          3.6,
          3.23,
          3.2,
          3.16,
          3.15,
          2.48,
          2.09,
          1.81,
          1.79,
          1.79,
          1.7,
          1.57,
          1.53,
          1.32,
          1.18,
          1.05,
          0.98,
          0.98,
          0.86,
          0.53,
          0.51,
          0.5,
          0.46,
          0.43,
          0.43,
          0.43,
          0.39
         ],
         "yaxis": "y"
        }
       ],
       "layout": {
        "barmode": "relative",
        "legend": {
         "tracegroupgap": 0
        },
        "template": {
         "data": {
          "bar": [
           {
            "error_x": {
             "color": "#2a3f5f"
            },
            "error_y": {
             "color": "#2a3f5f"
            },
            "marker": {
             "line": {
              "color": "#E5ECF6",
              "width": 0.5
             },
             "pattern": {
              "fillmode": "overlay",
              "size": 10,
              "solidity": 0.2
             }
            },
            "type": "bar"
           }
          ],
          "barpolar": [
           {
            "marker": {
             "line": {
              "color": "#E5ECF6",
              "width": 0.5
             },
             "pattern": {
              "fillmode": "overlay",
              "size": 10,
              "solidity": 0.2
             }
            },
            "type": "barpolar"
           }
          ],
          "carpet": [
           {
            "aaxis": {
             "endlinecolor": "#2a3f5f",
             "gridcolor": "white",
             "linecolor": "white",
             "minorgridcolor": "white",
             "startlinecolor": "#2a3f5f"
            },
            "baxis": {
             "endlinecolor": "#2a3f5f",
             "gridcolor": "white",
             "linecolor": "white",
             "minorgridcolor": "white",
             "startlinecolor": "#2a3f5f"
            },
            "type": "carpet"
           }
          ],
          "choropleth": [
           {
            "colorbar": {
             "outlinewidth": 0,
             "ticks": ""
            },
            "type": "choropleth"
           }
          ],
          "contour": [
           {
            "colorbar": {
             "outlinewidth": 0,
             "ticks": ""
            },
            "colorscale": [
             [
              0,
              "#0d0887"
             ],
             [
              0.1111111111111111,
              "#46039f"
             ],
             [
              0.2222222222222222,
              "#7201a8"
             ],
             [
              0.3333333333333333,
              "#9c179e"
             ],
             [
              0.4444444444444444,
              "#bd3786"
             ],
             [
              0.5555555555555556,
              "#d8576b"
             ],
             [
              0.6666666666666666,
              "#ed7953"
             ],
             [
              0.7777777777777778,
              "#fb9f3a"
             ],
             [
              0.8888888888888888,
              "#fdca26"
             ],
             [
              1,
              "#f0f921"
             ]
            ],
            "type": "contour"
           }
          ],
          "contourcarpet": [
           {
            "colorbar": {
             "outlinewidth": 0,
             "ticks": ""
            },
            "type": "contourcarpet"
           }
          ],
          "heatmap": [
           {
            "colorbar": {
             "outlinewidth": 0,
             "ticks": ""
            },
            "colorscale": [
             [
              0,
              "#0d0887"
             ],
             [
              0.1111111111111111,
              "#46039f"
             ],
             [
              0.2222222222222222,
              "#7201a8"
             ],
             [
              0.3333333333333333,
              "#9c179e"
             ],
             [
              0.4444444444444444,
              "#bd3786"
             ],
             [
              0.5555555555555556,
              "#d8576b"
             ],
             [
              0.6666666666666666,
              "#ed7953"
             ],
             [
              0.7777777777777778,
              "#fb9f3a"
             ],
             [
              0.8888888888888888,
              "#fdca26"
             ],
             [
              1,
              "#f0f921"
             ]
            ],
            "type": "heatmap"
           }
          ],
          "heatmapgl": [
           {
            "colorbar": {
             "outlinewidth": 0,
             "ticks": ""
            },
            "colorscale": [
             [
              0,
              "#0d0887"
             ],
             [
              0.1111111111111111,
              "#46039f"
             ],
             [
              0.2222222222222222,
              "#7201a8"
             ],
             [
              0.3333333333333333,
              "#9c179e"
             ],
             [
              0.4444444444444444,
              "#bd3786"
             ],
             [
              0.5555555555555556,
              "#d8576b"
             ],
             [
              0.6666666666666666,
              "#ed7953"
             ],
             [
              0.7777777777777778,
              "#fb9f3a"
             ],
             [
              0.8888888888888888,
              "#fdca26"
             ],
             [
              1,
              "#f0f921"
             ]
            ],
            "type": "heatmapgl"
           }
          ],
          "histogram": [
           {
            "marker": {
             "pattern": {
              "fillmode": "overlay",
              "size": 10,
              "solidity": 0.2
             }
            },
            "type": "histogram"
           }
          ],
          "histogram2d": [
           {
            "colorbar": {
             "outlinewidth": 0,
             "ticks": ""
            },
            "colorscale": [
             [
              0,
              "#0d0887"
             ],
             [
              0.1111111111111111,
              "#46039f"
             ],
             [
              0.2222222222222222,
              "#7201a8"
             ],
             [
              0.3333333333333333,
              "#9c179e"
             ],
             [
              0.4444444444444444,
              "#bd3786"
             ],
             [
              0.5555555555555556,
              "#d8576b"
             ],
             [
              0.6666666666666666,
              "#ed7953"
             ],
             [
              0.7777777777777778,
              "#fb9f3a"
             ],
             [
              0.8888888888888888,
              "#fdca26"
             ],
             [
              1,
              "#f0f921"
             ]
            ],
            "type": "histogram2d"
           }
          ],
          "histogram2dcontour": [
           {
            "colorbar": {
             "outlinewidth": 0,
             "ticks": ""
            },
            "colorscale": [
             [
              0,
              "#0d0887"
             ],
             [
              0.1111111111111111,
              "#46039f"
             ],
             [
              0.2222222222222222,
              "#7201a8"
             ],
             [
              0.3333333333333333,
              "#9c179e"
             ],
             [
              0.4444444444444444,
              "#bd3786"
             ],
             [
              0.5555555555555556,
              "#d8576b"
             ],
             [
              0.6666666666666666,
              "#ed7953"
             ],
             [
              0.7777777777777778,
              "#fb9f3a"
             ],
             [
              0.8888888888888888,
              "#fdca26"
             ],
             [
              1,
              "#f0f921"
             ]
            ],
            "type": "histogram2dcontour"
           }
          ],
          "mesh3d": [
           {
            "colorbar": {
             "outlinewidth": 0,
             "ticks": ""
            },
            "type": "mesh3d"
           }
          ],
          "parcoords": [
           {
            "line": {
             "colorbar": {
              "outlinewidth": 0,
              "ticks": ""
             }
            },
            "type": "parcoords"
           }
          ],
          "pie": [
           {
            "automargin": true,
            "type": "pie"
           }
          ],
          "scatter": [
           {
            "fillpattern": {
             "fillmode": "overlay",
             "size": 10,
             "solidity": 0.2
            },
            "type": "scatter"
           }
          ],
          "scatter3d": [
           {
            "line": {
             "colorbar": {
              "outlinewidth": 0,
              "ticks": ""
             }
            },
            "marker": {
             "colorbar": {
              "outlinewidth": 0,
              "ticks": ""
             }
            },
            "type": "scatter3d"
           }
          ],
          "scattercarpet": [
           {
            "marker": {
             "colorbar": {
              "outlinewidth": 0,
              "ticks": ""
             }
            },
            "type": "scattercarpet"
           }
          ],
          "scattergeo": [
           {
            "marker": {
             "colorbar": {
              "outlinewidth": 0,
              "ticks": ""
             }
            },
            "type": "scattergeo"
           }
          ],
          "scattergl": [
           {
            "marker": {
             "colorbar": {
              "outlinewidth": 0,
              "ticks": ""
             }
            },
            "type": "scattergl"
           }
          ],
          "scattermapbox": [
           {
            "marker": {
             "colorbar": {
              "outlinewidth": 0,
              "ticks": ""
             }
            },
            "type": "scattermapbox"
           }
          ],
          "scatterpolar": [
           {
            "marker": {
             "colorbar": {
              "outlinewidth": 0,
              "ticks": ""
             }
            },
            "type": "scatterpolar"
           }
          ],
          "scatterpolargl": [
           {
            "marker": {
             "colorbar": {
              "outlinewidth": 0,
              "ticks": ""
             }
            },
            "type": "scatterpolargl"
           }
          ],
          "scatterternary": [
           {
            "marker": {
             "colorbar": {
              "outlinewidth": 0,
              "ticks": ""
             }
            },
            "type": "scatterternary"
           }
          ],
          "surface": [
           {
            "colorbar": {
             "outlinewidth": 0,
             "ticks": ""
            },
            "colorscale": [
             [
              0,
              "#0d0887"
             ],
             [
              0.1111111111111111,
              "#46039f"
             ],
             [
              0.2222222222222222,
              "#7201a8"
             ],
             [
              0.3333333333333333,
              "#9c179e"
             ],
             [
              0.4444444444444444,
              "#bd3786"
             ],
             [
              0.5555555555555556,
              "#d8576b"
             ],
             [
              0.6666666666666666,
              "#ed7953"
             ],
             [
              0.7777777777777778,
              "#fb9f3a"
             ],
             [
              0.8888888888888888,
              "#fdca26"
             ],
             [
              1,
              "#f0f921"
             ]
            ],
            "type": "surface"
           }
          ],
          "table": [
           {
            "cells": {
             "fill": {
              "color": "#EBF0F8"
             },
             "line": {
              "color": "white"
             }
            },
            "header": {
             "fill": {
              "color": "#C8D4E3"
             },
             "line": {
              "color": "white"
             }
            },
            "type": "table"
           }
          ]
         },
         "layout": {
          "annotationdefaults": {
           "arrowcolor": "#2a3f5f",
           "arrowhead": 0,
           "arrowwidth": 1
          },
          "autotypenumbers": "strict",
          "coloraxis": {
           "colorbar": {
            "outlinewidth": 0,
            "ticks": ""
           }
          },
          "colorscale": {
           "diverging": [
            [
             0,
             "#8e0152"
            ],
            [
             0.1,
             "#c51b7d"
            ],
            [
             0.2,
             "#de77ae"
            ],
            [
             0.3,
             "#f1b6da"
            ],
            [
             0.4,
             "#fde0ef"
            ],
            [
             0.5,
             "#f7f7f7"
            ],
            [
             0.6,
             "#e6f5d0"
            ],
            [
             0.7,
             "#b8e186"
            ],
            [
             0.8,
             "#7fbc41"
            ],
            [
             0.9,
             "#4d9221"
            ],
            [
             1,
             "#276419"
            ]
           ],
           "sequential": [
            [
             0,
             "#0d0887"
            ],
            [
             0.1111111111111111,
             "#46039f"
            ],
            [
             0.2222222222222222,
             "#7201a8"
            ],
            [
             0.3333333333333333,
             "#9c179e"
            ],
            [
             0.4444444444444444,
             "#bd3786"
            ],
            [
             0.5555555555555556,
             "#d8576b"
            ],
            [
             0.6666666666666666,
             "#ed7953"
            ],
            [
             0.7777777777777778,
             "#fb9f3a"
            ],
            [
             0.8888888888888888,
             "#fdca26"
            ],
            [
             1,
             "#f0f921"
            ]
           ],
           "sequentialminus": [
            [
             0,
             "#0d0887"
            ],
            [
             0.1111111111111111,
             "#46039f"
            ],
            [
             0.2222222222222222,
             "#7201a8"
            ],
            [
             0.3333333333333333,
             "#9c179e"
            ],
            [
             0.4444444444444444,
             "#bd3786"
            ],
            [
             0.5555555555555556,
             "#d8576b"
            ],
            [
             0.6666666666666666,
             "#ed7953"
            ],
            [
             0.7777777777777778,
             "#fb9f3a"
            ],
            [
             0.8888888888888888,
             "#fdca26"
            ],
            [
             1,
             "#f0f921"
            ]
           ]
          },
          "colorway": [
           "#636efa",
           "#EF553B",
           "#00cc96",
           "#ab63fa",
           "#FFA15A",
           "#19d3f3",
           "#FF6692",
           "#B6E880",
           "#FF97FF",
           "#FECB52"
          ],
          "font": {
           "color": "#2a3f5f"
          },
          "geo": {
           "bgcolor": "white",
           "lakecolor": "white",
           "landcolor": "#E5ECF6",
           "showlakes": true,
           "showland": true,
           "subunitcolor": "white"
          },
          "hoverlabel": {
           "align": "left"
          },
          "hovermode": "closest",
          "mapbox": {
           "style": "light"
          },
          "paper_bgcolor": "white",
          "plot_bgcolor": "#E5ECF6",
          "polar": {
           "angularaxis": {
            "gridcolor": "white",
            "linecolor": "white",
            "ticks": ""
           },
           "bgcolor": "#E5ECF6",
           "radialaxis": {
            "gridcolor": "white",
            "linecolor": "white",
            "ticks": ""
           }
          },
          "scene": {
           "xaxis": {
            "backgroundcolor": "#E5ECF6",
            "gridcolor": "white",
            "gridwidth": 2,
            "linecolor": "white",
            "showbackground": true,
            "ticks": "",
            "zerolinecolor": "white"
           },
           "yaxis": {
            "backgroundcolor": "#E5ECF6",
            "gridcolor": "white",
            "gridwidth": 2,
            "linecolor": "white",
            "showbackground": true,
            "ticks": "",
            "zerolinecolor": "white"
           },
           "zaxis": {
            "backgroundcolor": "#E5ECF6",
            "gridcolor": "white",
            "gridwidth": 2,
            "linecolor": "white",
            "showbackground": true,
            "ticks": "",
            "zerolinecolor": "white"
           }
          },
          "shapedefaults": {
           "line": {
            "color": "#2a3f5f"
           }
          },
          "ternary": {
           "aaxis": {
            "gridcolor": "white",
            "linecolor": "white",
            "ticks": ""
           },
           "baxis": {
            "gridcolor": "white",
            "linecolor": "white",
            "ticks": ""
           },
           "bgcolor": "#E5ECF6",
           "caxis": {
            "gridcolor": "white",
            "linecolor": "white",
            "ticks": ""
           }
          },
          "title": {
           "x": 0.05
          },
          "xaxis": {
           "automargin": true,
           "gridcolor": "white",
           "linecolor": "white",
           "ticks": "",
           "title": {
            "standoff": 15
           },
           "zerolinecolor": "white",
           "zerolinewidth": 2
          },
          "yaxis": {
           "automargin": true,
           "gridcolor": "white",
           "linecolor": "white",
           "ticks": "",
           "title": {
            "standoff": 15
           },
           "zerolinecolor": "white",
           "zerolinewidth": 2
          }
         }
        },
        "title": {
         "text": "Total Global Average GHG Emissions per kg "
        },
        "xaxis": {
         "anchor": "y",
         "domain": [
          0,
          1
         ],
         "title": {
          "text": "Food Product"
         }
        },
        "yaxis": {
         "anchor": "x",
         "domain": [
          0,
          1
         ],
         "title": {
          "text": "Total Global Average GHG Emissions per kg"
         }
        }
       }
      }
     },
     "metadata": {},
     "output_type": "display_data"
    }
   ],
   "source": [
    "worst_ten = data.sort_values(by='Total Global Average GHG Emissions per kg', ascending=False)\n",
    "worst_ten_chart = px.bar(\n",
    "    worst_ten,\n",
    "    x=worst_ten['Food product'],\n",
    "    y=worst_ten['Total Global Average GHG Emissions per kg'],\n",
    "    title='Total Global Average GHG Emissions per kg '\n",
    ")\n",
    "worst_ten_chart.update_layout(xaxis_title='Food Product', yaxis_title='Total Global Average GHG Emissions per kg')\n",
    "worst_ten_chart.show()"
   ]
  },
  {
   "attachments": {},
   "cell_type": "markdown",
   "metadata": {},
   "source": [
    "### How big is the difference of the GHG Emissions from **Animal products** to **Plant products**? "
   ]
  },
  {
   "cell_type": "code",
   "execution_count": 11,
   "metadata": {},
   "outputs": [],
   "source": [
    "data.insert(1, 'Type', None)"
   ]
  },
  {
   "cell_type": "code",
   "execution_count": 12,
   "metadata": {},
   "outputs": [],
   "source": [
    "for row in data.index:\n",
    "    if data['Feed'][row] == 0:\n",
    "        data.loc[row, 'Type'] = 'plant'\n",
    "    else:\n",
    "        data.loc[row, 'Type'] = 'animal'"
   ]
  },
  {
   "cell_type": "code",
   "execution_count": 13,
   "metadata": {},
   "outputs": [
    {
     "data": {
      "text/html": [
       "<div>\n",
       "<style scoped>\n",
       "    .dataframe tbody tr th:only-of-type {\n",
       "        vertical-align: middle;\n",
       "    }\n",
       "\n",
       "    .dataframe tbody tr th {\n",
       "        vertical-align: top;\n",
       "    }\n",
       "\n",
       "    .dataframe thead th {\n",
       "        text-align: right;\n",
       "    }\n",
       "</style>\n",
       "<table border=\"1\" class=\"dataframe\">\n",
       "  <thead>\n",
       "    <tr style=\"text-align: right;\">\n",
       "      <th></th>\n",
       "      <th>Food product</th>\n",
       "      <th>Type</th>\n",
       "      <th>Land Use Change</th>\n",
       "      <th>Feed</th>\n",
       "      <th>Farm</th>\n",
       "      <th>Processing</th>\n",
       "      <th>Transport</th>\n",
       "      <th>Packaging</th>\n",
       "      <th>Retail</th>\n",
       "      <th>Total from Land to Retail</th>\n",
       "      <th>Total Global Average GHG Emissions per kg</th>\n",
       "      <th>Unit of GHG Emissions</th>\n",
       "    </tr>\n",
       "  </thead>\n",
       "  <tbody>\n",
       "    <tr>\n",
       "      <th>3</th>\n",
       "      <td>Beef (beef herd)</td>\n",
       "      <td>animal</td>\n",
       "      <td>16.28</td>\n",
       "      <td>1.88</td>\n",
       "      <td>39.39</td>\n",
       "      <td>1.27</td>\n",
       "      <td>0.35</td>\n",
       "      <td>0.25</td>\n",
       "      <td>0.16</td>\n",
       "      <td>59.57</td>\n",
       "      <td>99.48</td>\n",
       "      <td>kg CO2e per kg food produced</td>\n",
       "    </tr>\n",
       "    <tr>\n",
       "      <th>4</th>\n",
       "      <td>Beef (dairy herd)</td>\n",
       "      <td>animal</td>\n",
       "      <td>0.91</td>\n",
       "      <td>2.51</td>\n",
       "      <td>15.69</td>\n",
       "      <td>1.11</td>\n",
       "      <td>0.42</td>\n",
       "      <td>0.27</td>\n",
       "      <td>0.18</td>\n",
       "      <td>21.09</td>\n",
       "      <td>33.30</td>\n",
       "      <td>kg CO2e per kg food produced</td>\n",
       "    </tr>\n",
       "    <tr>\n",
       "      <th>10</th>\n",
       "      <td>Cheese</td>\n",
       "      <td>animal</td>\n",
       "      <td>4.46</td>\n",
       "      <td>2.35</td>\n",
       "      <td>13.06</td>\n",
       "      <td>0.74</td>\n",
       "      <td>0.14</td>\n",
       "      <td>0.17</td>\n",
       "      <td>0.33</td>\n",
       "      <td>21.24</td>\n",
       "      <td>23.88</td>\n",
       "      <td>kg CO2e per kg food produced</td>\n",
       "    </tr>\n",
       "    <tr>\n",
       "      <th>14</th>\n",
       "      <td>Eggs</td>\n",
       "      <td>animal</td>\n",
       "      <td>0.71</td>\n",
       "      <td>2.20</td>\n",
       "      <td>1.32</td>\n",
       "      <td>0.00</td>\n",
       "      <td>0.08</td>\n",
       "      <td>0.16</td>\n",
       "      <td>0.04</td>\n",
       "      <td>4.51</td>\n",
       "      <td>4.67</td>\n",
       "      <td>kg CO2e per kg food produced</td>\n",
       "    </tr>\n",
       "    <tr>\n",
       "      <th>15</th>\n",
       "      <td>Fish (farmed)</td>\n",
       "      <td>animal</td>\n",
       "      <td>0.53</td>\n",
       "      <td>0.82</td>\n",
       "      <td>3.60</td>\n",
       "      <td>0.02</td>\n",
       "      <td>0.11</td>\n",
       "      <td>0.06</td>\n",
       "      <td>0.04</td>\n",
       "      <td>5.18</td>\n",
       "      <td>13.63</td>\n",
       "      <td>kg CO2e per kg food produced</td>\n",
       "    </tr>\n",
       "    <tr>\n",
       "      <th>17</th>\n",
       "      <td>Lamb &amp; Mutton</td>\n",
       "      <td>animal</td>\n",
       "      <td>0.47</td>\n",
       "      <td>2.37</td>\n",
       "      <td>19.51</td>\n",
       "      <td>1.11</td>\n",
       "      <td>0.49</td>\n",
       "      <td>0.25</td>\n",
       "      <td>0.22</td>\n",
       "      <td>24.41</td>\n",
       "      <td>39.72</td>\n",
       "      <td>kg CO2e per kg food produced</td>\n",
       "    </tr>\n",
       "    <tr>\n",
       "      <th>19</th>\n",
       "      <td>Milk</td>\n",
       "      <td>animal</td>\n",
       "      <td>0.49</td>\n",
       "      <td>0.24</td>\n",
       "      <td>1.46</td>\n",
       "      <td>0.15</td>\n",
       "      <td>0.09</td>\n",
       "      <td>0.10</td>\n",
       "      <td>0.26</td>\n",
       "      <td>2.78</td>\n",
       "      <td>3.15</td>\n",
       "      <td>kg CO2e per kg food produced</td>\n",
       "    </tr>\n",
       "    <tr>\n",
       "      <th>29</th>\n",
       "      <td>Pig Meat</td>\n",
       "      <td>animal</td>\n",
       "      <td>1.53</td>\n",
       "      <td>2.94</td>\n",
       "      <td>1.69</td>\n",
       "      <td>0.28</td>\n",
       "      <td>0.34</td>\n",
       "      <td>0.30</td>\n",
       "      <td>0.19</td>\n",
       "      <td>7.28</td>\n",
       "      <td>12.31</td>\n",
       "      <td>kg CO2e per kg food produced</td>\n",
       "    </tr>\n",
       "    <tr>\n",
       "      <th>31</th>\n",
       "      <td>Poultry Meat</td>\n",
       "      <td>animal</td>\n",
       "      <td>2.54</td>\n",
       "      <td>1.77</td>\n",
       "      <td>0.67</td>\n",
       "      <td>0.44</td>\n",
       "      <td>0.28</td>\n",
       "      <td>0.21</td>\n",
       "      <td>0.18</td>\n",
       "      <td>6.09</td>\n",
       "      <td>9.87</td>\n",
       "      <td>kg CO2e per kg food produced</td>\n",
       "    </tr>\n",
       "    <tr>\n",
       "      <th>35</th>\n",
       "      <td>Shrimps (farmed)</td>\n",
       "      <td>animal</td>\n",
       "      <td>0.21</td>\n",
       "      <td>2.51</td>\n",
       "      <td>8.38</td>\n",
       "      <td>0.00</td>\n",
       "      <td>0.21</td>\n",
       "      <td>0.33</td>\n",
       "      <td>0.22</td>\n",
       "      <td>11.85</td>\n",
       "      <td>26.87</td>\n",
       "      <td>kg CO2e per kg food produced</td>\n",
       "    </tr>\n",
       "  </tbody>\n",
       "</table>\n",
       "</div>"
      ],
      "text/plain": [
       "         Food product    Type  Land Use Change  Feed  Farm  Processing  \\\n",
       "3    Beef (beef herd)  animal            16.28  1.88 39.39        1.27   \n",
       "4   Beef (dairy herd)  animal             0.91  2.51 15.69        1.11   \n",
       "10             Cheese  animal             4.46  2.35 13.06        0.74   \n",
       "14               Eggs  animal             0.71  2.20  1.32        0.00   \n",
       "15      Fish (farmed)  animal             0.53  0.82  3.60        0.02   \n",
       "17      Lamb & Mutton  animal             0.47  2.37 19.51        1.11   \n",
       "19               Milk  animal             0.49  0.24  1.46        0.15   \n",
       "29           Pig Meat  animal             1.53  2.94  1.69        0.28   \n",
       "31       Poultry Meat  animal             2.54  1.77  0.67        0.44   \n",
       "35   Shrimps (farmed)  animal             0.21  2.51  8.38        0.00   \n",
       "\n",
       "    Transport  Packaging  Retail  Total from Land to Retail  \\\n",
       "3        0.35       0.25    0.16                      59.57   \n",
       "4        0.42       0.27    0.18                      21.09   \n",
       "10       0.14       0.17    0.33                      21.24   \n",
       "14       0.08       0.16    0.04                       4.51   \n",
       "15       0.11       0.06    0.04                       5.18   \n",
       "17       0.49       0.25    0.22                      24.41   \n",
       "19       0.09       0.10    0.26                       2.78   \n",
       "29       0.34       0.30    0.19                       7.28   \n",
       "31       0.28       0.21    0.18                       6.09   \n",
       "35       0.21       0.33    0.22                      11.85   \n",
       "\n",
       "    Total Global Average GHG Emissions per kg         Unit of GHG Emissions  \n",
       "3                                       99.48  kg CO2e per kg food produced  \n",
       "4                                       33.30  kg CO2e per kg food produced  \n",
       "10                                      23.88  kg CO2e per kg food produced  \n",
       "14                                       4.67  kg CO2e per kg food produced  \n",
       "15                                      13.63  kg CO2e per kg food produced  \n",
       "17                                      39.72  kg CO2e per kg food produced  \n",
       "19                                       3.15  kg CO2e per kg food produced  \n",
       "29                                      12.31  kg CO2e per kg food produced  \n",
       "31                                       9.87  kg CO2e per kg food produced  \n",
       "35                                      26.87  kg CO2e per kg food produced  "
      ]
     },
     "execution_count": 13,
     "metadata": {},
     "output_type": "execute_result"
    }
   ],
   "source": [
    "animal_products = data[data['Type'] == 'animal']\n",
    "animal_products"
   ]
  },
  {
   "cell_type": "code",
   "execution_count": 14,
   "metadata": {},
   "outputs": [
    {
     "data": {
      "text/html": [
       "<div>\n",
       "<style scoped>\n",
       "    .dataframe tbody tr th:only-of-type {\n",
       "        vertical-align: middle;\n",
       "    }\n",
       "\n",
       "    .dataframe tbody tr th {\n",
       "        vertical-align: top;\n",
       "    }\n",
       "\n",
       "    .dataframe thead th {\n",
       "        text-align: right;\n",
       "    }\n",
       "</style>\n",
       "<table border=\"1\" class=\"dataframe\">\n",
       "  <thead>\n",
       "    <tr style=\"text-align: right;\">\n",
       "      <th></th>\n",
       "      <th>Food product</th>\n",
       "      <th>Type</th>\n",
       "      <th>Land Use Change</th>\n",
       "      <th>Feed</th>\n",
       "      <th>Farm</th>\n",
       "      <th>Processing</th>\n",
       "      <th>Transport</th>\n",
       "      <th>Packaging</th>\n",
       "      <th>Retail</th>\n",
       "      <th>Total from Land to Retail</th>\n",
       "      <th>Total Global Average GHG Emissions per kg</th>\n",
       "      <th>Unit of GHG Emissions</th>\n",
       "    </tr>\n",
       "  </thead>\n",
       "  <tbody>\n",
       "    <tr>\n",
       "      <th>0</th>\n",
       "      <td>Apples</td>\n",
       "      <td>plant</td>\n",
       "      <td>-0.03</td>\n",
       "      <td>0.00</td>\n",
       "      <td>0.23</td>\n",
       "      <td>0.00</td>\n",
       "      <td>0.10</td>\n",
       "      <td>0.04</td>\n",
       "      <td>0.02</td>\n",
       "      <td>0.36</td>\n",
       "      <td>0.43</td>\n",
       "      <td>kg CO2e per kg food produced</td>\n",
       "    </tr>\n",
       "    <tr>\n",
       "      <th>1</th>\n",
       "      <td>Bananas</td>\n",
       "      <td>plant</td>\n",
       "      <td>-0.03</td>\n",
       "      <td>0.00</td>\n",
       "      <td>0.27</td>\n",
       "      <td>0.06</td>\n",
       "      <td>0.29</td>\n",
       "      <td>0.07</td>\n",
       "      <td>0.02</td>\n",
       "      <td>0.68</td>\n",
       "      <td>0.86</td>\n",
       "      <td>kg CO2e per kg food produced</td>\n",
       "    </tr>\n",
       "    <tr>\n",
       "      <th>2</th>\n",
       "      <td>Barley</td>\n",
       "      <td>plant</td>\n",
       "      <td>0.01</td>\n",
       "      <td>0.00</td>\n",
       "      <td>0.18</td>\n",
       "      <td>0.13</td>\n",
       "      <td>0.04</td>\n",
       "      <td>0.50</td>\n",
       "      <td>0.26</td>\n",
       "      <td>1.11</td>\n",
       "      <td>1.18</td>\n",
       "      <td>kg CO2e per kg food produced</td>\n",
       "    </tr>\n",
       "    <tr>\n",
       "      <th>5</th>\n",
       "      <td>Beet Sugar</td>\n",
       "      <td>plant</td>\n",
       "      <td>0.00</td>\n",
       "      <td>0.00</td>\n",
       "      <td>0.54</td>\n",
       "      <td>0.24</td>\n",
       "      <td>0.63</td>\n",
       "      <td>0.09</td>\n",
       "      <td>0.04</td>\n",
       "      <td>1.54</td>\n",
       "      <td>1.81</td>\n",
       "      <td>kg CO2e per kg food produced</td>\n",
       "    </tr>\n",
       "    <tr>\n",
       "      <th>6</th>\n",
       "      <td>Berries &amp; Grapes</td>\n",
       "      <td>plant</td>\n",
       "      <td>0.03</td>\n",
       "      <td>0.00</td>\n",
       "      <td>0.72</td>\n",
       "      <td>0.00</td>\n",
       "      <td>0.24</td>\n",
       "      <td>0.21</td>\n",
       "      <td>0.02</td>\n",
       "      <td>1.21</td>\n",
       "      <td>1.53</td>\n",
       "      <td>kg CO2e per kg food produced</td>\n",
       "    </tr>\n",
       "    <tr>\n",
       "      <th>7</th>\n",
       "      <td>Brassicas</td>\n",
       "      <td>plant</td>\n",
       "      <td>0.00</td>\n",
       "      <td>0.00</td>\n",
       "      <td>0.28</td>\n",
       "      <td>0.00</td>\n",
       "      <td>0.10</td>\n",
       "      <td>0.04</td>\n",
       "      <td>0.02</td>\n",
       "      <td>0.44</td>\n",
       "      <td>0.51</td>\n",
       "      <td>kg CO2e per kg food produced</td>\n",
       "    </tr>\n",
       "    <tr>\n",
       "      <th>8</th>\n",
       "      <td>Cane Sugar</td>\n",
       "      <td>plant</td>\n",
       "      <td>1.25</td>\n",
       "      <td>0.00</td>\n",
       "      <td>0.48</td>\n",
       "      <td>0.04</td>\n",
       "      <td>0.78</td>\n",
       "      <td>0.08</td>\n",
       "      <td>0.04</td>\n",
       "      <td>2.67</td>\n",
       "      <td>3.20</td>\n",
       "      <td>kg CO2e per kg food produced</td>\n",
       "    </tr>\n",
       "    <tr>\n",
       "      <th>9</th>\n",
       "      <td>Cassava</td>\n",
       "      <td>plant</td>\n",
       "      <td>0.59</td>\n",
       "      <td>0.00</td>\n",
       "      <td>0.22</td>\n",
       "      <td>0.00</td>\n",
       "      <td>0.09</td>\n",
       "      <td>0.04</td>\n",
       "      <td>0.04</td>\n",
       "      <td>0.99</td>\n",
       "      <td>1.32</td>\n",
       "      <td>kg CO2e per kg food produced</td>\n",
       "    </tr>\n",
       "    <tr>\n",
       "      <th>11</th>\n",
       "      <td>Citrus Fruit</td>\n",
       "      <td>plant</td>\n",
       "      <td>-0.15</td>\n",
       "      <td>0.00</td>\n",
       "      <td>0.31</td>\n",
       "      <td>0.00</td>\n",
       "      <td>0.09</td>\n",
       "      <td>0.04</td>\n",
       "      <td>0.02</td>\n",
       "      <td>0.32</td>\n",
       "      <td>0.39</td>\n",
       "      <td>kg CO2e per kg food produced</td>\n",
       "    </tr>\n",
       "    <tr>\n",
       "      <th>12</th>\n",
       "      <td>Coffee</td>\n",
       "      <td>plant</td>\n",
       "      <td>3.69</td>\n",
       "      <td>0.00</td>\n",
       "      <td>10.39</td>\n",
       "      <td>0.59</td>\n",
       "      <td>0.13</td>\n",
       "      <td>1.63</td>\n",
       "      <td>0.05</td>\n",
       "      <td>16.48</td>\n",
       "      <td>28.53</td>\n",
       "      <td>kg CO2e per kg food produced</td>\n",
       "    </tr>\n",
       "    <tr>\n",
       "      <th>13</th>\n",
       "      <td>Dark Chocolate</td>\n",
       "      <td>plant</td>\n",
       "      <td>14.31</td>\n",
       "      <td>0.00</td>\n",
       "      <td>3.71</td>\n",
       "      <td>0.18</td>\n",
       "      <td>0.06</td>\n",
       "      <td>0.40</td>\n",
       "      <td>0.02</td>\n",
       "      <td>18.68</td>\n",
       "      <td>46.65</td>\n",
       "      <td>kg CO2e per kg food produced</td>\n",
       "    </tr>\n",
       "    <tr>\n",
       "      <th>16</th>\n",
       "      <td>Groundnuts</td>\n",
       "      <td>plant</td>\n",
       "      <td>0.44</td>\n",
       "      <td>0.00</td>\n",
       "      <td>1.43</td>\n",
       "      <td>0.37</td>\n",
       "      <td>0.12</td>\n",
       "      <td>0.10</td>\n",
       "      <td>0.04</td>\n",
       "      <td>2.50</td>\n",
       "      <td>3.23</td>\n",
       "      <td>kg CO2e per kg food produced</td>\n",
       "    </tr>\n",
       "    <tr>\n",
       "      <th>18</th>\n",
       "      <td>Maize</td>\n",
       "      <td>plant</td>\n",
       "      <td>0.32</td>\n",
       "      <td>0.00</td>\n",
       "      <td>0.47</td>\n",
       "      <td>0.05</td>\n",
       "      <td>0.06</td>\n",
       "      <td>0.06</td>\n",
       "      <td>0.03</td>\n",
       "      <td>0.99</td>\n",
       "      <td>1.70</td>\n",
       "      <td>kg CO2e per kg food produced</td>\n",
       "    </tr>\n",
       "    <tr>\n",
       "      <th>20</th>\n",
       "      <td>Nuts</td>\n",
       "      <td>plant</td>\n",
       "      <td>-2.05</td>\n",
       "      <td>0.00</td>\n",
       "      <td>2.13</td>\n",
       "      <td>0.03</td>\n",
       "      <td>0.07</td>\n",
       "      <td>0.08</td>\n",
       "      <td>0.03</td>\n",
       "      <td>0.28</td>\n",
       "      <td>0.43</td>\n",
       "      <td>kg CO2e per kg food produced</td>\n",
       "    </tr>\n",
       "    <tr>\n",
       "      <th>21</th>\n",
       "      <td>Oatmeal</td>\n",
       "      <td>plant</td>\n",
       "      <td>0.00</td>\n",
       "      <td>0.00</td>\n",
       "      <td>1.37</td>\n",
       "      <td>0.04</td>\n",
       "      <td>0.07</td>\n",
       "      <td>0.07</td>\n",
       "      <td>0.03</td>\n",
       "      <td>1.57</td>\n",
       "      <td>2.48</td>\n",
       "      <td>kg CO2e per kg food produced</td>\n",
       "    </tr>\n",
       "    <tr>\n",
       "      <th>22</th>\n",
       "      <td>Olive Oil</td>\n",
       "      <td>plant</td>\n",
       "      <td>-0.38</td>\n",
       "      <td>0.00</td>\n",
       "      <td>4.27</td>\n",
       "      <td>0.66</td>\n",
       "      <td>0.48</td>\n",
       "      <td>0.86</td>\n",
       "      <td>0.05</td>\n",
       "      <td>5.94</td>\n",
       "      <td>5.42</td>\n",
       "      <td>kg CO2e per kg food produced</td>\n",
       "    </tr>\n",
       "    <tr>\n",
       "      <th>23</th>\n",
       "      <td>Onions &amp; Leeks</td>\n",
       "      <td>plant</td>\n",
       "      <td>0.01</td>\n",
       "      <td>0.00</td>\n",
       "      <td>0.21</td>\n",
       "      <td>0.00</td>\n",
       "      <td>0.10</td>\n",
       "      <td>0.04</td>\n",
       "      <td>0.04</td>\n",
       "      <td>0.40</td>\n",
       "      <td>0.50</td>\n",
       "      <td>kg CO2e per kg food produced</td>\n",
       "    </tr>\n",
       "    <tr>\n",
       "      <th>24</th>\n",
       "      <td>Other Fruit</td>\n",
       "      <td>plant</td>\n",
       "      <td>0.13</td>\n",
       "      <td>0.00</td>\n",
       "      <td>0.37</td>\n",
       "      <td>0.01</td>\n",
       "      <td>0.18</td>\n",
       "      <td>0.04</td>\n",
       "      <td>0.02</td>\n",
       "      <td>0.75</td>\n",
       "      <td>1.05</td>\n",
       "      <td>kg CO2e per kg food produced</td>\n",
       "    </tr>\n",
       "    <tr>\n",
       "      <th>25</th>\n",
       "      <td>Other Pulses</td>\n",
       "      <td>plant</td>\n",
       "      <td>0.03</td>\n",
       "      <td>0.00</td>\n",
       "      <td>1.09</td>\n",
       "      <td>0.00</td>\n",
       "      <td>0.10</td>\n",
       "      <td>0.35</td>\n",
       "      <td>0.04</td>\n",
       "      <td>1.61</td>\n",
       "      <td>1.79</td>\n",
       "      <td>kg CO2e per kg food produced</td>\n",
       "    </tr>\n",
       "    <tr>\n",
       "      <th>26</th>\n",
       "      <td>Other Vegetables</td>\n",
       "      <td>plant</td>\n",
       "      <td>0.00</td>\n",
       "      <td>0.00</td>\n",
       "      <td>0.17</td>\n",
       "      <td>0.06</td>\n",
       "      <td>0.16</td>\n",
       "      <td>0.04</td>\n",
       "      <td>0.01</td>\n",
       "      <td>0.46</td>\n",
       "      <td>0.53</td>\n",
       "      <td>kg CO2e per kg food produced</td>\n",
       "    </tr>\n",
       "    <tr>\n",
       "      <th>27</th>\n",
       "      <td>Palm Oil</td>\n",
       "      <td>plant</td>\n",
       "      <td>3.10</td>\n",
       "      <td>0.00</td>\n",
       "      <td>2.11</td>\n",
       "      <td>1.26</td>\n",
       "      <td>0.21</td>\n",
       "      <td>0.89</td>\n",
       "      <td>0.04</td>\n",
       "      <td>7.61</td>\n",
       "      <td>7.32</td>\n",
       "      <td>kg CO2e per kg food produced</td>\n",
       "    </tr>\n",
       "    <tr>\n",
       "      <th>28</th>\n",
       "      <td>Peas</td>\n",
       "      <td>plant</td>\n",
       "      <td>0.00</td>\n",
       "      <td>0.00</td>\n",
       "      <td>0.72</td>\n",
       "      <td>0.00</td>\n",
       "      <td>0.10</td>\n",
       "      <td>0.04</td>\n",
       "      <td>0.04</td>\n",
       "      <td>0.90</td>\n",
       "      <td>0.98</td>\n",
       "      <td>kg CO2e per kg food produced</td>\n",
       "    </tr>\n",
       "    <tr>\n",
       "      <th>30</th>\n",
       "      <td>Potatoes</td>\n",
       "      <td>plant</td>\n",
       "      <td>-0.00</td>\n",
       "      <td>0.00</td>\n",
       "      <td>0.19</td>\n",
       "      <td>0.00</td>\n",
       "      <td>0.09</td>\n",
       "      <td>0.04</td>\n",
       "      <td>0.04</td>\n",
       "      <td>0.37</td>\n",
       "      <td>0.46</td>\n",
       "      <td>kg CO2e per kg food produced</td>\n",
       "    </tr>\n",
       "    <tr>\n",
       "      <th>32</th>\n",
       "      <td>Rapeseed Oil</td>\n",
       "      <td>plant</td>\n",
       "      <td>0.21</td>\n",
       "      <td>0.00</td>\n",
       "      <td>2.34</td>\n",
       "      <td>0.19</td>\n",
       "      <td>0.19</td>\n",
       "      <td>0.84</td>\n",
       "      <td>0.05</td>\n",
       "      <td>3.83</td>\n",
       "      <td>3.77</td>\n",
       "      <td>kg CO2e per kg food produced</td>\n",
       "    </tr>\n",
       "    <tr>\n",
       "      <th>33</th>\n",
       "      <td>Rice</td>\n",
       "      <td>plant</td>\n",
       "      <td>-0.02</td>\n",
       "      <td>0.00</td>\n",
       "      <td>3.55</td>\n",
       "      <td>0.07</td>\n",
       "      <td>0.10</td>\n",
       "      <td>0.08</td>\n",
       "      <td>0.06</td>\n",
       "      <td>3.84</td>\n",
       "      <td>4.45</td>\n",
       "      <td>kg CO2e per kg food produced</td>\n",
       "    </tr>\n",
       "    <tr>\n",
       "      <th>34</th>\n",
       "      <td>Root Vegetables</td>\n",
       "      <td>plant</td>\n",
       "      <td>0.01</td>\n",
       "      <td>0.00</td>\n",
       "      <td>0.15</td>\n",
       "      <td>0.00</td>\n",
       "      <td>0.11</td>\n",
       "      <td>0.04</td>\n",
       "      <td>0.04</td>\n",
       "      <td>0.36</td>\n",
       "      <td>0.43</td>\n",
       "      <td>kg CO2e per kg food produced</td>\n",
       "    </tr>\n",
       "    <tr>\n",
       "      <th>36</th>\n",
       "      <td>Soybean Oil</td>\n",
       "      <td>plant</td>\n",
       "      <td>3.10</td>\n",
       "      <td>0.00</td>\n",
       "      <td>1.52</td>\n",
       "      <td>0.31</td>\n",
       "      <td>0.30</td>\n",
       "      <td>0.85</td>\n",
       "      <td>0.04</td>\n",
       "      <td>6.12</td>\n",
       "      <td>6.32</td>\n",
       "      <td>kg CO2e per kg food produced</td>\n",
       "    </tr>\n",
       "    <tr>\n",
       "      <th>37</th>\n",
       "      <td>Soymilk</td>\n",
       "      <td>plant</td>\n",
       "      <td>0.18</td>\n",
       "      <td>0.00</td>\n",
       "      <td>0.09</td>\n",
       "      <td>0.16</td>\n",
       "      <td>0.11</td>\n",
       "      <td>0.10</td>\n",
       "      <td>0.27</td>\n",
       "      <td>0.91</td>\n",
       "      <td>0.98</td>\n",
       "      <td>kg CO2e per kg food produced</td>\n",
       "    </tr>\n",
       "    <tr>\n",
       "      <th>38</th>\n",
       "      <td>Sunflower Oil</td>\n",
       "      <td>plant</td>\n",
       "      <td>0.13</td>\n",
       "      <td>0.00</td>\n",
       "      <td>2.15</td>\n",
       "      <td>0.23</td>\n",
       "      <td>0.20</td>\n",
       "      <td>0.85</td>\n",
       "      <td>0.04</td>\n",
       "      <td>3.61</td>\n",
       "      <td>3.60</td>\n",
       "      <td>kg CO2e per kg food produced</td>\n",
       "    </tr>\n",
       "    <tr>\n",
       "      <th>39</th>\n",
       "      <td>Tofu</td>\n",
       "      <td>plant</td>\n",
       "      <td>0.96</td>\n",
       "      <td>0.00</td>\n",
       "      <td>0.49</td>\n",
       "      <td>0.79</td>\n",
       "      <td>0.18</td>\n",
       "      <td>0.18</td>\n",
       "      <td>0.27</td>\n",
       "      <td>2.87</td>\n",
       "      <td>3.16</td>\n",
       "      <td>kg CO2e per kg food produced</td>\n",
       "    </tr>\n",
       "    <tr>\n",
       "      <th>40</th>\n",
       "      <td>Tomatoes</td>\n",
       "      <td>plant</td>\n",
       "      <td>0.37</td>\n",
       "      <td>0.00</td>\n",
       "      <td>0.70</td>\n",
       "      <td>0.01</td>\n",
       "      <td>0.18</td>\n",
       "      <td>0.14</td>\n",
       "      <td>0.02</td>\n",
       "      <td>1.43</td>\n",
       "      <td>2.09</td>\n",
       "      <td>kg CO2e per kg food produced</td>\n",
       "    </tr>\n",
       "    <tr>\n",
       "      <th>41</th>\n",
       "      <td>Wheat &amp; Rye</td>\n",
       "      <td>plant</td>\n",
       "      <td>0.10</td>\n",
       "      <td>0.00</td>\n",
       "      <td>0.85</td>\n",
       "      <td>0.22</td>\n",
       "      <td>0.13</td>\n",
       "      <td>0.09</td>\n",
       "      <td>0.06</td>\n",
       "      <td>1.44</td>\n",
       "      <td>1.57</td>\n",
       "      <td>kg CO2e per kg food produced</td>\n",
       "    </tr>\n",
       "    <tr>\n",
       "      <th>42</th>\n",
       "      <td>Wine</td>\n",
       "      <td>plant</td>\n",
       "      <td>-0.06</td>\n",
       "      <td>0.00</td>\n",
       "      <td>0.63</td>\n",
       "      <td>0.14</td>\n",
       "      <td>0.09</td>\n",
       "      <td>0.75</td>\n",
       "      <td>0.04</td>\n",
       "      <td>1.58</td>\n",
       "      <td>1.79</td>\n",
       "      <td>kg CO2e per kg food produced</td>\n",
       "    </tr>\n",
       "  </tbody>\n",
       "</table>\n",
       "</div>"
      ],
      "text/plain": [
       "        Food product   Type  Land Use Change  Feed  Farm  Processing  \\\n",
       "0             Apples  plant            -0.03  0.00  0.23        0.00   \n",
       "1            Bananas  plant            -0.03  0.00  0.27        0.06   \n",
       "2             Barley  plant             0.01  0.00  0.18        0.13   \n",
       "5         Beet Sugar  plant             0.00  0.00  0.54        0.24   \n",
       "6   Berries & Grapes  plant             0.03  0.00  0.72        0.00   \n",
       "7          Brassicas  plant             0.00  0.00  0.28        0.00   \n",
       "8         Cane Sugar  plant             1.25  0.00  0.48        0.04   \n",
       "9            Cassava  plant             0.59  0.00  0.22        0.00   \n",
       "11      Citrus Fruit  plant            -0.15  0.00  0.31        0.00   \n",
       "12            Coffee  plant             3.69  0.00 10.39        0.59   \n",
       "13    Dark Chocolate  plant            14.31  0.00  3.71        0.18   \n",
       "16        Groundnuts  plant             0.44  0.00  1.43        0.37   \n",
       "18             Maize  plant             0.32  0.00  0.47        0.05   \n",
       "20              Nuts  plant            -2.05  0.00  2.13        0.03   \n",
       "21           Oatmeal  plant             0.00  0.00  1.37        0.04   \n",
       "22         Olive Oil  plant            -0.38  0.00  4.27        0.66   \n",
       "23    Onions & Leeks  plant             0.01  0.00  0.21        0.00   \n",
       "24       Other Fruit  plant             0.13  0.00  0.37        0.01   \n",
       "25      Other Pulses  plant             0.03  0.00  1.09        0.00   \n",
       "26  Other Vegetables  plant             0.00  0.00  0.17        0.06   \n",
       "27          Palm Oil  plant             3.10  0.00  2.11        1.26   \n",
       "28              Peas  plant             0.00  0.00  0.72        0.00   \n",
       "30          Potatoes  plant            -0.00  0.00  0.19        0.00   \n",
       "32      Rapeseed Oil  plant             0.21  0.00  2.34        0.19   \n",
       "33              Rice  plant            -0.02  0.00  3.55        0.07   \n",
       "34   Root Vegetables  plant             0.01  0.00  0.15        0.00   \n",
       "36       Soybean Oil  plant             3.10  0.00  1.52        0.31   \n",
       "37           Soymilk  plant             0.18  0.00  0.09        0.16   \n",
       "38     Sunflower Oil  plant             0.13  0.00  2.15        0.23   \n",
       "39              Tofu  plant             0.96  0.00  0.49        0.79   \n",
       "40          Tomatoes  plant             0.37  0.00  0.70        0.01   \n",
       "41       Wheat & Rye  plant             0.10  0.00  0.85        0.22   \n",
       "42              Wine  plant            -0.06  0.00  0.63        0.14   \n",
       "\n",
       "    Transport  Packaging  Retail  Total from Land to Retail  \\\n",
       "0        0.10       0.04    0.02                       0.36   \n",
       "1        0.29       0.07    0.02                       0.68   \n",
       "2        0.04       0.50    0.26                       1.11   \n",
       "5        0.63       0.09    0.04                       1.54   \n",
       "6        0.24       0.21    0.02                       1.21   \n",
       "7        0.10       0.04    0.02                       0.44   \n",
       "8        0.78       0.08    0.04                       2.67   \n",
       "9        0.09       0.04    0.04                       0.99   \n",
       "11       0.09       0.04    0.02                       0.32   \n",
       "12       0.13       1.63    0.05                      16.48   \n",
       "13       0.06       0.40    0.02                      18.68   \n",
       "16       0.12       0.10    0.04                       2.50   \n",
       "18       0.06       0.06    0.03                       0.99   \n",
       "20       0.07       0.08    0.03                       0.28   \n",
       "21       0.07       0.07    0.03                       1.57   \n",
       "22       0.48       0.86    0.05                       5.94   \n",
       "23       0.10       0.04    0.04                       0.40   \n",
       "24       0.18       0.04    0.02                       0.75   \n",
       "25       0.10       0.35    0.04                       1.61   \n",
       "26       0.16       0.04    0.01                       0.46   \n",
       "27       0.21       0.89    0.04                       7.61   \n",
       "28       0.10       0.04    0.04                       0.90   \n",
       "30       0.09       0.04    0.04                       0.37   \n",
       "32       0.19       0.84    0.05                       3.83   \n",
       "33       0.10       0.08    0.06                       3.84   \n",
       "34       0.11       0.04    0.04                       0.36   \n",
       "36       0.30       0.85    0.04                       6.12   \n",
       "37       0.11       0.10    0.27                       0.91   \n",
       "38       0.20       0.85    0.04                       3.61   \n",
       "39       0.18       0.18    0.27                       2.87   \n",
       "40       0.18       0.14    0.02                       1.43   \n",
       "41       0.13       0.09    0.06                       1.44   \n",
       "42       0.09       0.75    0.04                       1.58   \n",
       "\n",
       "    Total Global Average GHG Emissions per kg         Unit of GHG Emissions  \n",
       "0                                        0.43  kg CO2e per kg food produced  \n",
       "1                                        0.86  kg CO2e per kg food produced  \n",
       "2                                        1.18  kg CO2e per kg food produced  \n",
       "5                                        1.81  kg CO2e per kg food produced  \n",
       "6                                        1.53  kg CO2e per kg food produced  \n",
       "7                                        0.51  kg CO2e per kg food produced  \n",
       "8                                        3.20  kg CO2e per kg food produced  \n",
       "9                                        1.32  kg CO2e per kg food produced  \n",
       "11                                       0.39  kg CO2e per kg food produced  \n",
       "12                                      28.53  kg CO2e per kg food produced  \n",
       "13                                      46.65  kg CO2e per kg food produced  \n",
       "16                                       3.23  kg CO2e per kg food produced  \n",
       "18                                       1.70  kg CO2e per kg food produced  \n",
       "20                                       0.43  kg CO2e per kg food produced  \n",
       "21                                       2.48  kg CO2e per kg food produced  \n",
       "22                                       5.42  kg CO2e per kg food produced  \n",
       "23                                       0.50  kg CO2e per kg food produced  \n",
       "24                                       1.05  kg CO2e per kg food produced  \n",
       "25                                       1.79  kg CO2e per kg food produced  \n",
       "26                                       0.53  kg CO2e per kg food produced  \n",
       "27                                       7.32  kg CO2e per kg food produced  \n",
       "28                                       0.98  kg CO2e per kg food produced  \n",
       "30                                       0.46  kg CO2e per kg food produced  \n",
       "32                                       3.77  kg CO2e per kg food produced  \n",
       "33                                       4.45  kg CO2e per kg food produced  \n",
       "34                                       0.43  kg CO2e per kg food produced  \n",
       "36                                       6.32  kg CO2e per kg food produced  \n",
       "37                                       0.98  kg CO2e per kg food produced  \n",
       "38                                       3.60  kg CO2e per kg food produced  \n",
       "39                                       3.16  kg CO2e per kg food produced  \n",
       "40                                       2.09  kg CO2e per kg food produced  \n",
       "41                                       1.57  kg CO2e per kg food produced  \n",
       "42                                       1.79  kg CO2e per kg food produced  "
      ]
     },
     "execution_count": 14,
     "metadata": {},
     "output_type": "execute_result"
    }
   ],
   "source": [
    "plant_products = data[data['Type'] == 'plant']\n",
    "plant_products"
   ]
  },
  {
   "cell_type": "code",
   "execution_count": 15,
   "metadata": {},
   "outputs": [
    {
     "data": {
      "text/html": [
       "<div>\n",
       "<style scoped>\n",
       "    .dataframe tbody tr th:only-of-type {\n",
       "        vertical-align: middle;\n",
       "    }\n",
       "\n",
       "    .dataframe tbody tr th {\n",
       "        vertical-align: top;\n",
       "    }\n",
       "\n",
       "    .dataframe thead th {\n",
       "        text-align: right;\n",
       "    }\n",
       "</style>\n",
       "<table border=\"1\" class=\"dataframe\">\n",
       "  <thead>\n",
       "    <tr style=\"text-align: right;\">\n",
       "      <th></th>\n",
       "      <th>Land Use Change</th>\n",
       "      <th>Feed</th>\n",
       "      <th>Farm</th>\n",
       "      <th>Processing</th>\n",
       "      <th>Transport</th>\n",
       "      <th>Packaging</th>\n",
       "      <th>Retail</th>\n",
       "      <th>Total from Land to Retail</th>\n",
       "      <th>Total Global Average GHG Emissions per kg</th>\n",
       "    </tr>\n",
       "  </thead>\n",
       "  <tbody>\n",
       "    <tr>\n",
       "      <th>count</th>\n",
       "      <td>10.00</td>\n",
       "      <td>10.00</td>\n",
       "      <td>10.00</td>\n",
       "      <td>10.00</td>\n",
       "      <td>10.00</td>\n",
       "      <td>10.00</td>\n",
       "      <td>10.00</td>\n",
       "      <td>10.00</td>\n",
       "      <td>10.00</td>\n",
       "    </tr>\n",
       "    <tr>\n",
       "      <th>mean</th>\n",
       "      <td>2.81</td>\n",
       "      <td>1.96</td>\n",
       "      <td>10.48</td>\n",
       "      <td>0.51</td>\n",
       "      <td>0.25</td>\n",
       "      <td>0.21</td>\n",
       "      <td>0.18</td>\n",
       "      <td>16.40</td>\n",
       "      <td>26.69</td>\n",
       "    </tr>\n",
       "    <tr>\n",
       "      <th>std</th>\n",
       "      <td>4.91</td>\n",
       "      <td>0.83</td>\n",
       "      <td>12.21</td>\n",
       "      <td>0.50</td>\n",
       "      <td>0.15</td>\n",
       "      <td>0.09</td>\n",
       "      <td>0.09</td>\n",
       "      <td>17.11</td>\n",
       "      <td>28.32</td>\n",
       "    </tr>\n",
       "    <tr>\n",
       "      <th>min</th>\n",
       "      <td>0.21</td>\n",
       "      <td>0.24</td>\n",
       "      <td>0.67</td>\n",
       "      <td>0.00</td>\n",
       "      <td>0.08</td>\n",
       "      <td>0.06</td>\n",
       "      <td>0.04</td>\n",
       "      <td>2.78</td>\n",
       "      <td>3.15</td>\n",
       "    </tr>\n",
       "    <tr>\n",
       "      <th>25%</th>\n",
       "      <td>0.50</td>\n",
       "      <td>1.80</td>\n",
       "      <td>1.52</td>\n",
       "      <td>0.05</td>\n",
       "      <td>0.12</td>\n",
       "      <td>0.16</td>\n",
       "      <td>0.17</td>\n",
       "      <td>5.41</td>\n",
       "      <td>10.48</td>\n",
       "    </tr>\n",
       "    <tr>\n",
       "      <th>50%</th>\n",
       "      <td>0.81</td>\n",
       "      <td>2.27</td>\n",
       "      <td>5.99</td>\n",
       "      <td>0.36</td>\n",
       "      <td>0.24</td>\n",
       "      <td>0.23</td>\n",
       "      <td>0.19</td>\n",
       "      <td>9.57</td>\n",
       "      <td>18.75</td>\n",
       "    </tr>\n",
       "    <tr>\n",
       "      <th>75%</th>\n",
       "      <td>2.29</td>\n",
       "      <td>2.47</td>\n",
       "      <td>15.03</td>\n",
       "      <td>1.02</td>\n",
       "      <td>0.35</td>\n",
       "      <td>0.26</td>\n",
       "      <td>0.22</td>\n",
       "      <td>21.20</td>\n",
       "      <td>31.69</td>\n",
       "    </tr>\n",
       "    <tr>\n",
       "      <th>max</th>\n",
       "      <td>16.28</td>\n",
       "      <td>2.94</td>\n",
       "      <td>39.39</td>\n",
       "      <td>1.27</td>\n",
       "      <td>0.49</td>\n",
       "      <td>0.33</td>\n",
       "      <td>0.33</td>\n",
       "      <td>59.57</td>\n",
       "      <td>99.48</td>\n",
       "    </tr>\n",
       "  </tbody>\n",
       "</table>\n",
       "</div>"
      ],
      "text/plain": [
       "       Land Use Change  Feed  Farm  Processing  Transport  Packaging  Retail  \\\n",
       "count            10.00 10.00 10.00       10.00      10.00      10.00   10.00   \n",
       "mean              2.81  1.96 10.48        0.51       0.25       0.21    0.18   \n",
       "std               4.91  0.83 12.21        0.50       0.15       0.09    0.09   \n",
       "min               0.21  0.24  0.67        0.00       0.08       0.06    0.04   \n",
       "25%               0.50  1.80  1.52        0.05       0.12       0.16    0.17   \n",
       "50%               0.81  2.27  5.99        0.36       0.24       0.23    0.19   \n",
       "75%               2.29  2.47 15.03        1.02       0.35       0.26    0.22   \n",
       "max              16.28  2.94 39.39        1.27       0.49       0.33    0.33   \n",
       "\n",
       "       Total from Land to Retail  Total Global Average GHG Emissions per kg  \n",
       "count                      10.00                                      10.00  \n",
       "mean                       16.40                                      26.69  \n",
       "std                        17.11                                      28.32  \n",
       "min                         2.78                                       3.15  \n",
       "25%                         5.41                                      10.48  \n",
       "50%                         9.57                                      18.75  \n",
       "75%                        21.20                                      31.69  \n",
       "max                        59.57                                      99.48  "
      ]
     },
     "execution_count": 15,
     "metadata": {},
     "output_type": "execute_result"
    }
   ],
   "source": [
    "animal_products.describe()"
   ]
  },
  {
   "cell_type": "code",
   "execution_count": 16,
   "metadata": {},
   "outputs": [
    {
     "data": {
      "text/html": [
       "<div>\n",
       "<style scoped>\n",
       "    .dataframe tbody tr th:only-of-type {\n",
       "        vertical-align: middle;\n",
       "    }\n",
       "\n",
       "    .dataframe tbody tr th {\n",
       "        vertical-align: top;\n",
       "    }\n",
       "\n",
       "    .dataframe thead th {\n",
       "        text-align: right;\n",
       "    }\n",
       "</style>\n",
       "<table border=\"1\" class=\"dataframe\">\n",
       "  <thead>\n",
       "    <tr style=\"text-align: right;\">\n",
       "      <th></th>\n",
       "      <th>Land Use Change</th>\n",
       "      <th>Feed</th>\n",
       "      <th>Farm</th>\n",
       "      <th>Processing</th>\n",
       "      <th>Transport</th>\n",
       "      <th>Packaging</th>\n",
       "      <th>Retail</th>\n",
       "      <th>Total from Land to Retail</th>\n",
       "      <th>Total Global Average GHG Emissions per kg</th>\n",
       "    </tr>\n",
       "  </thead>\n",
       "  <tbody>\n",
       "    <tr>\n",
       "      <th>count</th>\n",
       "      <td>33.00</td>\n",
       "      <td>33.00</td>\n",
       "      <td>33.00</td>\n",
       "      <td>33.00</td>\n",
       "      <td>33.00</td>\n",
       "      <td>33.00</td>\n",
       "      <td>33.00</td>\n",
       "      <td>33.00</td>\n",
       "      <td>33.00</td>\n",
       "    </tr>\n",
       "    <tr>\n",
       "      <th>mean</th>\n",
       "      <td>0.80</td>\n",
       "      <td>0.00</td>\n",
       "      <td>1.34</td>\n",
       "      <td>0.18</td>\n",
       "      <td>0.18</td>\n",
       "      <td>0.29</td>\n",
       "      <td>0.06</td>\n",
       "      <td>2.84</td>\n",
       "      <td>4.26</td>\n",
       "    </tr>\n",
       "    <tr>\n",
       "      <th>std</th>\n",
       "      <td>2.65</td>\n",
       "      <td>0.00</td>\n",
       "      <td>1.97</td>\n",
       "      <td>0.28</td>\n",
       "      <td>0.16</td>\n",
       "      <td>0.39</td>\n",
       "      <td>0.07</td>\n",
       "      <td>4.22</td>\n",
       "      <td>9.06</td>\n",
       "    </tr>\n",
       "    <tr>\n",
       "      <th>min</th>\n",
       "      <td>-2.05</td>\n",
       "      <td>0.00</td>\n",
       "      <td>0.09</td>\n",
       "      <td>0.00</td>\n",
       "      <td>0.04</td>\n",
       "      <td>0.04</td>\n",
       "      <td>0.01</td>\n",
       "      <td>0.28</td>\n",
       "      <td>0.39</td>\n",
       "    </tr>\n",
       "    <tr>\n",
       "      <th>25%</th>\n",
       "      <td>0.00</td>\n",
       "      <td>0.00</td>\n",
       "      <td>0.27</td>\n",
       "      <td>0.00</td>\n",
       "      <td>0.09</td>\n",
       "      <td>0.04</td>\n",
       "      <td>0.02</td>\n",
       "      <td>0.68</td>\n",
       "      <td>0.86</td>\n",
       "    </tr>\n",
       "    <tr>\n",
       "      <th>50%</th>\n",
       "      <td>0.03</td>\n",
       "      <td>0.00</td>\n",
       "      <td>0.63</td>\n",
       "      <td>0.06</td>\n",
       "      <td>0.11</td>\n",
       "      <td>0.09</td>\n",
       "      <td>0.04</td>\n",
       "      <td>1.43</td>\n",
       "      <td>1.70</td>\n",
       "    </tr>\n",
       "    <tr>\n",
       "      <th>75%</th>\n",
       "      <td>0.37</td>\n",
       "      <td>0.00</td>\n",
       "      <td>1.52</td>\n",
       "      <td>0.22</td>\n",
       "      <td>0.19</td>\n",
       "      <td>0.40</td>\n",
       "      <td>0.04</td>\n",
       "      <td>2.87</td>\n",
       "      <td>3.23</td>\n",
       "    </tr>\n",
       "    <tr>\n",
       "      <th>max</th>\n",
       "      <td>14.31</td>\n",
       "      <td>0.00</td>\n",
       "      <td>10.39</td>\n",
       "      <td>1.26</td>\n",
       "      <td>0.78</td>\n",
       "      <td>1.63</td>\n",
       "      <td>0.27</td>\n",
       "      <td>18.68</td>\n",
       "      <td>46.65</td>\n",
       "    </tr>\n",
       "  </tbody>\n",
       "</table>\n",
       "</div>"
      ],
      "text/plain": [
       "       Land Use Change  Feed  Farm  Processing  Transport  Packaging  Retail  \\\n",
       "count            33.00 33.00 33.00       33.00      33.00      33.00   33.00   \n",
       "mean              0.80  0.00  1.34        0.18       0.18       0.29    0.06   \n",
       "std               2.65  0.00  1.97        0.28       0.16       0.39    0.07   \n",
       "min              -2.05  0.00  0.09        0.00       0.04       0.04    0.01   \n",
       "25%               0.00  0.00  0.27        0.00       0.09       0.04    0.02   \n",
       "50%               0.03  0.00  0.63        0.06       0.11       0.09    0.04   \n",
       "75%               0.37  0.00  1.52        0.22       0.19       0.40    0.04   \n",
       "max              14.31  0.00 10.39        1.26       0.78       1.63    0.27   \n",
       "\n",
       "       Total from Land to Retail  Total Global Average GHG Emissions per kg  \n",
       "count                      33.00                                      33.00  \n",
       "mean                        2.84                                       4.26  \n",
       "std                         4.22                                       9.06  \n",
       "min                         0.28                                       0.39  \n",
       "25%                         0.68                                       0.86  \n",
       "50%                         1.43                                       1.70  \n",
       "75%                         2.87                                       3.23  \n",
       "max                        18.68                                      46.65  "
      ]
     },
     "execution_count": 16,
     "metadata": {},
     "output_type": "execute_result"
    }
   ],
   "source": [
    "plant_products.describe()"
   ]
  },
  {
   "attachments": {},
   "cell_type": "markdown",
   "metadata": {},
   "source": [
    "The mean value of the Total Global Average GHG Emissions per kg of **Animal Products** is **more than six-times** as high as mean GHG Emissions per kg of **Plant Products**. "
   ]
  },
  {
   "cell_type": "code",
   "execution_count": 17,
   "metadata": {},
   "outputs": [
    {
     "data": {
      "application/vnd.plotly.v1+json": {
       "config": {
        "plotlyServerURL": "https://plot.ly"
       },
       "data": [
        {
         "alignmentgroup": "True",
         "hovertemplate": "Type=animal<br>Food product=%{x}<br>Total Global Average GHG Emissions per kg=%{y}<extra></extra>",
         "legendgroup": "animal",
         "marker": {
          "color": "#636efa",
          "pattern": {
           "shape": ""
          }
         },
         "name": "animal",
         "offsetgroup": "animal",
         "orientation": "v",
         "showlegend": true,
         "textposition": "auto",
         "type": "bar",
         "x": [
          "Beef (beef herd)",
          "Lamb & Mutton",
          "Beef (dairy herd)",
          "Shrimps (farmed)",
          "Cheese",
          "Fish (farmed)",
          "Pig Meat",
          "Poultry Meat",
          "Eggs",
          "Milk"
         ],
         "xaxis": "x",
         "y": [
          99.48,
          39.72,
          33.3,
          26.87,
          23.88,
          13.63,
          12.31,
          9.87,
          4.67,
          3.15
         ],
         "yaxis": "y"
        },
        {
         "alignmentgroup": "True",
         "hovertemplate": "Type=plant<br>Food product=%{x}<br>Total Global Average GHG Emissions per kg=%{y}<extra></extra>",
         "legendgroup": "plant",
         "marker": {
          "color": "#EF553B",
          "pattern": {
           "shape": ""
          }
         },
         "name": "plant",
         "offsetgroup": "plant",
         "orientation": "v",
         "showlegend": true,
         "textposition": "auto",
         "type": "bar",
         "x": [
          "Dark Chocolate",
          "Coffee",
          "Palm Oil",
          "Soybean Oil",
          "Olive Oil",
          "Rice",
          "Rapeseed Oil",
          "Sunflower Oil",
          "Groundnuts",
          "Cane Sugar",
          "Tofu",
          "Oatmeal",
          "Tomatoes",
          "Beet Sugar",
          "Other Pulses",
          "Wine",
          "Maize",
          "Wheat & Rye",
          "Berries & Grapes",
          "Cassava",
          "Barley",
          "Other Fruit",
          "Peas",
          "Soymilk",
          "Bananas",
          "Other Vegetables",
          "Brassicas",
          "Onions & Leeks",
          "Potatoes",
          "Root Vegetables",
          "Nuts",
          "Apples",
          "Citrus Fruit"
         ],
         "xaxis": "x",
         "y": [
          46.65,
          28.53,
          7.32,
          6.32,
          5.42,
          4.45,
          3.77,
          3.6,
          3.23,
          3.2,
          3.16,
          2.48,
          2.09,
          1.81,
          1.79,
          1.79,
          1.7,
          1.57,
          1.53,
          1.32,
          1.18,
          1.05,
          0.98,
          0.98,
          0.86,
          0.53,
          0.51,
          0.5,
          0.46,
          0.43,
          0.43,
          0.43,
          0.39
         ],
         "yaxis": "y"
        }
       ],
       "layout": {
        "barmode": "relative",
        "legend": {
         "title": {
          "text": "Type"
         },
         "tracegroupgap": 0
        },
        "margin": {
         "t": 60
        },
        "template": {
         "data": {
          "bar": [
           {
            "error_x": {
             "color": "#2a3f5f"
            },
            "error_y": {
             "color": "#2a3f5f"
            },
            "marker": {
             "line": {
              "color": "#E5ECF6",
              "width": 0.5
             },
             "pattern": {
              "fillmode": "overlay",
              "size": 10,
              "solidity": 0.2
             }
            },
            "type": "bar"
           }
          ],
          "barpolar": [
           {
            "marker": {
             "line": {
              "color": "#E5ECF6",
              "width": 0.5
             },
             "pattern": {
              "fillmode": "overlay",
              "size": 10,
              "solidity": 0.2
             }
            },
            "type": "barpolar"
           }
          ],
          "carpet": [
           {
            "aaxis": {
             "endlinecolor": "#2a3f5f",
             "gridcolor": "white",
             "linecolor": "white",
             "minorgridcolor": "white",
             "startlinecolor": "#2a3f5f"
            },
            "baxis": {
             "endlinecolor": "#2a3f5f",
             "gridcolor": "white",
             "linecolor": "white",
             "minorgridcolor": "white",
             "startlinecolor": "#2a3f5f"
            },
            "type": "carpet"
           }
          ],
          "choropleth": [
           {
            "colorbar": {
             "outlinewidth": 0,
             "ticks": ""
            },
            "type": "choropleth"
           }
          ],
          "contour": [
           {
            "colorbar": {
             "outlinewidth": 0,
             "ticks": ""
            },
            "colorscale": [
             [
              0,
              "#0d0887"
             ],
             [
              0.1111111111111111,
              "#46039f"
             ],
             [
              0.2222222222222222,
              "#7201a8"
             ],
             [
              0.3333333333333333,
              "#9c179e"
             ],
             [
              0.4444444444444444,
              "#bd3786"
             ],
             [
              0.5555555555555556,
              "#d8576b"
             ],
             [
              0.6666666666666666,
              "#ed7953"
             ],
             [
              0.7777777777777778,
              "#fb9f3a"
             ],
             [
              0.8888888888888888,
              "#fdca26"
             ],
             [
              1,
              "#f0f921"
             ]
            ],
            "type": "contour"
           }
          ],
          "contourcarpet": [
           {
            "colorbar": {
             "outlinewidth": 0,
             "ticks": ""
            },
            "type": "contourcarpet"
           }
          ],
          "heatmap": [
           {
            "colorbar": {
             "outlinewidth": 0,
             "ticks": ""
            },
            "colorscale": [
             [
              0,
              "#0d0887"
             ],
             [
              0.1111111111111111,
              "#46039f"
             ],
             [
              0.2222222222222222,
              "#7201a8"
             ],
             [
              0.3333333333333333,
              "#9c179e"
             ],
             [
              0.4444444444444444,
              "#bd3786"
             ],
             [
              0.5555555555555556,
              "#d8576b"
             ],
             [
              0.6666666666666666,
              "#ed7953"
             ],
             [
              0.7777777777777778,
              "#fb9f3a"
             ],
             [
              0.8888888888888888,
              "#fdca26"
             ],
             [
              1,
              "#f0f921"
             ]
            ],
            "type": "heatmap"
           }
          ],
          "heatmapgl": [
           {
            "colorbar": {
             "outlinewidth": 0,
             "ticks": ""
            },
            "colorscale": [
             [
              0,
              "#0d0887"
             ],
             [
              0.1111111111111111,
              "#46039f"
             ],
             [
              0.2222222222222222,
              "#7201a8"
             ],
             [
              0.3333333333333333,
              "#9c179e"
             ],
             [
              0.4444444444444444,
              "#bd3786"
             ],
             [
              0.5555555555555556,
              "#d8576b"
             ],
             [
              0.6666666666666666,
              "#ed7953"
             ],
             [
              0.7777777777777778,
              "#fb9f3a"
             ],
             [
              0.8888888888888888,
              "#fdca26"
             ],
             [
              1,
              "#f0f921"
             ]
            ],
            "type": "heatmapgl"
           }
          ],
          "histogram": [
           {
            "marker": {
             "pattern": {
              "fillmode": "overlay",
              "size": 10,
              "solidity": 0.2
             }
            },
            "type": "histogram"
           }
          ],
          "histogram2d": [
           {
            "colorbar": {
             "outlinewidth": 0,
             "ticks": ""
            },
            "colorscale": [
             [
              0,
              "#0d0887"
             ],
             [
              0.1111111111111111,
              "#46039f"
             ],
             [
              0.2222222222222222,
              "#7201a8"
             ],
             [
              0.3333333333333333,
              "#9c179e"
             ],
             [
              0.4444444444444444,
              "#bd3786"
             ],
             [
              0.5555555555555556,
              "#d8576b"
             ],
             [
              0.6666666666666666,
              "#ed7953"
             ],
             [
              0.7777777777777778,
              "#fb9f3a"
             ],
             [
              0.8888888888888888,
              "#fdca26"
             ],
             [
              1,
              "#f0f921"
             ]
            ],
            "type": "histogram2d"
           }
          ],
          "histogram2dcontour": [
           {
            "colorbar": {
             "outlinewidth": 0,
             "ticks": ""
            },
            "colorscale": [
             [
              0,
              "#0d0887"
             ],
             [
              0.1111111111111111,
              "#46039f"
             ],
             [
              0.2222222222222222,
              "#7201a8"
             ],
             [
              0.3333333333333333,
              "#9c179e"
             ],
             [
              0.4444444444444444,
              "#bd3786"
             ],
             [
              0.5555555555555556,
              "#d8576b"
             ],
             [
              0.6666666666666666,
              "#ed7953"
             ],
             [
              0.7777777777777778,
              "#fb9f3a"
             ],
             [
              0.8888888888888888,
              "#fdca26"
             ],
             [
              1,
              "#f0f921"
             ]
            ],
            "type": "histogram2dcontour"
           }
          ],
          "mesh3d": [
           {
            "colorbar": {
             "outlinewidth": 0,
             "ticks": ""
            },
            "type": "mesh3d"
           }
          ],
          "parcoords": [
           {
            "line": {
             "colorbar": {
              "outlinewidth": 0,
              "ticks": ""
             }
            },
            "type": "parcoords"
           }
          ],
          "pie": [
           {
            "automargin": true,
            "type": "pie"
           }
          ],
          "scatter": [
           {
            "fillpattern": {
             "fillmode": "overlay",
             "size": 10,
             "solidity": 0.2
            },
            "type": "scatter"
           }
          ],
          "scatter3d": [
           {
            "line": {
             "colorbar": {
              "outlinewidth": 0,
              "ticks": ""
             }
            },
            "marker": {
             "colorbar": {
              "outlinewidth": 0,
              "ticks": ""
             }
            },
            "type": "scatter3d"
           }
          ],
          "scattercarpet": [
           {
            "marker": {
             "colorbar": {
              "outlinewidth": 0,
              "ticks": ""
             }
            },
            "type": "scattercarpet"
           }
          ],
          "scattergeo": [
           {
            "marker": {
             "colorbar": {
              "outlinewidth": 0,
              "ticks": ""
             }
            },
            "type": "scattergeo"
           }
          ],
          "scattergl": [
           {
            "marker": {
             "colorbar": {
              "outlinewidth": 0,
              "ticks": ""
             }
            },
            "type": "scattergl"
           }
          ],
          "scattermapbox": [
           {
            "marker": {
             "colorbar": {
              "outlinewidth": 0,
              "ticks": ""
             }
            },
            "type": "scattermapbox"
           }
          ],
          "scatterpolar": [
           {
            "marker": {
             "colorbar": {
              "outlinewidth": 0,
              "ticks": ""
             }
            },
            "type": "scatterpolar"
           }
          ],
          "scatterpolargl": [
           {
            "marker": {
             "colorbar": {
              "outlinewidth": 0,
              "ticks": ""
             }
            },
            "type": "scatterpolargl"
           }
          ],
          "scatterternary": [
           {
            "marker": {
             "colorbar": {
              "outlinewidth": 0,
              "ticks": ""
             }
            },
            "type": "scatterternary"
           }
          ],
          "surface": [
           {
            "colorbar": {
             "outlinewidth": 0,
             "ticks": ""
            },
            "colorscale": [
             [
              0,
              "#0d0887"
             ],
             [
              0.1111111111111111,
              "#46039f"
             ],
             [
              0.2222222222222222,
              "#7201a8"
             ],
             [
              0.3333333333333333,
              "#9c179e"
             ],
             [
              0.4444444444444444,
              "#bd3786"
             ],
             [
              0.5555555555555556,
              "#d8576b"
             ],
             [
              0.6666666666666666,
              "#ed7953"
             ],
             [
              0.7777777777777778,
              "#fb9f3a"
             ],
             [
              0.8888888888888888,
              "#fdca26"
             ],
             [
              1,
              "#f0f921"
             ]
            ],
            "type": "surface"
           }
          ],
          "table": [
           {
            "cells": {
             "fill": {
              "color": "#EBF0F8"
             },
             "line": {
              "color": "white"
             }
            },
            "header": {
             "fill": {
              "color": "#C8D4E3"
             },
             "line": {
              "color": "white"
             }
            },
            "type": "table"
           }
          ]
         },
         "layout": {
          "annotationdefaults": {
           "arrowcolor": "#2a3f5f",
           "arrowhead": 0,
           "arrowwidth": 1
          },
          "autotypenumbers": "strict",
          "coloraxis": {
           "colorbar": {
            "outlinewidth": 0,
            "ticks": ""
           }
          },
          "colorscale": {
           "diverging": [
            [
             0,
             "#8e0152"
            ],
            [
             0.1,
             "#c51b7d"
            ],
            [
             0.2,
             "#de77ae"
            ],
            [
             0.3,
             "#f1b6da"
            ],
            [
             0.4,
             "#fde0ef"
            ],
            [
             0.5,
             "#f7f7f7"
            ],
            [
             0.6,
             "#e6f5d0"
            ],
            [
             0.7,
             "#b8e186"
            ],
            [
             0.8,
             "#7fbc41"
            ],
            [
             0.9,
             "#4d9221"
            ],
            [
             1,
             "#276419"
            ]
           ],
           "sequential": [
            [
             0,
             "#0d0887"
            ],
            [
             0.1111111111111111,
             "#46039f"
            ],
            [
             0.2222222222222222,
             "#7201a8"
            ],
            [
             0.3333333333333333,
             "#9c179e"
            ],
            [
             0.4444444444444444,
             "#bd3786"
            ],
            [
             0.5555555555555556,
             "#d8576b"
            ],
            [
             0.6666666666666666,
             "#ed7953"
            ],
            [
             0.7777777777777778,
             "#fb9f3a"
            ],
            [
             0.8888888888888888,
             "#fdca26"
            ],
            [
             1,
             "#f0f921"
            ]
           ],
           "sequentialminus": [
            [
             0,
             "#0d0887"
            ],
            [
             0.1111111111111111,
             "#46039f"
            ],
            [
             0.2222222222222222,
             "#7201a8"
            ],
            [
             0.3333333333333333,
             "#9c179e"
            ],
            [
             0.4444444444444444,
             "#bd3786"
            ],
            [
             0.5555555555555556,
             "#d8576b"
            ],
            [
             0.6666666666666666,
             "#ed7953"
            ],
            [
             0.7777777777777778,
             "#fb9f3a"
            ],
            [
             0.8888888888888888,
             "#fdca26"
            ],
            [
             1,
             "#f0f921"
            ]
           ]
          },
          "colorway": [
           "#636efa",
           "#EF553B",
           "#00cc96",
           "#ab63fa",
           "#FFA15A",
           "#19d3f3",
           "#FF6692",
           "#B6E880",
           "#FF97FF",
           "#FECB52"
          ],
          "font": {
           "color": "#2a3f5f"
          },
          "geo": {
           "bgcolor": "white",
           "lakecolor": "white",
           "landcolor": "#E5ECF6",
           "showlakes": true,
           "showland": true,
           "subunitcolor": "white"
          },
          "hoverlabel": {
           "align": "left"
          },
          "hovermode": "closest",
          "mapbox": {
           "style": "light"
          },
          "paper_bgcolor": "white",
          "plot_bgcolor": "#E5ECF6",
          "polar": {
           "angularaxis": {
            "gridcolor": "white",
            "linecolor": "white",
            "ticks": ""
           },
           "bgcolor": "#E5ECF6",
           "radialaxis": {
            "gridcolor": "white",
            "linecolor": "white",
            "ticks": ""
           }
          },
          "scene": {
           "xaxis": {
            "backgroundcolor": "#E5ECF6",
            "gridcolor": "white",
            "gridwidth": 2,
            "linecolor": "white",
            "showbackground": true,
            "ticks": "",
            "zerolinecolor": "white"
           },
           "yaxis": {
            "backgroundcolor": "#E5ECF6",
            "gridcolor": "white",
            "gridwidth": 2,
            "linecolor": "white",
            "showbackground": true,
            "ticks": "",
            "zerolinecolor": "white"
           },
           "zaxis": {
            "backgroundcolor": "#E5ECF6",
            "gridcolor": "white",
            "gridwidth": 2,
            "linecolor": "white",
            "showbackground": true,
            "ticks": "",
            "zerolinecolor": "white"
           }
          },
          "shapedefaults": {
           "line": {
            "color": "#2a3f5f"
           }
          },
          "ternary": {
           "aaxis": {
            "gridcolor": "white",
            "linecolor": "white",
            "ticks": ""
           },
           "baxis": {
            "gridcolor": "white",
            "linecolor": "white",
            "ticks": ""
           },
           "bgcolor": "#E5ECF6",
           "caxis": {
            "gridcolor": "white",
            "linecolor": "white",
            "ticks": ""
           }
          },
          "title": {
           "x": 0.05
          },
          "xaxis": {
           "automargin": true,
           "gridcolor": "white",
           "linecolor": "white",
           "ticks": "",
           "title": {
            "standoff": 15
           },
           "zerolinecolor": "white",
           "zerolinewidth": 2
          },
          "yaxis": {
           "automargin": true,
           "gridcolor": "white",
           "linecolor": "white",
           "ticks": "",
           "title": {
            "standoff": 15
           },
           "zerolinecolor": "white",
           "zerolinewidth": 2
          }
         }
        },
        "xaxis": {
         "anchor": "y",
         "domain": [
          0,
          1
         ],
         "title": {
          "text": "Food product"
         }
        },
        "yaxis": {
         "anchor": "x",
         "domain": [
          0,
          1
         ],
         "title": {
          "text": "Total Global Average GHG Emissions per kg"
         }
        }
       }
      }
     },
     "metadata": {},
     "output_type": "display_data"
    }
   ],
   "source": [
    "data = data.sort_values('Total Global Average GHG Emissions per kg', ascending=False)\n",
    "type_chart = px.bar(\n",
    "    data,\n",
    "    x=data['Food product'],\n",
    "    y=data['Total Global Average GHG Emissions per kg'],\n",
    "    color=data['Type']\n",
    ")\n",
    "type_chart.show()"
   ]
  },
  {
   "attachments": {},
   "cell_type": "markdown",
   "metadata": {},
   "source": [
    "### How big is the difference of GHG Emissions from **processed** to **unprocessed** products? "
   ]
  },
  {
   "cell_type": "code",
   "execution_count": 18,
   "metadata": {},
   "outputs": [],
   "source": [
    "data.insert(1, 'Processed', None)"
   ]
  },
  {
   "cell_type": "code",
   "execution_count": 19,
   "metadata": {},
   "outputs": [],
   "source": [
    "for row in data.index:\n",
    "    if data['Processing'][row] == 0:\n",
    "        data.loc[row, 'Processed'] = 'raw'\n",
    "    else:\n",
    "        data.loc[row, 'Processed'] = 'processed'"
   ]
  },
  {
   "cell_type": "code",
   "execution_count": 20,
   "metadata": {},
   "outputs": [
    {
     "data": {
      "text/html": [
       "<div>\n",
       "<style scoped>\n",
       "    .dataframe tbody tr th:only-of-type {\n",
       "        vertical-align: middle;\n",
       "    }\n",
       "\n",
       "    .dataframe tbody tr th {\n",
       "        vertical-align: top;\n",
       "    }\n",
       "\n",
       "    .dataframe thead th {\n",
       "        text-align: right;\n",
       "    }\n",
       "</style>\n",
       "<table border=\"1\" class=\"dataframe\">\n",
       "  <thead>\n",
       "    <tr style=\"text-align: right;\">\n",
       "      <th></th>\n",
       "      <th>Food product</th>\n",
       "      <th>Processed</th>\n",
       "      <th>Type</th>\n",
       "      <th>Land Use Change</th>\n",
       "      <th>Feed</th>\n",
       "      <th>Farm</th>\n",
       "      <th>Processing</th>\n",
       "      <th>Transport</th>\n",
       "      <th>Packaging</th>\n",
       "      <th>Retail</th>\n",
       "      <th>Total from Land to Retail</th>\n",
       "      <th>Total Global Average GHG Emissions per kg</th>\n",
       "      <th>Unit of GHG Emissions</th>\n",
       "    </tr>\n",
       "  </thead>\n",
       "  <tbody>\n",
       "    <tr>\n",
       "      <th>3</th>\n",
       "      <td>Beef (beef herd)</td>\n",
       "      <td>processed</td>\n",
       "      <td>animal</td>\n",
       "      <td>16.28</td>\n",
       "      <td>1.88</td>\n",
       "      <td>39.39</td>\n",
       "      <td>1.27</td>\n",
       "      <td>0.35</td>\n",
       "      <td>0.25</td>\n",
       "      <td>0.16</td>\n",
       "      <td>59.57</td>\n",
       "      <td>99.48</td>\n",
       "      <td>kg CO2e per kg food produced</td>\n",
       "    </tr>\n",
       "    <tr>\n",
       "      <th>13</th>\n",
       "      <td>Dark Chocolate</td>\n",
       "      <td>processed</td>\n",
       "      <td>plant</td>\n",
       "      <td>14.31</td>\n",
       "      <td>0.00</td>\n",
       "      <td>3.71</td>\n",
       "      <td>0.18</td>\n",
       "      <td>0.06</td>\n",
       "      <td>0.40</td>\n",
       "      <td>0.02</td>\n",
       "      <td>18.68</td>\n",
       "      <td>46.65</td>\n",
       "      <td>kg CO2e per kg food produced</td>\n",
       "    </tr>\n",
       "    <tr>\n",
       "      <th>17</th>\n",
       "      <td>Lamb &amp; Mutton</td>\n",
       "      <td>processed</td>\n",
       "      <td>animal</td>\n",
       "      <td>0.47</td>\n",
       "      <td>2.37</td>\n",
       "      <td>19.51</td>\n",
       "      <td>1.11</td>\n",
       "      <td>0.49</td>\n",
       "      <td>0.25</td>\n",
       "      <td>0.22</td>\n",
       "      <td>24.41</td>\n",
       "      <td>39.72</td>\n",
       "      <td>kg CO2e per kg food produced</td>\n",
       "    </tr>\n",
       "    <tr>\n",
       "      <th>4</th>\n",
       "      <td>Beef (dairy herd)</td>\n",
       "      <td>processed</td>\n",
       "      <td>animal</td>\n",
       "      <td>0.91</td>\n",
       "      <td>2.51</td>\n",
       "      <td>15.69</td>\n",
       "      <td>1.11</td>\n",
       "      <td>0.42</td>\n",
       "      <td>0.27</td>\n",
       "      <td>0.18</td>\n",
       "      <td>21.09</td>\n",
       "      <td>33.30</td>\n",
       "      <td>kg CO2e per kg food produced</td>\n",
       "    </tr>\n",
       "    <tr>\n",
       "      <th>12</th>\n",
       "      <td>Coffee</td>\n",
       "      <td>processed</td>\n",
       "      <td>plant</td>\n",
       "      <td>3.69</td>\n",
       "      <td>0.00</td>\n",
       "      <td>10.39</td>\n",
       "      <td>0.59</td>\n",
       "      <td>0.13</td>\n",
       "      <td>1.63</td>\n",
       "      <td>0.05</td>\n",
       "      <td>16.48</td>\n",
       "      <td>28.53</td>\n",
       "      <td>kg CO2e per kg food produced</td>\n",
       "    </tr>\n",
       "    <tr>\n",
       "      <th>10</th>\n",
       "      <td>Cheese</td>\n",
       "      <td>processed</td>\n",
       "      <td>animal</td>\n",
       "      <td>4.46</td>\n",
       "      <td>2.35</td>\n",
       "      <td>13.06</td>\n",
       "      <td>0.74</td>\n",
       "      <td>0.14</td>\n",
       "      <td>0.17</td>\n",
       "      <td>0.33</td>\n",
       "      <td>21.24</td>\n",
       "      <td>23.88</td>\n",
       "      <td>kg CO2e per kg food produced</td>\n",
       "    </tr>\n",
       "    <tr>\n",
       "      <th>15</th>\n",
       "      <td>Fish (farmed)</td>\n",
       "      <td>processed</td>\n",
       "      <td>animal</td>\n",
       "      <td>0.53</td>\n",
       "      <td>0.82</td>\n",
       "      <td>3.60</td>\n",
       "      <td>0.02</td>\n",
       "      <td>0.11</td>\n",
       "      <td>0.06</td>\n",
       "      <td>0.04</td>\n",
       "      <td>5.18</td>\n",
       "      <td>13.63</td>\n",
       "      <td>kg CO2e per kg food produced</td>\n",
       "    </tr>\n",
       "    <tr>\n",
       "      <th>29</th>\n",
       "      <td>Pig Meat</td>\n",
       "      <td>processed</td>\n",
       "      <td>animal</td>\n",
       "      <td>1.53</td>\n",
       "      <td>2.94</td>\n",
       "      <td>1.69</td>\n",
       "      <td>0.28</td>\n",
       "      <td>0.34</td>\n",
       "      <td>0.30</td>\n",
       "      <td>0.19</td>\n",
       "      <td>7.28</td>\n",
       "      <td>12.31</td>\n",
       "      <td>kg CO2e per kg food produced</td>\n",
       "    </tr>\n",
       "    <tr>\n",
       "      <th>31</th>\n",
       "      <td>Poultry Meat</td>\n",
       "      <td>processed</td>\n",
       "      <td>animal</td>\n",
       "      <td>2.54</td>\n",
       "      <td>1.77</td>\n",
       "      <td>0.67</td>\n",
       "      <td>0.44</td>\n",
       "      <td>0.28</td>\n",
       "      <td>0.21</td>\n",
       "      <td>0.18</td>\n",
       "      <td>6.09</td>\n",
       "      <td>9.87</td>\n",
       "      <td>kg CO2e per kg food produced</td>\n",
       "    </tr>\n",
       "    <tr>\n",
       "      <th>27</th>\n",
       "      <td>Palm Oil</td>\n",
       "      <td>processed</td>\n",
       "      <td>plant</td>\n",
       "      <td>3.10</td>\n",
       "      <td>0.00</td>\n",
       "      <td>2.11</td>\n",
       "      <td>1.26</td>\n",
       "      <td>0.21</td>\n",
       "      <td>0.89</td>\n",
       "      <td>0.04</td>\n",
       "      <td>7.61</td>\n",
       "      <td>7.32</td>\n",
       "      <td>kg CO2e per kg food produced</td>\n",
       "    </tr>\n",
       "    <tr>\n",
       "      <th>36</th>\n",
       "      <td>Soybean Oil</td>\n",
       "      <td>processed</td>\n",
       "      <td>plant</td>\n",
       "      <td>3.10</td>\n",
       "      <td>0.00</td>\n",
       "      <td>1.52</td>\n",
       "      <td>0.31</td>\n",
       "      <td>0.30</td>\n",
       "      <td>0.85</td>\n",
       "      <td>0.04</td>\n",
       "      <td>6.12</td>\n",
       "      <td>6.32</td>\n",
       "      <td>kg CO2e per kg food produced</td>\n",
       "    </tr>\n",
       "    <tr>\n",
       "      <th>22</th>\n",
       "      <td>Olive Oil</td>\n",
       "      <td>processed</td>\n",
       "      <td>plant</td>\n",
       "      <td>-0.38</td>\n",
       "      <td>0.00</td>\n",
       "      <td>4.27</td>\n",
       "      <td>0.66</td>\n",
       "      <td>0.48</td>\n",
       "      <td>0.86</td>\n",
       "      <td>0.05</td>\n",
       "      <td>5.94</td>\n",
       "      <td>5.42</td>\n",
       "      <td>kg CO2e per kg food produced</td>\n",
       "    </tr>\n",
       "    <tr>\n",
       "      <th>33</th>\n",
       "      <td>Rice</td>\n",
       "      <td>processed</td>\n",
       "      <td>plant</td>\n",
       "      <td>-0.02</td>\n",
       "      <td>0.00</td>\n",
       "      <td>3.55</td>\n",
       "      <td>0.07</td>\n",
       "      <td>0.10</td>\n",
       "      <td>0.08</td>\n",
       "      <td>0.06</td>\n",
       "      <td>3.84</td>\n",
       "      <td>4.45</td>\n",
       "      <td>kg CO2e per kg food produced</td>\n",
       "    </tr>\n",
       "    <tr>\n",
       "      <th>32</th>\n",
       "      <td>Rapeseed Oil</td>\n",
       "      <td>processed</td>\n",
       "      <td>plant</td>\n",
       "      <td>0.21</td>\n",
       "      <td>0.00</td>\n",
       "      <td>2.34</td>\n",
       "      <td>0.19</td>\n",
       "      <td>0.19</td>\n",
       "      <td>0.84</td>\n",
       "      <td>0.05</td>\n",
       "      <td>3.83</td>\n",
       "      <td>3.77</td>\n",
       "      <td>kg CO2e per kg food produced</td>\n",
       "    </tr>\n",
       "    <tr>\n",
       "      <th>38</th>\n",
       "      <td>Sunflower Oil</td>\n",
       "      <td>processed</td>\n",
       "      <td>plant</td>\n",
       "      <td>0.13</td>\n",
       "      <td>0.00</td>\n",
       "      <td>2.15</td>\n",
       "      <td>0.23</td>\n",
       "      <td>0.20</td>\n",
       "      <td>0.85</td>\n",
       "      <td>0.04</td>\n",
       "      <td>3.61</td>\n",
       "      <td>3.60</td>\n",
       "      <td>kg CO2e per kg food produced</td>\n",
       "    </tr>\n",
       "    <tr>\n",
       "      <th>16</th>\n",
       "      <td>Groundnuts</td>\n",
       "      <td>processed</td>\n",
       "      <td>plant</td>\n",
       "      <td>0.44</td>\n",
       "      <td>0.00</td>\n",
       "      <td>1.43</td>\n",
       "      <td>0.37</td>\n",
       "      <td>0.12</td>\n",
       "      <td>0.10</td>\n",
       "      <td>0.04</td>\n",
       "      <td>2.50</td>\n",
       "      <td>3.23</td>\n",
       "      <td>kg CO2e per kg food produced</td>\n",
       "    </tr>\n",
       "    <tr>\n",
       "      <th>8</th>\n",
       "      <td>Cane Sugar</td>\n",
       "      <td>processed</td>\n",
       "      <td>plant</td>\n",
       "      <td>1.25</td>\n",
       "      <td>0.00</td>\n",
       "      <td>0.48</td>\n",
       "      <td>0.04</td>\n",
       "      <td>0.78</td>\n",
       "      <td>0.08</td>\n",
       "      <td>0.04</td>\n",
       "      <td>2.67</td>\n",
       "      <td>3.20</td>\n",
       "      <td>kg CO2e per kg food produced</td>\n",
       "    </tr>\n",
       "    <tr>\n",
       "      <th>39</th>\n",
       "      <td>Tofu</td>\n",
       "      <td>processed</td>\n",
       "      <td>plant</td>\n",
       "      <td>0.96</td>\n",
       "      <td>0.00</td>\n",
       "      <td>0.49</td>\n",
       "      <td>0.79</td>\n",
       "      <td>0.18</td>\n",
       "      <td>0.18</td>\n",
       "      <td>0.27</td>\n",
       "      <td>2.87</td>\n",
       "      <td>3.16</td>\n",
       "      <td>kg CO2e per kg food produced</td>\n",
       "    </tr>\n",
       "    <tr>\n",
       "      <th>19</th>\n",
       "      <td>Milk</td>\n",
       "      <td>processed</td>\n",
       "      <td>animal</td>\n",
       "      <td>0.49</td>\n",
       "      <td>0.24</td>\n",
       "      <td>1.46</td>\n",
       "      <td>0.15</td>\n",
       "      <td>0.09</td>\n",
       "      <td>0.10</td>\n",
       "      <td>0.26</td>\n",
       "      <td>2.78</td>\n",
       "      <td>3.15</td>\n",
       "      <td>kg CO2e per kg food produced</td>\n",
       "    </tr>\n",
       "    <tr>\n",
       "      <th>21</th>\n",
       "      <td>Oatmeal</td>\n",
       "      <td>processed</td>\n",
       "      <td>plant</td>\n",
       "      <td>0.00</td>\n",
       "      <td>0.00</td>\n",
       "      <td>1.37</td>\n",
       "      <td>0.04</td>\n",
       "      <td>0.07</td>\n",
       "      <td>0.07</td>\n",
       "      <td>0.03</td>\n",
       "      <td>1.57</td>\n",
       "      <td>2.48</td>\n",
       "      <td>kg CO2e per kg food produced</td>\n",
       "    </tr>\n",
       "    <tr>\n",
       "      <th>40</th>\n",
       "      <td>Tomatoes</td>\n",
       "      <td>processed</td>\n",
       "      <td>plant</td>\n",
       "      <td>0.37</td>\n",
       "      <td>0.00</td>\n",
       "      <td>0.70</td>\n",
       "      <td>0.01</td>\n",
       "      <td>0.18</td>\n",
       "      <td>0.14</td>\n",
       "      <td>0.02</td>\n",
       "      <td>1.43</td>\n",
       "      <td>2.09</td>\n",
       "      <td>kg CO2e per kg food produced</td>\n",
       "    </tr>\n",
       "    <tr>\n",
       "      <th>5</th>\n",
       "      <td>Beet Sugar</td>\n",
       "      <td>processed</td>\n",
       "      <td>plant</td>\n",
       "      <td>0.00</td>\n",
       "      <td>0.00</td>\n",
       "      <td>0.54</td>\n",
       "      <td>0.24</td>\n",
       "      <td>0.63</td>\n",
       "      <td>0.09</td>\n",
       "      <td>0.04</td>\n",
       "      <td>1.54</td>\n",
       "      <td>1.81</td>\n",
       "      <td>kg CO2e per kg food produced</td>\n",
       "    </tr>\n",
       "    <tr>\n",
       "      <th>42</th>\n",
       "      <td>Wine</td>\n",
       "      <td>processed</td>\n",
       "      <td>plant</td>\n",
       "      <td>-0.06</td>\n",
       "      <td>0.00</td>\n",
       "      <td>0.63</td>\n",
       "      <td>0.14</td>\n",
       "      <td>0.09</td>\n",
       "      <td>0.75</td>\n",
       "      <td>0.04</td>\n",
       "      <td>1.58</td>\n",
       "      <td>1.79</td>\n",
       "      <td>kg CO2e per kg food produced</td>\n",
       "    </tr>\n",
       "    <tr>\n",
       "      <th>18</th>\n",
       "      <td>Maize</td>\n",
       "      <td>processed</td>\n",
       "      <td>plant</td>\n",
       "      <td>0.32</td>\n",
       "      <td>0.00</td>\n",
       "      <td>0.47</td>\n",
       "      <td>0.05</td>\n",
       "      <td>0.06</td>\n",
       "      <td>0.06</td>\n",
       "      <td>0.03</td>\n",
       "      <td>0.99</td>\n",
       "      <td>1.70</td>\n",
       "      <td>kg CO2e per kg food produced</td>\n",
       "    </tr>\n",
       "    <tr>\n",
       "      <th>41</th>\n",
       "      <td>Wheat &amp; Rye</td>\n",
       "      <td>processed</td>\n",
       "      <td>plant</td>\n",
       "      <td>0.10</td>\n",
       "      <td>0.00</td>\n",
       "      <td>0.85</td>\n",
       "      <td>0.22</td>\n",
       "      <td>0.13</td>\n",
       "      <td>0.09</td>\n",
       "      <td>0.06</td>\n",
       "      <td>1.44</td>\n",
       "      <td>1.57</td>\n",
       "      <td>kg CO2e per kg food produced</td>\n",
       "    </tr>\n",
       "    <tr>\n",
       "      <th>2</th>\n",
       "      <td>Barley</td>\n",
       "      <td>processed</td>\n",
       "      <td>plant</td>\n",
       "      <td>0.01</td>\n",
       "      <td>0.00</td>\n",
       "      <td>0.18</td>\n",
       "      <td>0.13</td>\n",
       "      <td>0.04</td>\n",
       "      <td>0.50</td>\n",
       "      <td>0.26</td>\n",
       "      <td>1.11</td>\n",
       "      <td>1.18</td>\n",
       "      <td>kg CO2e per kg food produced</td>\n",
       "    </tr>\n",
       "    <tr>\n",
       "      <th>24</th>\n",
       "      <td>Other Fruit</td>\n",
       "      <td>processed</td>\n",
       "      <td>plant</td>\n",
       "      <td>0.13</td>\n",
       "      <td>0.00</td>\n",
       "      <td>0.37</td>\n",
       "      <td>0.01</td>\n",
       "      <td>0.18</td>\n",
       "      <td>0.04</td>\n",
       "      <td>0.02</td>\n",
       "      <td>0.75</td>\n",
       "      <td>1.05</td>\n",
       "      <td>kg CO2e per kg food produced</td>\n",
       "    </tr>\n",
       "    <tr>\n",
       "      <th>37</th>\n",
       "      <td>Soymilk</td>\n",
       "      <td>processed</td>\n",
       "      <td>plant</td>\n",
       "      <td>0.18</td>\n",
       "      <td>0.00</td>\n",
       "      <td>0.09</td>\n",
       "      <td>0.16</td>\n",
       "      <td>0.11</td>\n",
       "      <td>0.10</td>\n",
       "      <td>0.27</td>\n",
       "      <td>0.91</td>\n",
       "      <td>0.98</td>\n",
       "      <td>kg CO2e per kg food produced</td>\n",
       "    </tr>\n",
       "    <tr>\n",
       "      <th>1</th>\n",
       "      <td>Bananas</td>\n",
       "      <td>processed</td>\n",
       "      <td>plant</td>\n",
       "      <td>-0.03</td>\n",
       "      <td>0.00</td>\n",
       "      <td>0.27</td>\n",
       "      <td>0.06</td>\n",
       "      <td>0.29</td>\n",
       "      <td>0.07</td>\n",
       "      <td>0.02</td>\n",
       "      <td>0.68</td>\n",
       "      <td>0.86</td>\n",
       "      <td>kg CO2e per kg food produced</td>\n",
       "    </tr>\n",
       "    <tr>\n",
       "      <th>26</th>\n",
       "      <td>Other Vegetables</td>\n",
       "      <td>processed</td>\n",
       "      <td>plant</td>\n",
       "      <td>0.00</td>\n",
       "      <td>0.00</td>\n",
       "      <td>0.17</td>\n",
       "      <td>0.06</td>\n",
       "      <td>0.16</td>\n",
       "      <td>0.04</td>\n",
       "      <td>0.01</td>\n",
       "      <td>0.46</td>\n",
       "      <td>0.53</td>\n",
       "      <td>kg CO2e per kg food produced</td>\n",
       "    </tr>\n",
       "    <tr>\n",
       "      <th>20</th>\n",
       "      <td>Nuts</td>\n",
       "      <td>processed</td>\n",
       "      <td>plant</td>\n",
       "      <td>-2.05</td>\n",
       "      <td>0.00</td>\n",
       "      <td>2.13</td>\n",
       "      <td>0.03</td>\n",
       "      <td>0.07</td>\n",
       "      <td>0.08</td>\n",
       "      <td>0.03</td>\n",
       "      <td>0.28</td>\n",
       "      <td>0.43</td>\n",
       "      <td>kg CO2e per kg food produced</td>\n",
       "    </tr>\n",
       "  </tbody>\n",
       "</table>\n",
       "</div>"
      ],
      "text/plain": [
       "         Food product  Processed    Type  Land Use Change  Feed  Farm  \\\n",
       "3    Beef (beef herd)  processed  animal            16.28  1.88 39.39   \n",
       "13     Dark Chocolate  processed   plant            14.31  0.00  3.71   \n",
       "17      Lamb & Mutton  processed  animal             0.47  2.37 19.51   \n",
       "4   Beef (dairy herd)  processed  animal             0.91  2.51 15.69   \n",
       "12             Coffee  processed   plant             3.69  0.00 10.39   \n",
       "10             Cheese  processed  animal             4.46  2.35 13.06   \n",
       "15      Fish (farmed)  processed  animal             0.53  0.82  3.60   \n",
       "29           Pig Meat  processed  animal             1.53  2.94  1.69   \n",
       "31       Poultry Meat  processed  animal             2.54  1.77  0.67   \n",
       "27           Palm Oil  processed   plant             3.10  0.00  2.11   \n",
       "36        Soybean Oil  processed   plant             3.10  0.00  1.52   \n",
       "22          Olive Oil  processed   plant            -0.38  0.00  4.27   \n",
       "33               Rice  processed   plant            -0.02  0.00  3.55   \n",
       "32       Rapeseed Oil  processed   plant             0.21  0.00  2.34   \n",
       "38      Sunflower Oil  processed   plant             0.13  0.00  2.15   \n",
       "16         Groundnuts  processed   plant             0.44  0.00  1.43   \n",
       "8          Cane Sugar  processed   plant             1.25  0.00  0.48   \n",
       "39               Tofu  processed   plant             0.96  0.00  0.49   \n",
       "19               Milk  processed  animal             0.49  0.24  1.46   \n",
       "21            Oatmeal  processed   plant             0.00  0.00  1.37   \n",
       "40           Tomatoes  processed   plant             0.37  0.00  0.70   \n",
       "5          Beet Sugar  processed   plant             0.00  0.00  0.54   \n",
       "42               Wine  processed   plant            -0.06  0.00  0.63   \n",
       "18              Maize  processed   plant             0.32  0.00  0.47   \n",
       "41        Wheat & Rye  processed   plant             0.10  0.00  0.85   \n",
       "2              Barley  processed   plant             0.01  0.00  0.18   \n",
       "24        Other Fruit  processed   plant             0.13  0.00  0.37   \n",
       "37            Soymilk  processed   plant             0.18  0.00  0.09   \n",
       "1             Bananas  processed   plant            -0.03  0.00  0.27   \n",
       "26   Other Vegetables  processed   plant             0.00  0.00  0.17   \n",
       "20               Nuts  processed   plant            -2.05  0.00  2.13   \n",
       "\n",
       "    Processing  Transport  Packaging  Retail  Total from Land to Retail  \\\n",
       "3         1.27       0.35       0.25    0.16                      59.57   \n",
       "13        0.18       0.06       0.40    0.02                      18.68   \n",
       "17        1.11       0.49       0.25    0.22                      24.41   \n",
       "4         1.11       0.42       0.27    0.18                      21.09   \n",
       "12        0.59       0.13       1.63    0.05                      16.48   \n",
       "10        0.74       0.14       0.17    0.33                      21.24   \n",
       "15        0.02       0.11       0.06    0.04                       5.18   \n",
       "29        0.28       0.34       0.30    0.19                       7.28   \n",
       "31        0.44       0.28       0.21    0.18                       6.09   \n",
       "27        1.26       0.21       0.89    0.04                       7.61   \n",
       "36        0.31       0.30       0.85    0.04                       6.12   \n",
       "22        0.66       0.48       0.86    0.05                       5.94   \n",
       "33        0.07       0.10       0.08    0.06                       3.84   \n",
       "32        0.19       0.19       0.84    0.05                       3.83   \n",
       "38        0.23       0.20       0.85    0.04                       3.61   \n",
       "16        0.37       0.12       0.10    0.04                       2.50   \n",
       "8         0.04       0.78       0.08    0.04                       2.67   \n",
       "39        0.79       0.18       0.18    0.27                       2.87   \n",
       "19        0.15       0.09       0.10    0.26                       2.78   \n",
       "21        0.04       0.07       0.07    0.03                       1.57   \n",
       "40        0.01       0.18       0.14    0.02                       1.43   \n",
       "5         0.24       0.63       0.09    0.04                       1.54   \n",
       "42        0.14       0.09       0.75    0.04                       1.58   \n",
       "18        0.05       0.06       0.06    0.03                       0.99   \n",
       "41        0.22       0.13       0.09    0.06                       1.44   \n",
       "2         0.13       0.04       0.50    0.26                       1.11   \n",
       "24        0.01       0.18       0.04    0.02                       0.75   \n",
       "37        0.16       0.11       0.10    0.27                       0.91   \n",
       "1         0.06       0.29       0.07    0.02                       0.68   \n",
       "26        0.06       0.16       0.04    0.01                       0.46   \n",
       "20        0.03       0.07       0.08    0.03                       0.28   \n",
       "\n",
       "    Total Global Average GHG Emissions per kg         Unit of GHG Emissions  \n",
       "3                                       99.48  kg CO2e per kg food produced  \n",
       "13                                      46.65  kg CO2e per kg food produced  \n",
       "17                                      39.72  kg CO2e per kg food produced  \n",
       "4                                       33.30  kg CO2e per kg food produced  \n",
       "12                                      28.53  kg CO2e per kg food produced  \n",
       "10                                      23.88  kg CO2e per kg food produced  \n",
       "15                                      13.63  kg CO2e per kg food produced  \n",
       "29                                      12.31  kg CO2e per kg food produced  \n",
       "31                                       9.87  kg CO2e per kg food produced  \n",
       "27                                       7.32  kg CO2e per kg food produced  \n",
       "36                                       6.32  kg CO2e per kg food produced  \n",
       "22                                       5.42  kg CO2e per kg food produced  \n",
       "33                                       4.45  kg CO2e per kg food produced  \n",
       "32                                       3.77  kg CO2e per kg food produced  \n",
       "38                                       3.60  kg CO2e per kg food produced  \n",
       "16                                       3.23  kg CO2e per kg food produced  \n",
       "8                                        3.20  kg CO2e per kg food produced  \n",
       "39                                       3.16  kg CO2e per kg food produced  \n",
       "19                                       3.15  kg CO2e per kg food produced  \n",
       "21                                       2.48  kg CO2e per kg food produced  \n",
       "40                                       2.09  kg CO2e per kg food produced  \n",
       "5                                        1.81  kg CO2e per kg food produced  \n",
       "42                                       1.79  kg CO2e per kg food produced  \n",
       "18                                       1.70  kg CO2e per kg food produced  \n",
       "41                                       1.57  kg CO2e per kg food produced  \n",
       "2                                        1.18  kg CO2e per kg food produced  \n",
       "24                                       1.05  kg CO2e per kg food produced  \n",
       "37                                       0.98  kg CO2e per kg food produced  \n",
       "1                                        0.86  kg CO2e per kg food produced  \n",
       "26                                       0.53  kg CO2e per kg food produced  \n",
       "20                                       0.43  kg CO2e per kg food produced  "
      ]
     },
     "execution_count": 20,
     "metadata": {},
     "output_type": "execute_result"
    }
   ],
   "source": [
    "processed_products = data[data['Processed'] == 'processed']\n",
    "processed_products"
   ]
  },
  {
   "cell_type": "code",
   "execution_count": 21,
   "metadata": {},
   "outputs": [
    {
     "data": {
      "text/html": [
       "<div>\n",
       "<style scoped>\n",
       "    .dataframe tbody tr th:only-of-type {\n",
       "        vertical-align: middle;\n",
       "    }\n",
       "\n",
       "    .dataframe tbody tr th {\n",
       "        vertical-align: top;\n",
       "    }\n",
       "\n",
       "    .dataframe thead th {\n",
       "        text-align: right;\n",
       "    }\n",
       "</style>\n",
       "<table border=\"1\" class=\"dataframe\">\n",
       "  <thead>\n",
       "    <tr style=\"text-align: right;\">\n",
       "      <th></th>\n",
       "      <th>Food product</th>\n",
       "      <th>Processed</th>\n",
       "      <th>Type</th>\n",
       "      <th>Land Use Change</th>\n",
       "      <th>Feed</th>\n",
       "      <th>Farm</th>\n",
       "      <th>Processing</th>\n",
       "      <th>Transport</th>\n",
       "      <th>Packaging</th>\n",
       "      <th>Retail</th>\n",
       "      <th>Total from Land to Retail</th>\n",
       "      <th>Total Global Average GHG Emissions per kg</th>\n",
       "      <th>Unit of GHG Emissions</th>\n",
       "    </tr>\n",
       "  </thead>\n",
       "  <tbody>\n",
       "    <tr>\n",
       "      <th>35</th>\n",
       "      <td>Shrimps (farmed)</td>\n",
       "      <td>raw</td>\n",
       "      <td>animal</td>\n",
       "      <td>0.21</td>\n",
       "      <td>2.51</td>\n",
       "      <td>8.38</td>\n",
       "      <td>0.00</td>\n",
       "      <td>0.21</td>\n",
       "      <td>0.33</td>\n",
       "      <td>0.22</td>\n",
       "      <td>11.85</td>\n",
       "      <td>26.87</td>\n",
       "      <td>kg CO2e per kg food produced</td>\n",
       "    </tr>\n",
       "    <tr>\n",
       "      <th>14</th>\n",
       "      <td>Eggs</td>\n",
       "      <td>raw</td>\n",
       "      <td>animal</td>\n",
       "      <td>0.71</td>\n",
       "      <td>2.20</td>\n",
       "      <td>1.32</td>\n",
       "      <td>0.00</td>\n",
       "      <td>0.08</td>\n",
       "      <td>0.16</td>\n",
       "      <td>0.04</td>\n",
       "      <td>4.51</td>\n",
       "      <td>4.67</td>\n",
       "      <td>kg CO2e per kg food produced</td>\n",
       "    </tr>\n",
       "    <tr>\n",
       "      <th>25</th>\n",
       "      <td>Other Pulses</td>\n",
       "      <td>raw</td>\n",
       "      <td>plant</td>\n",
       "      <td>0.03</td>\n",
       "      <td>0.00</td>\n",
       "      <td>1.09</td>\n",
       "      <td>0.00</td>\n",
       "      <td>0.10</td>\n",
       "      <td>0.35</td>\n",
       "      <td>0.04</td>\n",
       "      <td>1.61</td>\n",
       "      <td>1.79</td>\n",
       "      <td>kg CO2e per kg food produced</td>\n",
       "    </tr>\n",
       "    <tr>\n",
       "      <th>6</th>\n",
       "      <td>Berries &amp; Grapes</td>\n",
       "      <td>raw</td>\n",
       "      <td>plant</td>\n",
       "      <td>0.03</td>\n",
       "      <td>0.00</td>\n",
       "      <td>0.72</td>\n",
       "      <td>0.00</td>\n",
       "      <td>0.24</td>\n",
       "      <td>0.21</td>\n",
       "      <td>0.02</td>\n",
       "      <td>1.21</td>\n",
       "      <td>1.53</td>\n",
       "      <td>kg CO2e per kg food produced</td>\n",
       "    </tr>\n",
       "    <tr>\n",
       "      <th>9</th>\n",
       "      <td>Cassava</td>\n",
       "      <td>raw</td>\n",
       "      <td>plant</td>\n",
       "      <td>0.59</td>\n",
       "      <td>0.00</td>\n",
       "      <td>0.22</td>\n",
       "      <td>0.00</td>\n",
       "      <td>0.09</td>\n",
       "      <td>0.04</td>\n",
       "      <td>0.04</td>\n",
       "      <td>0.99</td>\n",
       "      <td>1.32</td>\n",
       "      <td>kg CO2e per kg food produced</td>\n",
       "    </tr>\n",
       "    <tr>\n",
       "      <th>28</th>\n",
       "      <td>Peas</td>\n",
       "      <td>raw</td>\n",
       "      <td>plant</td>\n",
       "      <td>0.00</td>\n",
       "      <td>0.00</td>\n",
       "      <td>0.72</td>\n",
       "      <td>0.00</td>\n",
       "      <td>0.10</td>\n",
       "      <td>0.04</td>\n",
       "      <td>0.04</td>\n",
       "      <td>0.90</td>\n",
       "      <td>0.98</td>\n",
       "      <td>kg CO2e per kg food produced</td>\n",
       "    </tr>\n",
       "    <tr>\n",
       "      <th>7</th>\n",
       "      <td>Brassicas</td>\n",
       "      <td>raw</td>\n",
       "      <td>plant</td>\n",
       "      <td>0.00</td>\n",
       "      <td>0.00</td>\n",
       "      <td>0.28</td>\n",
       "      <td>0.00</td>\n",
       "      <td>0.10</td>\n",
       "      <td>0.04</td>\n",
       "      <td>0.02</td>\n",
       "      <td>0.44</td>\n",
       "      <td>0.51</td>\n",
       "      <td>kg CO2e per kg food produced</td>\n",
       "    </tr>\n",
       "    <tr>\n",
       "      <th>23</th>\n",
       "      <td>Onions &amp; Leeks</td>\n",
       "      <td>raw</td>\n",
       "      <td>plant</td>\n",
       "      <td>0.01</td>\n",
       "      <td>0.00</td>\n",
       "      <td>0.21</td>\n",
       "      <td>0.00</td>\n",
       "      <td>0.10</td>\n",
       "      <td>0.04</td>\n",
       "      <td>0.04</td>\n",
       "      <td>0.40</td>\n",
       "      <td>0.50</td>\n",
       "      <td>kg CO2e per kg food produced</td>\n",
       "    </tr>\n",
       "    <tr>\n",
       "      <th>30</th>\n",
       "      <td>Potatoes</td>\n",
       "      <td>raw</td>\n",
       "      <td>plant</td>\n",
       "      <td>-0.00</td>\n",
       "      <td>0.00</td>\n",
       "      <td>0.19</td>\n",
       "      <td>0.00</td>\n",
       "      <td>0.09</td>\n",
       "      <td>0.04</td>\n",
       "      <td>0.04</td>\n",
       "      <td>0.37</td>\n",
       "      <td>0.46</td>\n",
       "      <td>kg CO2e per kg food produced</td>\n",
       "    </tr>\n",
       "    <tr>\n",
       "      <th>34</th>\n",
       "      <td>Root Vegetables</td>\n",
       "      <td>raw</td>\n",
       "      <td>plant</td>\n",
       "      <td>0.01</td>\n",
       "      <td>0.00</td>\n",
       "      <td>0.15</td>\n",
       "      <td>0.00</td>\n",
       "      <td>0.11</td>\n",
       "      <td>0.04</td>\n",
       "      <td>0.04</td>\n",
       "      <td>0.36</td>\n",
       "      <td>0.43</td>\n",
       "      <td>kg CO2e per kg food produced</td>\n",
       "    </tr>\n",
       "    <tr>\n",
       "      <th>0</th>\n",
       "      <td>Apples</td>\n",
       "      <td>raw</td>\n",
       "      <td>plant</td>\n",
       "      <td>-0.03</td>\n",
       "      <td>0.00</td>\n",
       "      <td>0.23</td>\n",
       "      <td>0.00</td>\n",
       "      <td>0.10</td>\n",
       "      <td>0.04</td>\n",
       "      <td>0.02</td>\n",
       "      <td>0.36</td>\n",
       "      <td>0.43</td>\n",
       "      <td>kg CO2e per kg food produced</td>\n",
       "    </tr>\n",
       "    <tr>\n",
       "      <th>11</th>\n",
       "      <td>Citrus Fruit</td>\n",
       "      <td>raw</td>\n",
       "      <td>plant</td>\n",
       "      <td>-0.15</td>\n",
       "      <td>0.00</td>\n",
       "      <td>0.31</td>\n",
       "      <td>0.00</td>\n",
       "      <td>0.09</td>\n",
       "      <td>0.04</td>\n",
       "      <td>0.02</td>\n",
       "      <td>0.32</td>\n",
       "      <td>0.39</td>\n",
       "      <td>kg CO2e per kg food produced</td>\n",
       "    </tr>\n",
       "  </tbody>\n",
       "</table>\n",
       "</div>"
      ],
      "text/plain": [
       "        Food product Processed    Type  Land Use Change  Feed  Farm  \\\n",
       "35  Shrimps (farmed)       raw  animal             0.21  2.51  8.38   \n",
       "14              Eggs       raw  animal             0.71  2.20  1.32   \n",
       "25      Other Pulses       raw   plant             0.03  0.00  1.09   \n",
       "6   Berries & Grapes       raw   plant             0.03  0.00  0.72   \n",
       "9            Cassava       raw   plant             0.59  0.00  0.22   \n",
       "28              Peas       raw   plant             0.00  0.00  0.72   \n",
       "7          Brassicas       raw   plant             0.00  0.00  0.28   \n",
       "23    Onions & Leeks       raw   plant             0.01  0.00  0.21   \n",
       "30          Potatoes       raw   plant            -0.00  0.00  0.19   \n",
       "34   Root Vegetables       raw   plant             0.01  0.00  0.15   \n",
       "0             Apples       raw   plant            -0.03  0.00  0.23   \n",
       "11      Citrus Fruit       raw   plant            -0.15  0.00  0.31   \n",
       "\n",
       "    Processing  Transport  Packaging  Retail  Total from Land to Retail  \\\n",
       "35        0.00       0.21       0.33    0.22                      11.85   \n",
       "14        0.00       0.08       0.16    0.04                       4.51   \n",
       "25        0.00       0.10       0.35    0.04                       1.61   \n",
       "6         0.00       0.24       0.21    0.02                       1.21   \n",
       "9         0.00       0.09       0.04    0.04                       0.99   \n",
       "28        0.00       0.10       0.04    0.04                       0.90   \n",
       "7         0.00       0.10       0.04    0.02                       0.44   \n",
       "23        0.00       0.10       0.04    0.04                       0.40   \n",
       "30        0.00       0.09       0.04    0.04                       0.37   \n",
       "34        0.00       0.11       0.04    0.04                       0.36   \n",
       "0         0.00       0.10       0.04    0.02                       0.36   \n",
       "11        0.00       0.09       0.04    0.02                       0.32   \n",
       "\n",
       "    Total Global Average GHG Emissions per kg         Unit of GHG Emissions  \n",
       "35                                      26.87  kg CO2e per kg food produced  \n",
       "14                                       4.67  kg CO2e per kg food produced  \n",
       "25                                       1.79  kg CO2e per kg food produced  \n",
       "6                                        1.53  kg CO2e per kg food produced  \n",
       "9                                        1.32  kg CO2e per kg food produced  \n",
       "28                                       0.98  kg CO2e per kg food produced  \n",
       "7                                        0.51  kg CO2e per kg food produced  \n",
       "23                                       0.50  kg CO2e per kg food produced  \n",
       "30                                       0.46  kg CO2e per kg food produced  \n",
       "34                                       0.43  kg CO2e per kg food produced  \n",
       "0                                        0.43  kg CO2e per kg food produced  \n",
       "11                                       0.39  kg CO2e per kg food produced  "
      ]
     },
     "execution_count": 21,
     "metadata": {},
     "output_type": "execute_result"
    }
   ],
   "source": [
    "unprocessed_products = data[data['Processed'] == 'raw']\n",
    "unprocessed_products"
   ]
  },
  {
   "attachments": {},
   "cell_type": "markdown",
   "metadata": {},
   "source": [
    "Which Factors are causing most of the GHG Emissions? "
   ]
  },
  {
   "cell_type": "code",
   "execution_count": null,
   "metadata": {},
   "outputs": [],
   "source": []
  },
  {
   "attachments": {},
   "cell_type": "markdown",
   "metadata": {},
   "source": [
    "Which factors vary the most and which appear to be relatively constant over the different products? "
   ]
  },
  {
   "cell_type": "code",
   "execution_count": null,
   "metadata": {},
   "outputs": [],
   "source": []
  },
  {
   "attachments": {},
   "cell_type": "markdown",
   "metadata": {},
   "source": [
    "What does this mean for the consumption of beef? "
   ]
  },
  {
   "cell_type": "code",
   "execution_count": null,
   "metadata": {},
   "outputs": [],
   "source": []
  }
 ],
 "metadata": {
  "kernelspec": {
   "display_name": "base",
   "language": "python",
   "name": "python3"
  },
  "language_info": {
   "codemirror_mode": {
    "name": "ipython",
    "version": 3
   },
   "file_extension": ".py",
   "mimetype": "text/x-python",
   "name": "python",
   "nbconvert_exporter": "python",
   "pygments_lexer": "ipython3",
   "version": "3.9.13"
  },
  "vscode": {
   "interpreter": {
    "hash": "103cb5f6bc3e1d16092eab664119432ca7ec893f6f9e9330ffbc5b4d58439f7c"
   }
  }
 },
 "nbformat": 4,
 "nbformat_minor": 0
}
