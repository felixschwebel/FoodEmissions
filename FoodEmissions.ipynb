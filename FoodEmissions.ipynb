{
 "cells": [
  {
   "cell_type": "markdown",
   "metadata": {
    "collapsed": false
   },
   "source": [
    "# Emissions of different Food Products\n",
    "This Dataset was sourced from *Science* and *Our World in Data* (OWID) by **AMANDAROSEKNUDSEN** and downloaded from [**kaggle.com**](https://www.kaggle.com/datasets/amandaroseknudsen/foodproductemissions)."
   ]
  },
  {
   "cell_type": "code",
   "execution_count": 1,
   "metadata": {
    "collapsed": false
   },
   "outputs": [],
   "source": [
    "import pandas as pd\n",
    "import matplotlib.pyplot as plt\n",
    "import plotly.express as px"
   ]
  },
  {
   "cell_type": "code",
   "execution_count": 2,
   "metadata": {
    "collapsed": true
   },
   "outputs": [],
   "source": [
    "data = pd.read_csv('Food_Product_Emissions.csv')"
   ]
  },
  {
   "cell_type": "code",
   "execution_count": 3,
   "metadata": {
    "collapsed": false
   },
   "outputs": [],
   "source": [
    "pd.options.display.float_format = '{:,.2f}'.format"
   ]
  },
  {
   "cell_type": "markdown",
   "metadata": {
    "collapsed": false
   },
   "source": [
    "### Preliminary Data Exploration"
   ]
  },
  {
   "cell_type": "code",
   "execution_count": 4,
   "metadata": {
    "collapsed": false
   },
   "outputs": [
    {
     "name": "stdout",
     "output_type": "stream",
     "text": [
      "number of rows: 43\n",
      "number of columns: 11\n"
     ]
    }
   ],
   "source": [
    "shape = data.shape\n",
    "print(f\"number of rows: {shape[0]}\")\n",
    "print(f\"number of columns: {shape[1]}\")"
   ]
  },
  {
   "cell_type": "code",
   "execution_count": 5,
   "metadata": {
    "collapsed": false
   },
   "outputs": [
    {
     "name": "stdout",
     "output_type": "stream",
     "text": [
      "<class 'pandas.core.frame.DataFrame'>\n",
      "RangeIndex: 43 entries, 0 to 42\n",
      "Data columns (total 11 columns):\n",
      " #   Column                                     Non-Null Count  Dtype  \n",
      "---  ------                                     --------------  -----  \n",
      " 0   Food product                               43 non-null     object \n",
      " 1   Land Use Change                            43 non-null     float64\n",
      " 2   Feed                                       43 non-null     float64\n",
      " 3   Farm                                       43 non-null     float64\n",
      " 4   Processing                                 43 non-null     float64\n",
      " 5   Transport                                  43 non-null     float64\n",
      " 6   Packaging                                  43 non-null     float64\n",
      " 7   Retail                                     43 non-null     float64\n",
      " 8   Total from Land to Retail                  43 non-null     float64\n",
      " 9   Total Global Average GHG Emissions per kg  43 non-null     float64\n",
      " 10  Unit of GHG Emissions                      43 non-null     object \n",
      "dtypes: float64(9), object(2)\n",
      "memory usage: 3.8+ KB\n"
     ]
    }
   ],
   "source": [
    "data.info()"
   ]
  },
  {
   "cell_type": "code",
   "execution_count": 6,
   "metadata": {},
   "outputs": [
    {
     "data": {
      "text/html": [
       "<div>\n",
       "<style scoped>\n",
       "    .dataframe tbody tr th:only-of-type {\n",
       "        vertical-align: middle;\n",
       "    }\n",
       "\n",
       "    .dataframe tbody tr th {\n",
       "        vertical-align: top;\n",
       "    }\n",
       "\n",
       "    .dataframe thead th {\n",
       "        text-align: right;\n",
       "    }\n",
       "</style>\n",
       "<table border=\"1\" class=\"dataframe\">\n",
       "  <thead>\n",
       "    <tr style=\"text-align: right;\">\n",
       "      <th></th>\n",
       "      <th>Food product</th>\n",
       "      <th>Land Use Change</th>\n",
       "      <th>Feed</th>\n",
       "      <th>Farm</th>\n",
       "      <th>Processing</th>\n",
       "      <th>Transport</th>\n",
       "      <th>Packaging</th>\n",
       "      <th>Retail</th>\n",
       "      <th>Total from Land to Retail</th>\n",
       "      <th>Total Global Average GHG Emissions per kg</th>\n",
       "      <th>Unit of GHG Emissions</th>\n",
       "    </tr>\n",
       "  </thead>\n",
       "  <tbody>\n",
       "    <tr>\n",
       "      <th>0</th>\n",
       "      <td>Apples</td>\n",
       "      <td>-0.03</td>\n",
       "      <td>0.00</td>\n",
       "      <td>0.23</td>\n",
       "      <td>0.00</td>\n",
       "      <td>0.10</td>\n",
       "      <td>0.04</td>\n",
       "      <td>0.02</td>\n",
       "      <td>0.36</td>\n",
       "      <td>0.43</td>\n",
       "      <td>kg CO2e per kg food produced</td>\n",
       "    </tr>\n",
       "    <tr>\n",
       "      <th>1</th>\n",
       "      <td>Bananas</td>\n",
       "      <td>-0.03</td>\n",
       "      <td>0.00</td>\n",
       "      <td>0.27</td>\n",
       "      <td>0.06</td>\n",
       "      <td>0.29</td>\n",
       "      <td>0.07</td>\n",
       "      <td>0.02</td>\n",
       "      <td>0.68</td>\n",
       "      <td>0.86</td>\n",
       "      <td>kg CO2e per kg food produced</td>\n",
       "    </tr>\n",
       "    <tr>\n",
       "      <th>2</th>\n",
       "      <td>Barley</td>\n",
       "      <td>0.01</td>\n",
       "      <td>0.00</td>\n",
       "      <td>0.18</td>\n",
       "      <td>0.13</td>\n",
       "      <td>0.04</td>\n",
       "      <td>0.50</td>\n",
       "      <td>0.26</td>\n",
       "      <td>1.11</td>\n",
       "      <td>1.18</td>\n",
       "      <td>kg CO2e per kg food produced</td>\n",
       "    </tr>\n",
       "    <tr>\n",
       "      <th>3</th>\n",
       "      <td>Beef (beef herd)</td>\n",
       "      <td>16.28</td>\n",
       "      <td>1.88</td>\n",
       "      <td>39.39</td>\n",
       "      <td>1.27</td>\n",
       "      <td>0.35</td>\n",
       "      <td>0.25</td>\n",
       "      <td>0.16</td>\n",
       "      <td>59.57</td>\n",
       "      <td>99.48</td>\n",
       "      <td>kg CO2e per kg food produced</td>\n",
       "    </tr>\n",
       "    <tr>\n",
       "      <th>4</th>\n",
       "      <td>Beef (dairy herd)</td>\n",
       "      <td>0.91</td>\n",
       "      <td>2.51</td>\n",
       "      <td>15.69</td>\n",
       "      <td>1.11</td>\n",
       "      <td>0.42</td>\n",
       "      <td>0.27</td>\n",
       "      <td>0.18</td>\n",
       "      <td>21.09</td>\n",
       "      <td>33.30</td>\n",
       "      <td>kg CO2e per kg food produced</td>\n",
       "    </tr>\n",
       "  </tbody>\n",
       "</table>\n",
       "</div>"
      ],
      "text/plain": [
       "        Food product  Land Use Change  Feed  Farm  Processing  Transport  \\\n",
       "0             Apples            -0.03  0.00  0.23        0.00       0.10   \n",
       "1            Bananas            -0.03  0.00  0.27        0.06       0.29   \n",
       "2             Barley             0.01  0.00  0.18        0.13       0.04   \n",
       "3   Beef (beef herd)            16.28  1.88 39.39        1.27       0.35   \n",
       "4  Beef (dairy herd)             0.91  2.51 15.69        1.11       0.42   \n",
       "\n",
       "   Packaging  Retail  Total from Land to Retail  \\\n",
       "0       0.04    0.02                       0.36   \n",
       "1       0.07    0.02                       0.68   \n",
       "2       0.50    0.26                       1.11   \n",
       "3       0.25    0.16                      59.57   \n",
       "4       0.27    0.18                      21.09   \n",
       "\n",
       "   Total Global Average GHG Emissions per kg         Unit of GHG Emissions  \n",
       "0                                       0.43  kg CO2e per kg food produced  \n",
       "1                                       0.86  kg CO2e per kg food produced  \n",
       "2                                       1.18  kg CO2e per kg food produced  \n",
       "3                                      99.48  kg CO2e per kg food produced  \n",
       "4                                      33.30  kg CO2e per kg food produced  "
      ]
     },
     "execution_count": 6,
     "metadata": {},
     "output_type": "execute_result"
    }
   ],
   "source": [
    "data.head()"
   ]
  },
  {
   "cell_type": "code",
   "execution_count": 7,
   "metadata": {},
   "outputs": [
    {
     "name": "stdout",
     "output_type": "stream",
     "text": [
      "any duplicates: False\n"
     ]
    }
   ],
   "source": [
    "print(f\"any duplicates: {data.duplicated().values.any()}\")"
   ]
  },
  {
   "attachments": {},
   "cell_type": "markdown",
   "metadata": {},
   "source": [
    "The data doesn't contain any duplicates or NaN values. The datatypes are already in the right format. So there is nothing to clean. "
   ]
  },
  {
   "cell_type": "code",
   "execution_count": 8,
   "metadata": {},
   "outputs": [
    {
     "data": {
      "text/html": [
       "<div>\n",
       "<style scoped>\n",
       "    .dataframe tbody tr th:only-of-type {\n",
       "        vertical-align: middle;\n",
       "    }\n",
       "\n",
       "    .dataframe tbody tr th {\n",
       "        vertical-align: top;\n",
       "    }\n",
       "\n",
       "    .dataframe thead th {\n",
       "        text-align: right;\n",
       "    }\n",
       "</style>\n",
       "<table border=\"1\" class=\"dataframe\">\n",
       "  <thead>\n",
       "    <tr style=\"text-align: right;\">\n",
       "      <th></th>\n",
       "      <th>Land Use Change</th>\n",
       "      <th>Feed</th>\n",
       "      <th>Farm</th>\n",
       "      <th>Processing</th>\n",
       "      <th>Transport</th>\n",
       "      <th>Packaging</th>\n",
       "      <th>Retail</th>\n",
       "      <th>Total from Land to Retail</th>\n",
       "      <th>Total Global Average GHG Emissions per kg</th>\n",
       "    </tr>\n",
       "  </thead>\n",
       "  <tbody>\n",
       "    <tr>\n",
       "      <th>count</th>\n",
       "      <td>43.00</td>\n",
       "      <td>43.00</td>\n",
       "      <td>43.00</td>\n",
       "      <td>43.00</td>\n",
       "      <td>43.00</td>\n",
       "      <td>43.00</td>\n",
       "      <td>43.00</td>\n",
       "      <td>43.00</td>\n",
       "      <td>43.00</td>\n",
       "    </tr>\n",
       "    <tr>\n",
       "      <th>mean</th>\n",
       "      <td>1.26</td>\n",
       "      <td>0.46</td>\n",
       "      <td>3.47</td>\n",
       "      <td>0.26</td>\n",
       "      <td>0.19</td>\n",
       "      <td>0.27</td>\n",
       "      <td>0.08</td>\n",
       "      <td>6.00</td>\n",
       "      <td>9.47</td>\n",
       "    </tr>\n",
       "    <tr>\n",
       "      <th>std</th>\n",
       "      <td>3.35</td>\n",
       "      <td>0.92</td>\n",
       "      <td>7.08</td>\n",
       "      <td>0.37</td>\n",
       "      <td>0.16</td>\n",
       "      <td>0.34</td>\n",
       "      <td>0.09</td>\n",
       "      <td>10.49</td>\n",
       "      <td>18.07</td>\n",
       "    </tr>\n",
       "    <tr>\n",
       "      <th>min</th>\n",
       "      <td>-2.05</td>\n",
       "      <td>0.00</td>\n",
       "      <td>0.09</td>\n",
       "      <td>0.00</td>\n",
       "      <td>0.04</td>\n",
       "      <td>0.04</td>\n",
       "      <td>0.01</td>\n",
       "      <td>0.28</td>\n",
       "      <td>0.39</td>\n",
       "    </tr>\n",
       "    <tr>\n",
       "      <th>25%</th>\n",
       "      <td>0.00</td>\n",
       "      <td>0.00</td>\n",
       "      <td>0.34</td>\n",
       "      <td>0.00</td>\n",
       "      <td>0.09</td>\n",
       "      <td>0.06</td>\n",
       "      <td>0.03</td>\n",
       "      <td>0.91</td>\n",
       "      <td>1.02</td>\n",
       "    </tr>\n",
       "    <tr>\n",
       "      <th>50%</th>\n",
       "      <td>0.18</td>\n",
       "      <td>0.00</td>\n",
       "      <td>0.85</td>\n",
       "      <td>0.07</td>\n",
       "      <td>0.13</td>\n",
       "      <td>0.10</td>\n",
       "      <td>0.04</td>\n",
       "      <td>1.61</td>\n",
       "      <td>2.48</td>\n",
       "    </tr>\n",
       "    <tr>\n",
       "      <th>75%</th>\n",
       "      <td>0.81</td>\n",
       "      <td>0.00</td>\n",
       "      <td>2.25</td>\n",
       "      <td>0.30</td>\n",
       "      <td>0.22</td>\n",
       "      <td>0.32</td>\n",
       "      <td>0.11</td>\n",
       "      <td>6.02</td>\n",
       "      <td>6.82</td>\n",
       "    </tr>\n",
       "    <tr>\n",
       "      <th>max</th>\n",
       "      <td>16.28</td>\n",
       "      <td>2.94</td>\n",
       "      <td>39.39</td>\n",
       "      <td>1.27</td>\n",
       "      <td>0.78</td>\n",
       "      <td>1.63</td>\n",
       "      <td>0.33</td>\n",
       "      <td>59.57</td>\n",
       "      <td>99.48</td>\n",
       "    </tr>\n",
       "  </tbody>\n",
       "</table>\n",
       "</div>"
      ],
      "text/plain": [
       "       Land Use Change  Feed  Farm  Processing  Transport  Packaging  Retail  \\\n",
       "count            43.00 43.00 43.00       43.00      43.00      43.00   43.00   \n",
       "mean              1.26  0.46  3.47        0.26       0.19       0.27    0.08   \n",
       "std               3.35  0.92  7.08        0.37       0.16       0.34    0.09   \n",
       "min              -2.05  0.00  0.09        0.00       0.04       0.04    0.01   \n",
       "25%               0.00  0.00  0.34        0.00       0.09       0.06    0.03   \n",
       "50%               0.18  0.00  0.85        0.07       0.13       0.10    0.04   \n",
       "75%               0.81  0.00  2.25        0.30       0.22       0.32    0.11   \n",
       "max              16.28  2.94 39.39        1.27       0.78       1.63    0.33   \n",
       "\n",
       "       Total from Land to Retail  Total Global Average GHG Emissions per kg  \n",
       "count                      43.00                                      43.00  \n",
       "mean                        6.00                                       9.47  \n",
       "std                        10.49                                      18.07  \n",
       "min                         0.28                                       0.39  \n",
       "25%                         0.91                                       1.02  \n",
       "50%                         1.61                                       2.48  \n",
       "75%                         6.02                                       6.82  \n",
       "max                        59.57                                      99.48  "
      ]
     },
     "execution_count": 8,
     "metadata": {},
     "output_type": "execute_result"
    }
   ],
   "source": [
    "data.describe()"
   ]
  },
  {
   "attachments": {},
   "cell_type": "markdown",
   "metadata": {},
   "source": [
    "### Data Analysis "
   ]
  },
  {
   "attachments": {},
   "cell_type": "markdown",
   "metadata": {},
   "source": [
    "Which food has the most and which the least total GHG emissions?"
   ]
  },
  {
   "cell_type": "code",
   "execution_count": 9,
   "metadata": {},
   "outputs": [
    {
     "name": "stdout",
     "output_type": "stream",
     "text": [
      "Food with the most total GHG emissions: Beef (beef herd) - 99.48 per kg\n",
      "Food with the least total GHG emissions: Citrus Fruit - 0.39 per kg\n"
     ]
    }
   ],
   "source": [
    "emissions_max = data[data['Total Global Average GHG Emissions per kg'] == data['Total Global Average GHG Emissions per kg'].max()]\n",
    "emissions_min = data[data['Total Global Average GHG Emissions per kg'] == data['Total Global Average GHG Emissions per kg'].min()]\n",
    "print(f\"Food with the most total GHG emissions: {emissions_max['Food product'].values[0]} - {emissions_max['Total Global Average GHG Emissions per kg'].values[0]} per kg\")\n",
    "print(f\"Food with the least total GHG emissions: {emissions_min['Food product'].values[0]} - {emissions_min['Total Global Average GHG Emissions per kg'].values[0]} per kg\")"
   ]
  },
  {
   "attachments": {},
   "cell_type": "markdown",
   "metadata": {},
   "source": [
    "Bar Chart of Total Global Average GHG Emissions per kg "
   ]
  },
  {
   "cell_type": "code",
   "execution_count": 10,
   "metadata": {},
   "outputs": [
    {
     "data": {
      "application/vnd.plotly.v1+json": {
       "config": {
        "plotlyServerURL": "https://plot.ly"
       },
       "data": [
        {
         "alignmentgroup": "True",
         "hovertemplate": "Food product=%{x}<br>Total Global Average GHG Emissions per kg=%{y}<extra></extra>",
         "legendgroup": "",
         "marker": {
          "color": "#636efa",
          "pattern": {
           "shape": ""
          }
         },
         "name": "",
         "offsetgroup": "",
         "orientation": "v",
         "showlegend": false,
         "textposition": "auto",
         "type": "bar",
         "x": [
          "Beef (beef herd)",
          "Dark Chocolate",
          "Lamb & Mutton",
          "Beef (dairy herd)",
          "Coffee",
          "Shrimps (farmed)",
          "Cheese",
          "Fish (farmed)",
          "Pig Meat",
          "Poultry Meat",
          "Palm Oil",
          "Soybean Oil",
          "Olive Oil",
          "Eggs",
          "Rice",
          "Rapeseed Oil",
          "Sunflower Oil",
          "Groundnuts",
          "Cane Sugar",
          "Tofu",
          "Milk",
          "Oatmeal",
          "Tomatoes",
          "Beet Sugar",
          "Other Pulses",
          "Wine",
          "Maize",
          "Wheat & Rye",
          "Berries & Grapes",
          "Cassava",
          "Barley",
          "Other Fruit",
          "Peas",
          "Soymilk",
          "Bananas",
          "Other Vegetables",
          "Brassicas",
          "Onions & Leeks",
          "Potatoes",
          "Root Vegetables",
          "Nuts",
          "Apples",
          "Citrus Fruit"
         ],
         "xaxis": "x",
         "y": [
          99.48,
          46.65,
          39.72,
          33.3,
          28.53,
          26.87,
          23.88,
          13.63,
          12.31,
          9.87,
          7.32,
          6.32,
          5.42,
          4.67,
          4.45,
          3.77,
          3.6,
          3.23,
          3.2,
          3.16,
          3.15,
          2.48,
          2.09,
          1.81,
          1.79,
          1.79,
          1.7,
          1.57,
          1.53,
          1.32,
          1.18,
          1.05,
          0.98,
          0.98,
          0.86,
          0.53,
          0.51,
          0.5,
          0.46,
          0.43,
          0.43,
          0.43,
          0.39
         ],
         "yaxis": "y"
        }
       ],
       "layout": {
        "barmode": "relative",
        "legend": {
         "tracegroupgap": 0
        },
        "template": {
         "data": {
          "bar": [
           {
            "error_x": {
             "color": "#2a3f5f"
            },
            "error_y": {
             "color": "#2a3f5f"
            },
            "marker": {
             "line": {
              "color": "#E5ECF6",
              "width": 0.5
             },
             "pattern": {
              "fillmode": "overlay",
              "size": 10,
              "solidity": 0.2
             }
            },
            "type": "bar"
           }
          ],
          "barpolar": [
           {
            "marker": {
             "line": {
              "color": "#E5ECF6",
              "width": 0.5
             },
             "pattern": {
              "fillmode": "overlay",
              "size": 10,
              "solidity": 0.2
             }
            },
            "type": "barpolar"
           }
          ],
          "carpet": [
           {
            "aaxis": {
             "endlinecolor": "#2a3f5f",
             "gridcolor": "white",
             "linecolor": "white",
             "minorgridcolor": "white",
             "startlinecolor": "#2a3f5f"
            },
            "baxis": {
             "endlinecolor": "#2a3f5f",
             "gridcolor": "white",
             "linecolor": "white",
             "minorgridcolor": "white",
             "startlinecolor": "#2a3f5f"
            },
            "type": "carpet"
           }
          ],
          "choropleth": [
           {
            "colorbar": {
             "outlinewidth": 0,
             "ticks": ""
            },
            "type": "choropleth"
           }
          ],
          "contour": [
           {
            "colorbar": {
             "outlinewidth": 0,
             "ticks": ""
            },
            "colorscale": [
             [
              0,
              "#0d0887"
             ],
             [
              0.1111111111111111,
              "#46039f"
             ],
             [
              0.2222222222222222,
              "#7201a8"
             ],
             [
              0.3333333333333333,
              "#9c179e"
             ],
             [
              0.4444444444444444,
              "#bd3786"
             ],
             [
              0.5555555555555556,
              "#d8576b"
             ],
             [
              0.6666666666666666,
              "#ed7953"
             ],
             [
              0.7777777777777778,
              "#fb9f3a"
             ],
             [
              0.8888888888888888,
              "#fdca26"
             ],
             [
              1,
              "#f0f921"
             ]
            ],
            "type": "contour"
           }
          ],
          "contourcarpet": [
           {
            "colorbar": {
             "outlinewidth": 0,
             "ticks": ""
            },
            "type": "contourcarpet"
           }
          ],
          "heatmap": [
           {
            "colorbar": {
             "outlinewidth": 0,
             "ticks": ""
            },
            "colorscale": [
             [
              0,
              "#0d0887"
             ],
             [
              0.1111111111111111,
              "#46039f"
             ],
             [
              0.2222222222222222,
              "#7201a8"
             ],
             [
              0.3333333333333333,
              "#9c179e"
             ],
             [
              0.4444444444444444,
              "#bd3786"
             ],
             [
              0.5555555555555556,
              "#d8576b"
             ],
             [
              0.6666666666666666,
              "#ed7953"
             ],
             [
              0.7777777777777778,
              "#fb9f3a"
             ],
             [
              0.8888888888888888,
              "#fdca26"
             ],
             [
              1,
              "#f0f921"
             ]
            ],
            "type": "heatmap"
           }
          ],
          "heatmapgl": [
           {
            "colorbar": {
             "outlinewidth": 0,
             "ticks": ""
            },
            "colorscale": [
             [
              0,
              "#0d0887"
             ],
             [
              0.1111111111111111,
              "#46039f"
             ],
             [
              0.2222222222222222,
              "#7201a8"
             ],
             [
              0.3333333333333333,
              "#9c179e"
             ],
             [
              0.4444444444444444,
              "#bd3786"
             ],
             [
              0.5555555555555556,
              "#d8576b"
             ],
             [
              0.6666666666666666,
              "#ed7953"
             ],
             [
              0.7777777777777778,
              "#fb9f3a"
             ],
             [
              0.8888888888888888,
              "#fdca26"
             ],
             [
              1,
              "#f0f921"
             ]
            ],
            "type": "heatmapgl"
           }
          ],
          "histogram": [
           {
            "marker": {
             "pattern": {
              "fillmode": "overlay",
              "size": 10,
              "solidity": 0.2
             }
            },
            "type": "histogram"
           }
          ],
          "histogram2d": [
           {
            "colorbar": {
             "outlinewidth": 0,
             "ticks": ""
            },
            "colorscale": [
             [
              0,
              "#0d0887"
             ],
             [
              0.1111111111111111,
              "#46039f"
             ],
             [
              0.2222222222222222,
              "#7201a8"
             ],
             [
              0.3333333333333333,
              "#9c179e"
             ],
             [
              0.4444444444444444,
              "#bd3786"
             ],
             [
              0.5555555555555556,
              "#d8576b"
             ],
             [
              0.6666666666666666,
              "#ed7953"
             ],
             [
              0.7777777777777778,
              "#fb9f3a"
             ],
             [
              0.8888888888888888,
              "#fdca26"
             ],
             [
              1,
              "#f0f921"
             ]
            ],
            "type": "histogram2d"
           }
          ],
          "histogram2dcontour": [
           {
            "colorbar": {
             "outlinewidth": 0,
             "ticks": ""
            },
            "colorscale": [
             [
              0,
              "#0d0887"
             ],
             [
              0.1111111111111111,
              "#46039f"
             ],
             [
              0.2222222222222222,
              "#7201a8"
             ],
             [
              0.3333333333333333,
              "#9c179e"
             ],
             [
              0.4444444444444444,
              "#bd3786"
             ],
             [
              0.5555555555555556,
              "#d8576b"
             ],
             [
              0.6666666666666666,
              "#ed7953"
             ],
             [
              0.7777777777777778,
              "#fb9f3a"
             ],
             [
              0.8888888888888888,
              "#fdca26"
             ],
             [
              1,
              "#f0f921"
             ]
            ],
            "type": "histogram2dcontour"
           }
          ],
          "mesh3d": [
           {
            "colorbar": {
             "outlinewidth": 0,
             "ticks": ""
            },
            "type": "mesh3d"
           }
          ],
          "parcoords": [
           {
            "line": {
             "colorbar": {
              "outlinewidth": 0,
              "ticks": ""
             }
            },
            "type": "parcoords"
           }
          ],
          "pie": [
           {
            "automargin": true,
            "type": "pie"
           }
          ],
          "scatter": [
           {
            "fillpattern": {
             "fillmode": "overlay",
             "size": 10,
             "solidity": 0.2
            },
            "type": "scatter"
           }
          ],
          "scatter3d": [
           {
            "line": {
             "colorbar": {
              "outlinewidth": 0,
              "ticks": ""
             }
            },
            "marker": {
             "colorbar": {
              "outlinewidth": 0,
              "ticks": ""
             }
            },
            "type": "scatter3d"
           }
          ],
          "scattercarpet": [
           {
            "marker": {
             "colorbar": {
              "outlinewidth": 0,
              "ticks": ""
             }
            },
            "type": "scattercarpet"
           }
          ],
          "scattergeo": [
           {
            "marker": {
             "colorbar": {
              "outlinewidth": 0,
              "ticks": ""
             }
            },
            "type": "scattergeo"
           }
          ],
          "scattergl": [
           {
            "marker": {
             "colorbar": {
              "outlinewidth": 0,
              "ticks": ""
             }
            },
            "type": "scattergl"
           }
          ],
          "scattermapbox": [
           {
            "marker": {
             "colorbar": {
              "outlinewidth": 0,
              "ticks": ""
             }
            },
            "type": "scattermapbox"
           }
          ],
          "scatterpolar": [
           {
            "marker": {
             "colorbar": {
              "outlinewidth": 0,
              "ticks": ""
             }
            },
            "type": "scatterpolar"
           }
          ],
          "scatterpolargl": [
           {
            "marker": {
             "colorbar": {
              "outlinewidth": 0,
              "ticks": ""
             }
            },
            "type": "scatterpolargl"
           }
          ],
          "scatterternary": [
           {
            "marker": {
             "colorbar": {
              "outlinewidth": 0,
              "ticks": ""
             }
            },
            "type": "scatterternary"
           }
          ],
          "surface": [
           {
            "colorbar": {
             "outlinewidth": 0,
             "ticks": ""
            },
            "colorscale": [
             [
              0,
              "#0d0887"
             ],
             [
              0.1111111111111111,
              "#46039f"
             ],
             [
              0.2222222222222222,
              "#7201a8"
             ],
             [
              0.3333333333333333,
              "#9c179e"
             ],
             [
              0.4444444444444444,
              "#bd3786"
             ],
             [
              0.5555555555555556,
              "#d8576b"
             ],
             [
              0.6666666666666666,
              "#ed7953"
             ],
             [
              0.7777777777777778,
              "#fb9f3a"
             ],
             [
              0.8888888888888888,
              "#fdca26"
             ],
             [
              1,
              "#f0f921"
             ]
            ],
            "type": "surface"
           }
          ],
          "table": [
           {
            "cells": {
             "fill": {
              "color": "#EBF0F8"
             },
             "line": {
              "color": "white"
             }
            },
            "header": {
             "fill": {
              "color": "#C8D4E3"
             },
             "line": {
              "color": "white"
             }
            },
            "type": "table"
           }
          ]
         },
         "layout": {
          "annotationdefaults": {
           "arrowcolor": "#2a3f5f",
           "arrowhead": 0,
           "arrowwidth": 1
          },
          "autotypenumbers": "strict",
          "coloraxis": {
           "colorbar": {
            "outlinewidth": 0,
            "ticks": ""
           }
          },
          "colorscale": {
           "diverging": [
            [
             0,
             "#8e0152"
            ],
            [
             0.1,
             "#c51b7d"
            ],
            [
             0.2,
             "#de77ae"
            ],
            [
             0.3,
             "#f1b6da"
            ],
            [
             0.4,
             "#fde0ef"
            ],
            [
             0.5,
             "#f7f7f7"
            ],
            [
             0.6,
             "#e6f5d0"
            ],
            [
             0.7,
             "#b8e186"
            ],
            [
             0.8,
             "#7fbc41"
            ],
            [
             0.9,
             "#4d9221"
            ],
            [
             1,
             "#276419"
            ]
           ],
           "sequential": [
            [
             0,
             "#0d0887"
            ],
            [
             0.1111111111111111,
             "#46039f"
            ],
            [
             0.2222222222222222,
             "#7201a8"
            ],
            [
             0.3333333333333333,
             "#9c179e"
            ],
            [
             0.4444444444444444,
             "#bd3786"
            ],
            [
             0.5555555555555556,
             "#d8576b"
            ],
            [
             0.6666666666666666,
             "#ed7953"
            ],
            [
             0.7777777777777778,
             "#fb9f3a"
            ],
            [
             0.8888888888888888,
             "#fdca26"
            ],
            [
             1,
             "#f0f921"
            ]
           ],
           "sequentialminus": [
            [
             0,
             "#0d0887"
            ],
            [
             0.1111111111111111,
             "#46039f"
            ],
            [
             0.2222222222222222,
             "#7201a8"
            ],
            [
             0.3333333333333333,
             "#9c179e"
            ],
            [
             0.4444444444444444,
             "#bd3786"
            ],
            [
             0.5555555555555556,
             "#d8576b"
            ],
            [
             0.6666666666666666,
             "#ed7953"
            ],
            [
             0.7777777777777778,
             "#fb9f3a"
            ],
            [
             0.8888888888888888,
             "#fdca26"
            ],
            [
             1,
             "#f0f921"
            ]
           ]
          },
          "colorway": [
           "#636efa",
           "#EF553B",
           "#00cc96",
           "#ab63fa",
           "#FFA15A",
           "#19d3f3",
           "#FF6692",
           "#B6E880",
           "#FF97FF",
           "#FECB52"
          ],
          "font": {
           "color": "#2a3f5f"
          },
          "geo": {
           "bgcolor": "white",
           "lakecolor": "white",
           "landcolor": "#E5ECF6",
           "showlakes": true,
           "showland": true,
           "subunitcolor": "white"
          },
          "hoverlabel": {
           "align": "left"
          },
          "hovermode": "closest",
          "mapbox": {
           "style": "light"
          },
          "paper_bgcolor": "white",
          "plot_bgcolor": "#E5ECF6",
          "polar": {
           "angularaxis": {
            "gridcolor": "white",
            "linecolor": "white",
            "ticks": ""
           },
           "bgcolor": "#E5ECF6",
           "radialaxis": {
            "gridcolor": "white",
            "linecolor": "white",
            "ticks": ""
           }
          },
          "scene": {
           "xaxis": {
            "backgroundcolor": "#E5ECF6",
            "gridcolor": "white",
            "gridwidth": 2,
            "linecolor": "white",
            "showbackground": true,
            "ticks": "",
            "zerolinecolor": "white"
           },
           "yaxis": {
            "backgroundcolor": "#E5ECF6",
            "gridcolor": "white",
            "gridwidth": 2,
            "linecolor": "white",
            "showbackground": true,
            "ticks": "",
            "zerolinecolor": "white"
           },
           "zaxis": {
            "backgroundcolor": "#E5ECF6",
            "gridcolor": "white",
            "gridwidth": 2,
            "linecolor": "white",
            "showbackground": true,
            "ticks": "",
            "zerolinecolor": "white"
           }
          },
          "shapedefaults": {
           "line": {
            "color": "#2a3f5f"
           }
          },
          "ternary": {
           "aaxis": {
            "gridcolor": "white",
            "linecolor": "white",
            "ticks": ""
           },
           "baxis": {
            "gridcolor": "white",
            "linecolor": "white",
            "ticks": ""
           },
           "bgcolor": "#E5ECF6",
           "caxis": {
            "gridcolor": "white",
            "linecolor": "white",
            "ticks": ""
           }
          },
          "title": {
           "x": 0.05
          },
          "xaxis": {
           "automargin": true,
           "gridcolor": "white",
           "linecolor": "white",
           "ticks": "",
           "title": {
            "standoff": 15
           },
           "zerolinecolor": "white",
           "zerolinewidth": 2
          },
          "yaxis": {
           "automargin": true,
           "gridcolor": "white",
           "linecolor": "white",
           "ticks": "",
           "title": {
            "standoff": 15
           },
           "zerolinecolor": "white",
           "zerolinewidth": 2
          }
         }
        },
        "title": {
         "text": "Total Global Average GHG Emissions per kg "
        },
        "xaxis": {
         "anchor": "y",
         "domain": [
          0,
          1
         ],
         "title": {
          "text": "Food Product"
         }
        },
        "yaxis": {
         "anchor": "x",
         "domain": [
          0,
          1
         ],
         "title": {
          "text": "Total Global Average GHG Emissions per kg"
         }
        }
       }
      }
     },
     "metadata": {},
     "output_type": "display_data"
    }
   ],
   "source": [
    "worst_ten = data.sort_values(by='Total Global Average GHG Emissions per kg', ascending=False)\n",
    "worst_ten_chart = px.bar(\n",
    "    worst_ten,\n",
    "    x=worst_ten['Food product'],\n",
    "    y=worst_ten['Total Global Average GHG Emissions per kg'],\n",
    "    title='Total Global Average GHG Emissions per kg '\n",
    ")\n",
    "worst_ten_chart.update_layout(xaxis_title='Food Product', yaxis_title='Total Global Average GHG Emissions per kg')\n",
    "worst_ten_chart.show()"
   ]
  },
  {
   "attachments": {},
   "cell_type": "markdown",
   "metadata": {},
   "source": [
    "How big is the difference of the GHG Emissions from **Animal products** to **Plant products**? "
   ]
  },
  {
   "cell_type": "code",
   "execution_count": 11,
   "metadata": {},
   "outputs": [
    {
     "data": {
      "text/html": [
       "<div>\n",
       "<style scoped>\n",
       "    .dataframe tbody tr th:only-of-type {\n",
       "        vertical-align: middle;\n",
       "    }\n",
       "\n",
       "    .dataframe tbody tr th {\n",
       "        vertical-align: top;\n",
       "    }\n",
       "\n",
       "    .dataframe thead th {\n",
       "        text-align: right;\n",
       "    }\n",
       "</style>\n",
       "<table border=\"1\" class=\"dataframe\">\n",
       "  <thead>\n",
       "    <tr style=\"text-align: right;\">\n",
       "      <th></th>\n",
       "      <th>Food product</th>\n",
       "      <th>Land Use Change</th>\n",
       "      <th>Feed</th>\n",
       "      <th>Farm</th>\n",
       "      <th>Processing</th>\n",
       "      <th>Transport</th>\n",
       "      <th>Packaging</th>\n",
       "      <th>Retail</th>\n",
       "      <th>Total from Land to Retail</th>\n",
       "      <th>Total Global Average GHG Emissions per kg</th>\n",
       "      <th>Unit of GHG Emissions</th>\n",
       "    </tr>\n",
       "  </thead>\n",
       "  <tbody>\n",
       "    <tr>\n",
       "      <th>3</th>\n",
       "      <td>Beef (beef herd)</td>\n",
       "      <td>16.28</td>\n",
       "      <td>1.88</td>\n",
       "      <td>39.39</td>\n",
       "      <td>1.27</td>\n",
       "      <td>0.35</td>\n",
       "      <td>0.25</td>\n",
       "      <td>0.16</td>\n",
       "      <td>59.57</td>\n",
       "      <td>99.48</td>\n",
       "      <td>kg CO2e per kg food produced</td>\n",
       "    </tr>\n",
       "    <tr>\n",
       "      <th>4</th>\n",
       "      <td>Beef (dairy herd)</td>\n",
       "      <td>0.91</td>\n",
       "      <td>2.51</td>\n",
       "      <td>15.69</td>\n",
       "      <td>1.11</td>\n",
       "      <td>0.42</td>\n",
       "      <td>0.27</td>\n",
       "      <td>0.18</td>\n",
       "      <td>21.09</td>\n",
       "      <td>33.30</td>\n",
       "      <td>kg CO2e per kg food produced</td>\n",
       "    </tr>\n",
       "    <tr>\n",
       "      <th>10</th>\n",
       "      <td>Cheese</td>\n",
       "      <td>4.46</td>\n",
       "      <td>2.35</td>\n",
       "      <td>13.06</td>\n",
       "      <td>0.74</td>\n",
       "      <td>0.14</td>\n",
       "      <td>0.17</td>\n",
       "      <td>0.33</td>\n",
       "      <td>21.24</td>\n",
       "      <td>23.88</td>\n",
       "      <td>kg CO2e per kg food produced</td>\n",
       "    </tr>\n",
       "    <tr>\n",
       "      <th>14</th>\n",
       "      <td>Eggs</td>\n",
       "      <td>0.71</td>\n",
       "      <td>2.20</td>\n",
       "      <td>1.32</td>\n",
       "      <td>0.00</td>\n",
       "      <td>0.08</td>\n",
       "      <td>0.16</td>\n",
       "      <td>0.04</td>\n",
       "      <td>4.51</td>\n",
       "      <td>4.67</td>\n",
       "      <td>kg CO2e per kg food produced</td>\n",
       "    </tr>\n",
       "    <tr>\n",
       "      <th>15</th>\n",
       "      <td>Fish (farmed)</td>\n",
       "      <td>0.53</td>\n",
       "      <td>0.82</td>\n",
       "      <td>3.60</td>\n",
       "      <td>0.02</td>\n",
       "      <td>0.11</td>\n",
       "      <td>0.06</td>\n",
       "      <td>0.04</td>\n",
       "      <td>5.18</td>\n",
       "      <td>13.63</td>\n",
       "      <td>kg CO2e per kg food produced</td>\n",
       "    </tr>\n",
       "    <tr>\n",
       "      <th>17</th>\n",
       "      <td>Lamb &amp; Mutton</td>\n",
       "      <td>0.47</td>\n",
       "      <td>2.37</td>\n",
       "      <td>19.51</td>\n",
       "      <td>1.11</td>\n",
       "      <td>0.49</td>\n",
       "      <td>0.25</td>\n",
       "      <td>0.22</td>\n",
       "      <td>24.41</td>\n",
       "      <td>39.72</td>\n",
       "      <td>kg CO2e per kg food produced</td>\n",
       "    </tr>\n",
       "    <tr>\n",
       "      <th>19</th>\n",
       "      <td>Milk</td>\n",
       "      <td>0.49</td>\n",
       "      <td>0.24</td>\n",
       "      <td>1.46</td>\n",
       "      <td>0.15</td>\n",
       "      <td>0.09</td>\n",
       "      <td>0.10</td>\n",
       "      <td>0.26</td>\n",
       "      <td>2.78</td>\n",
       "      <td>3.15</td>\n",
       "      <td>kg CO2e per kg food produced</td>\n",
       "    </tr>\n",
       "    <tr>\n",
       "      <th>29</th>\n",
       "      <td>Pig Meat</td>\n",
       "      <td>1.53</td>\n",
       "      <td>2.94</td>\n",
       "      <td>1.69</td>\n",
       "      <td>0.28</td>\n",
       "      <td>0.34</td>\n",
       "      <td>0.30</td>\n",
       "      <td>0.19</td>\n",
       "      <td>7.28</td>\n",
       "      <td>12.31</td>\n",
       "      <td>kg CO2e per kg food produced</td>\n",
       "    </tr>\n",
       "    <tr>\n",
       "      <th>31</th>\n",
       "      <td>Poultry Meat</td>\n",
       "      <td>2.54</td>\n",
       "      <td>1.77</td>\n",
       "      <td>0.67</td>\n",
       "      <td>0.44</td>\n",
       "      <td>0.28</td>\n",
       "      <td>0.21</td>\n",
       "      <td>0.18</td>\n",
       "      <td>6.09</td>\n",
       "      <td>9.87</td>\n",
       "      <td>kg CO2e per kg food produced</td>\n",
       "    </tr>\n",
       "    <tr>\n",
       "      <th>35</th>\n",
       "      <td>Shrimps (farmed)</td>\n",
       "      <td>0.21</td>\n",
       "      <td>2.51</td>\n",
       "      <td>8.38</td>\n",
       "      <td>0.00</td>\n",
       "      <td>0.21</td>\n",
       "      <td>0.33</td>\n",
       "      <td>0.22</td>\n",
       "      <td>11.85</td>\n",
       "      <td>26.87</td>\n",
       "      <td>kg CO2e per kg food produced</td>\n",
       "    </tr>\n",
       "  </tbody>\n",
       "</table>\n",
       "</div>"
      ],
      "text/plain": [
       "         Food product  Land Use Change  Feed  Farm  Processing  Transport  \\\n",
       "3    Beef (beef herd)            16.28  1.88 39.39        1.27       0.35   \n",
       "4   Beef (dairy herd)             0.91  2.51 15.69        1.11       0.42   \n",
       "10             Cheese             4.46  2.35 13.06        0.74       0.14   \n",
       "14               Eggs             0.71  2.20  1.32        0.00       0.08   \n",
       "15      Fish (farmed)             0.53  0.82  3.60        0.02       0.11   \n",
       "17      Lamb & Mutton             0.47  2.37 19.51        1.11       0.49   \n",
       "19               Milk             0.49  0.24  1.46        0.15       0.09   \n",
       "29           Pig Meat             1.53  2.94  1.69        0.28       0.34   \n",
       "31       Poultry Meat             2.54  1.77  0.67        0.44       0.28   \n",
       "35   Shrimps (farmed)             0.21  2.51  8.38        0.00       0.21   \n",
       "\n",
       "    Packaging  Retail  Total from Land to Retail  \\\n",
       "3        0.25    0.16                      59.57   \n",
       "4        0.27    0.18                      21.09   \n",
       "10       0.17    0.33                      21.24   \n",
       "14       0.16    0.04                       4.51   \n",
       "15       0.06    0.04                       5.18   \n",
       "17       0.25    0.22                      24.41   \n",
       "19       0.10    0.26                       2.78   \n",
       "29       0.30    0.19                       7.28   \n",
       "31       0.21    0.18                       6.09   \n",
       "35       0.33    0.22                      11.85   \n",
       "\n",
       "    Total Global Average GHG Emissions per kg         Unit of GHG Emissions  \n",
       "3                                       99.48  kg CO2e per kg food produced  \n",
       "4                                       33.30  kg CO2e per kg food produced  \n",
       "10                                      23.88  kg CO2e per kg food produced  \n",
       "14                                       4.67  kg CO2e per kg food produced  \n",
       "15                                      13.63  kg CO2e per kg food produced  \n",
       "17                                      39.72  kg CO2e per kg food produced  \n",
       "19                                       3.15  kg CO2e per kg food produced  \n",
       "29                                      12.31  kg CO2e per kg food produced  \n",
       "31                                       9.87  kg CO2e per kg food produced  \n",
       "35                                      26.87  kg CO2e per kg food produced  "
      ]
     },
     "execution_count": 11,
     "metadata": {},
     "output_type": "execute_result"
    }
   ],
   "source": [
    "animal_products = data[data['Feed'] != 0]\n",
    "animal_products"
   ]
  },
  {
   "cell_type": "code",
   "execution_count": 12,
   "metadata": {},
   "outputs": [
    {
     "data": {
      "text/html": [
       "<div>\n",
       "<style scoped>\n",
       "    .dataframe tbody tr th:only-of-type {\n",
       "        vertical-align: middle;\n",
       "    }\n",
       "\n",
       "    .dataframe tbody tr th {\n",
       "        vertical-align: top;\n",
       "    }\n",
       "\n",
       "    .dataframe thead th {\n",
       "        text-align: right;\n",
       "    }\n",
       "</style>\n",
       "<table border=\"1\" class=\"dataframe\">\n",
       "  <thead>\n",
       "    <tr style=\"text-align: right;\">\n",
       "      <th></th>\n",
       "      <th>Food product</th>\n",
       "      <th>Land Use Change</th>\n",
       "      <th>Feed</th>\n",
       "      <th>Farm</th>\n",
       "      <th>Processing</th>\n",
       "      <th>Transport</th>\n",
       "      <th>Packaging</th>\n",
       "      <th>Retail</th>\n",
       "      <th>Total from Land to Retail</th>\n",
       "      <th>Total Global Average GHG Emissions per kg</th>\n",
       "      <th>Unit of GHG Emissions</th>\n",
       "    </tr>\n",
       "  </thead>\n",
       "  <tbody>\n",
       "    <tr>\n",
       "      <th>0</th>\n",
       "      <td>Apples</td>\n",
       "      <td>-0.03</td>\n",
       "      <td>0.00</td>\n",
       "      <td>0.23</td>\n",
       "      <td>0.00</td>\n",
       "      <td>0.10</td>\n",
       "      <td>0.04</td>\n",
       "      <td>0.02</td>\n",
       "      <td>0.36</td>\n",
       "      <td>0.43</td>\n",
       "      <td>kg CO2e per kg food produced</td>\n",
       "    </tr>\n",
       "    <tr>\n",
       "      <th>1</th>\n",
       "      <td>Bananas</td>\n",
       "      <td>-0.03</td>\n",
       "      <td>0.00</td>\n",
       "      <td>0.27</td>\n",
       "      <td>0.06</td>\n",
       "      <td>0.29</td>\n",
       "      <td>0.07</td>\n",
       "      <td>0.02</td>\n",
       "      <td>0.68</td>\n",
       "      <td>0.86</td>\n",
       "      <td>kg CO2e per kg food produced</td>\n",
       "    </tr>\n",
       "    <tr>\n",
       "      <th>2</th>\n",
       "      <td>Barley</td>\n",
       "      <td>0.01</td>\n",
       "      <td>0.00</td>\n",
       "      <td>0.18</td>\n",
       "      <td>0.13</td>\n",
       "      <td>0.04</td>\n",
       "      <td>0.50</td>\n",
       "      <td>0.26</td>\n",
       "      <td>1.11</td>\n",
       "      <td>1.18</td>\n",
       "      <td>kg CO2e per kg food produced</td>\n",
       "    </tr>\n",
       "    <tr>\n",
       "      <th>5</th>\n",
       "      <td>Beet Sugar</td>\n",
       "      <td>0.00</td>\n",
       "      <td>0.00</td>\n",
       "      <td>0.54</td>\n",
       "      <td>0.24</td>\n",
       "      <td>0.63</td>\n",
       "      <td>0.09</td>\n",
       "      <td>0.04</td>\n",
       "      <td>1.54</td>\n",
       "      <td>1.81</td>\n",
       "      <td>kg CO2e per kg food produced</td>\n",
       "    </tr>\n",
       "    <tr>\n",
       "      <th>6</th>\n",
       "      <td>Berries &amp; Grapes</td>\n",
       "      <td>0.03</td>\n",
       "      <td>0.00</td>\n",
       "      <td>0.72</td>\n",
       "      <td>0.00</td>\n",
       "      <td>0.24</td>\n",
       "      <td>0.21</td>\n",
       "      <td>0.02</td>\n",
       "      <td>1.21</td>\n",
       "      <td>1.53</td>\n",
       "      <td>kg CO2e per kg food produced</td>\n",
       "    </tr>\n",
       "    <tr>\n",
       "      <th>7</th>\n",
       "      <td>Brassicas</td>\n",
       "      <td>0.00</td>\n",
       "      <td>0.00</td>\n",
       "      <td>0.28</td>\n",
       "      <td>0.00</td>\n",
       "      <td>0.10</td>\n",
       "      <td>0.04</td>\n",
       "      <td>0.02</td>\n",
       "      <td>0.44</td>\n",
       "      <td>0.51</td>\n",
       "      <td>kg CO2e per kg food produced</td>\n",
       "    </tr>\n",
       "    <tr>\n",
       "      <th>8</th>\n",
       "      <td>Cane Sugar</td>\n",
       "      <td>1.25</td>\n",
       "      <td>0.00</td>\n",
       "      <td>0.48</td>\n",
       "      <td>0.04</td>\n",
       "      <td>0.78</td>\n",
       "      <td>0.08</td>\n",
       "      <td>0.04</td>\n",
       "      <td>2.67</td>\n",
       "      <td>3.20</td>\n",
       "      <td>kg CO2e per kg food produced</td>\n",
       "    </tr>\n",
       "    <tr>\n",
       "      <th>9</th>\n",
       "      <td>Cassava</td>\n",
       "      <td>0.59</td>\n",
       "      <td>0.00</td>\n",
       "      <td>0.22</td>\n",
       "      <td>0.00</td>\n",
       "      <td>0.09</td>\n",
       "      <td>0.04</td>\n",
       "      <td>0.04</td>\n",
       "      <td>0.99</td>\n",
       "      <td>1.32</td>\n",
       "      <td>kg CO2e per kg food produced</td>\n",
       "    </tr>\n",
       "    <tr>\n",
       "      <th>11</th>\n",
       "      <td>Citrus Fruit</td>\n",
       "      <td>-0.15</td>\n",
       "      <td>0.00</td>\n",
       "      <td>0.31</td>\n",
       "      <td>0.00</td>\n",
       "      <td>0.09</td>\n",
       "      <td>0.04</td>\n",
       "      <td>0.02</td>\n",
       "      <td>0.32</td>\n",
       "      <td>0.39</td>\n",
       "      <td>kg CO2e per kg food produced</td>\n",
       "    </tr>\n",
       "    <tr>\n",
       "      <th>12</th>\n",
       "      <td>Coffee</td>\n",
       "      <td>3.69</td>\n",
       "      <td>0.00</td>\n",
       "      <td>10.39</td>\n",
       "      <td>0.59</td>\n",
       "      <td>0.13</td>\n",
       "      <td>1.63</td>\n",
       "      <td>0.05</td>\n",
       "      <td>16.48</td>\n",
       "      <td>28.53</td>\n",
       "      <td>kg CO2e per kg food produced</td>\n",
       "    </tr>\n",
       "    <tr>\n",
       "      <th>13</th>\n",
       "      <td>Dark Chocolate</td>\n",
       "      <td>14.31</td>\n",
       "      <td>0.00</td>\n",
       "      <td>3.71</td>\n",
       "      <td>0.18</td>\n",
       "      <td>0.06</td>\n",
       "      <td>0.40</td>\n",
       "      <td>0.02</td>\n",
       "      <td>18.68</td>\n",
       "      <td>46.65</td>\n",
       "      <td>kg CO2e per kg food produced</td>\n",
       "    </tr>\n",
       "    <tr>\n",
       "      <th>16</th>\n",
       "      <td>Groundnuts</td>\n",
       "      <td>0.44</td>\n",
       "      <td>0.00</td>\n",
       "      <td>1.43</td>\n",
       "      <td>0.37</td>\n",
       "      <td>0.12</td>\n",
       "      <td>0.10</td>\n",
       "      <td>0.04</td>\n",
       "      <td>2.50</td>\n",
       "      <td>3.23</td>\n",
       "      <td>kg CO2e per kg food produced</td>\n",
       "    </tr>\n",
       "    <tr>\n",
       "      <th>18</th>\n",
       "      <td>Maize</td>\n",
       "      <td>0.32</td>\n",
       "      <td>0.00</td>\n",
       "      <td>0.47</td>\n",
       "      <td>0.05</td>\n",
       "      <td>0.06</td>\n",
       "      <td>0.06</td>\n",
       "      <td>0.03</td>\n",
       "      <td>0.99</td>\n",
       "      <td>1.70</td>\n",
       "      <td>kg CO2e per kg food produced</td>\n",
       "    </tr>\n",
       "    <tr>\n",
       "      <th>20</th>\n",
       "      <td>Nuts</td>\n",
       "      <td>-2.05</td>\n",
       "      <td>0.00</td>\n",
       "      <td>2.13</td>\n",
       "      <td>0.03</td>\n",
       "      <td>0.07</td>\n",
       "      <td>0.08</td>\n",
       "      <td>0.03</td>\n",
       "      <td>0.28</td>\n",
       "      <td>0.43</td>\n",
       "      <td>kg CO2e per kg food produced</td>\n",
       "    </tr>\n",
       "    <tr>\n",
       "      <th>21</th>\n",
       "      <td>Oatmeal</td>\n",
       "      <td>0.00</td>\n",
       "      <td>0.00</td>\n",
       "      <td>1.37</td>\n",
       "      <td>0.04</td>\n",
       "      <td>0.07</td>\n",
       "      <td>0.07</td>\n",
       "      <td>0.03</td>\n",
       "      <td>1.57</td>\n",
       "      <td>2.48</td>\n",
       "      <td>kg CO2e per kg food produced</td>\n",
       "    </tr>\n",
       "    <tr>\n",
       "      <th>22</th>\n",
       "      <td>Olive Oil</td>\n",
       "      <td>-0.38</td>\n",
       "      <td>0.00</td>\n",
       "      <td>4.27</td>\n",
       "      <td>0.66</td>\n",
       "      <td>0.48</td>\n",
       "      <td>0.86</td>\n",
       "      <td>0.05</td>\n",
       "      <td>5.94</td>\n",
       "      <td>5.42</td>\n",
       "      <td>kg CO2e per kg food produced</td>\n",
       "    </tr>\n",
       "    <tr>\n",
       "      <th>23</th>\n",
       "      <td>Onions &amp; Leeks</td>\n",
       "      <td>0.01</td>\n",
       "      <td>0.00</td>\n",
       "      <td>0.21</td>\n",
       "      <td>0.00</td>\n",
       "      <td>0.10</td>\n",
       "      <td>0.04</td>\n",
       "      <td>0.04</td>\n",
       "      <td>0.40</td>\n",
       "      <td>0.50</td>\n",
       "      <td>kg CO2e per kg food produced</td>\n",
       "    </tr>\n",
       "    <tr>\n",
       "      <th>24</th>\n",
       "      <td>Other Fruit</td>\n",
       "      <td>0.13</td>\n",
       "      <td>0.00</td>\n",
       "      <td>0.37</td>\n",
       "      <td>0.01</td>\n",
       "      <td>0.18</td>\n",
       "      <td>0.04</td>\n",
       "      <td>0.02</td>\n",
       "      <td>0.75</td>\n",
       "      <td>1.05</td>\n",
       "      <td>kg CO2e per kg food produced</td>\n",
       "    </tr>\n",
       "    <tr>\n",
       "      <th>25</th>\n",
       "      <td>Other Pulses</td>\n",
       "      <td>0.03</td>\n",
       "      <td>0.00</td>\n",
       "      <td>1.09</td>\n",
       "      <td>0.00</td>\n",
       "      <td>0.10</td>\n",
       "      <td>0.35</td>\n",
       "      <td>0.04</td>\n",
       "      <td>1.61</td>\n",
       "      <td>1.79</td>\n",
       "      <td>kg CO2e per kg food produced</td>\n",
       "    </tr>\n",
       "    <tr>\n",
       "      <th>26</th>\n",
       "      <td>Other Vegetables</td>\n",
       "      <td>0.00</td>\n",
       "      <td>0.00</td>\n",
       "      <td>0.17</td>\n",
       "      <td>0.06</td>\n",
       "      <td>0.16</td>\n",
       "      <td>0.04</td>\n",
       "      <td>0.01</td>\n",
       "      <td>0.46</td>\n",
       "      <td>0.53</td>\n",
       "      <td>kg CO2e per kg food produced</td>\n",
       "    </tr>\n",
       "    <tr>\n",
       "      <th>27</th>\n",
       "      <td>Palm Oil</td>\n",
       "      <td>3.10</td>\n",
       "      <td>0.00</td>\n",
       "      <td>2.11</td>\n",
       "      <td>1.26</td>\n",
       "      <td>0.21</td>\n",
       "      <td>0.89</td>\n",
       "      <td>0.04</td>\n",
       "      <td>7.61</td>\n",
       "      <td>7.32</td>\n",
       "      <td>kg CO2e per kg food produced</td>\n",
       "    </tr>\n",
       "    <tr>\n",
       "      <th>28</th>\n",
       "      <td>Peas</td>\n",
       "      <td>0.00</td>\n",
       "      <td>0.00</td>\n",
       "      <td>0.72</td>\n",
       "      <td>0.00</td>\n",
       "      <td>0.10</td>\n",
       "      <td>0.04</td>\n",
       "      <td>0.04</td>\n",
       "      <td>0.90</td>\n",
       "      <td>0.98</td>\n",
       "      <td>kg CO2e per kg food produced</td>\n",
       "    </tr>\n",
       "    <tr>\n",
       "      <th>30</th>\n",
       "      <td>Potatoes</td>\n",
       "      <td>-0.00</td>\n",
       "      <td>0.00</td>\n",
       "      <td>0.19</td>\n",
       "      <td>0.00</td>\n",
       "      <td>0.09</td>\n",
       "      <td>0.04</td>\n",
       "      <td>0.04</td>\n",
       "      <td>0.37</td>\n",
       "      <td>0.46</td>\n",
       "      <td>kg CO2e per kg food produced</td>\n",
       "    </tr>\n",
       "    <tr>\n",
       "      <th>32</th>\n",
       "      <td>Rapeseed Oil</td>\n",
       "      <td>0.21</td>\n",
       "      <td>0.00</td>\n",
       "      <td>2.34</td>\n",
       "      <td>0.19</td>\n",
       "      <td>0.19</td>\n",
       "      <td>0.84</td>\n",
       "      <td>0.05</td>\n",
       "      <td>3.83</td>\n",
       "      <td>3.77</td>\n",
       "      <td>kg CO2e per kg food produced</td>\n",
       "    </tr>\n",
       "    <tr>\n",
       "      <th>33</th>\n",
       "      <td>Rice</td>\n",
       "      <td>-0.02</td>\n",
       "      <td>0.00</td>\n",
       "      <td>3.55</td>\n",
       "      <td>0.07</td>\n",
       "      <td>0.10</td>\n",
       "      <td>0.08</td>\n",
       "      <td>0.06</td>\n",
       "      <td>3.84</td>\n",
       "      <td>4.45</td>\n",
       "      <td>kg CO2e per kg food produced</td>\n",
       "    </tr>\n",
       "    <tr>\n",
       "      <th>34</th>\n",
       "      <td>Root Vegetables</td>\n",
       "      <td>0.01</td>\n",
       "      <td>0.00</td>\n",
       "      <td>0.15</td>\n",
       "      <td>0.00</td>\n",
       "      <td>0.11</td>\n",
       "      <td>0.04</td>\n",
       "      <td>0.04</td>\n",
       "      <td>0.36</td>\n",
       "      <td>0.43</td>\n",
       "      <td>kg CO2e per kg food produced</td>\n",
       "    </tr>\n",
       "    <tr>\n",
       "      <th>36</th>\n",
       "      <td>Soybean Oil</td>\n",
       "      <td>3.10</td>\n",
       "      <td>0.00</td>\n",
       "      <td>1.52</td>\n",
       "      <td>0.31</td>\n",
       "      <td>0.30</td>\n",
       "      <td>0.85</td>\n",
       "      <td>0.04</td>\n",
       "      <td>6.12</td>\n",
       "      <td>6.32</td>\n",
       "      <td>kg CO2e per kg food produced</td>\n",
       "    </tr>\n",
       "    <tr>\n",
       "      <th>37</th>\n",
       "      <td>Soymilk</td>\n",
       "      <td>0.18</td>\n",
       "      <td>0.00</td>\n",
       "      <td>0.09</td>\n",
       "      <td>0.16</td>\n",
       "      <td>0.11</td>\n",
       "      <td>0.10</td>\n",
       "      <td>0.27</td>\n",
       "      <td>0.91</td>\n",
       "      <td>0.98</td>\n",
       "      <td>kg CO2e per kg food produced</td>\n",
       "    </tr>\n",
       "    <tr>\n",
       "      <th>38</th>\n",
       "      <td>Sunflower Oil</td>\n",
       "      <td>0.13</td>\n",
       "      <td>0.00</td>\n",
       "      <td>2.15</td>\n",
       "      <td>0.23</td>\n",
       "      <td>0.20</td>\n",
       "      <td>0.85</td>\n",
       "      <td>0.04</td>\n",
       "      <td>3.61</td>\n",
       "      <td>3.60</td>\n",
       "      <td>kg CO2e per kg food produced</td>\n",
       "    </tr>\n",
       "    <tr>\n",
       "      <th>39</th>\n",
       "      <td>Tofu</td>\n",
       "      <td>0.96</td>\n",
       "      <td>0.00</td>\n",
       "      <td>0.49</td>\n",
       "      <td>0.79</td>\n",
       "      <td>0.18</td>\n",
       "      <td>0.18</td>\n",
       "      <td>0.27</td>\n",
       "      <td>2.87</td>\n",
       "      <td>3.16</td>\n",
       "      <td>kg CO2e per kg food produced</td>\n",
       "    </tr>\n",
       "    <tr>\n",
       "      <th>40</th>\n",
       "      <td>Tomatoes</td>\n",
       "      <td>0.37</td>\n",
       "      <td>0.00</td>\n",
       "      <td>0.70</td>\n",
       "      <td>0.01</td>\n",
       "      <td>0.18</td>\n",
       "      <td>0.14</td>\n",
       "      <td>0.02</td>\n",
       "      <td>1.43</td>\n",
       "      <td>2.09</td>\n",
       "      <td>kg CO2e per kg food produced</td>\n",
       "    </tr>\n",
       "    <tr>\n",
       "      <th>41</th>\n",
       "      <td>Wheat &amp; Rye</td>\n",
       "      <td>0.10</td>\n",
       "      <td>0.00</td>\n",
       "      <td>0.85</td>\n",
       "      <td>0.22</td>\n",
       "      <td>0.13</td>\n",
       "      <td>0.09</td>\n",
       "      <td>0.06</td>\n",
       "      <td>1.44</td>\n",
       "      <td>1.57</td>\n",
       "      <td>kg CO2e per kg food produced</td>\n",
       "    </tr>\n",
       "    <tr>\n",
       "      <th>42</th>\n",
       "      <td>Wine</td>\n",
       "      <td>-0.06</td>\n",
       "      <td>0.00</td>\n",
       "      <td>0.63</td>\n",
       "      <td>0.14</td>\n",
       "      <td>0.09</td>\n",
       "      <td>0.75</td>\n",
       "      <td>0.04</td>\n",
       "      <td>1.58</td>\n",
       "      <td>1.79</td>\n",
       "      <td>kg CO2e per kg food produced</td>\n",
       "    </tr>\n",
       "  </tbody>\n",
       "</table>\n",
       "</div>"
      ],
      "text/plain": [
       "        Food product  Land Use Change  Feed  Farm  Processing  Transport  \\\n",
       "0             Apples            -0.03  0.00  0.23        0.00       0.10   \n",
       "1            Bananas            -0.03  0.00  0.27        0.06       0.29   \n",
       "2             Barley             0.01  0.00  0.18        0.13       0.04   \n",
       "5         Beet Sugar             0.00  0.00  0.54        0.24       0.63   \n",
       "6   Berries & Grapes             0.03  0.00  0.72        0.00       0.24   \n",
       "7          Brassicas             0.00  0.00  0.28        0.00       0.10   \n",
       "8         Cane Sugar             1.25  0.00  0.48        0.04       0.78   \n",
       "9            Cassava             0.59  0.00  0.22        0.00       0.09   \n",
       "11      Citrus Fruit            -0.15  0.00  0.31        0.00       0.09   \n",
       "12            Coffee             3.69  0.00 10.39        0.59       0.13   \n",
       "13    Dark Chocolate            14.31  0.00  3.71        0.18       0.06   \n",
       "16        Groundnuts             0.44  0.00  1.43        0.37       0.12   \n",
       "18             Maize             0.32  0.00  0.47        0.05       0.06   \n",
       "20              Nuts            -2.05  0.00  2.13        0.03       0.07   \n",
       "21           Oatmeal             0.00  0.00  1.37        0.04       0.07   \n",
       "22         Olive Oil            -0.38  0.00  4.27        0.66       0.48   \n",
       "23    Onions & Leeks             0.01  0.00  0.21        0.00       0.10   \n",
       "24       Other Fruit             0.13  0.00  0.37        0.01       0.18   \n",
       "25      Other Pulses             0.03  0.00  1.09        0.00       0.10   \n",
       "26  Other Vegetables             0.00  0.00  0.17        0.06       0.16   \n",
       "27          Palm Oil             3.10  0.00  2.11        1.26       0.21   \n",
       "28              Peas             0.00  0.00  0.72        0.00       0.10   \n",
       "30          Potatoes            -0.00  0.00  0.19        0.00       0.09   \n",
       "32      Rapeseed Oil             0.21  0.00  2.34        0.19       0.19   \n",
       "33              Rice            -0.02  0.00  3.55        0.07       0.10   \n",
       "34   Root Vegetables             0.01  0.00  0.15        0.00       0.11   \n",
       "36       Soybean Oil             3.10  0.00  1.52        0.31       0.30   \n",
       "37           Soymilk             0.18  0.00  0.09        0.16       0.11   \n",
       "38     Sunflower Oil             0.13  0.00  2.15        0.23       0.20   \n",
       "39              Tofu             0.96  0.00  0.49        0.79       0.18   \n",
       "40          Tomatoes             0.37  0.00  0.70        0.01       0.18   \n",
       "41       Wheat & Rye             0.10  0.00  0.85        0.22       0.13   \n",
       "42              Wine            -0.06  0.00  0.63        0.14       0.09   \n",
       "\n",
       "    Packaging  Retail  Total from Land to Retail  \\\n",
       "0        0.04    0.02                       0.36   \n",
       "1        0.07    0.02                       0.68   \n",
       "2        0.50    0.26                       1.11   \n",
       "5        0.09    0.04                       1.54   \n",
       "6        0.21    0.02                       1.21   \n",
       "7        0.04    0.02                       0.44   \n",
       "8        0.08    0.04                       2.67   \n",
       "9        0.04    0.04                       0.99   \n",
       "11       0.04    0.02                       0.32   \n",
       "12       1.63    0.05                      16.48   \n",
       "13       0.40    0.02                      18.68   \n",
       "16       0.10    0.04                       2.50   \n",
       "18       0.06    0.03                       0.99   \n",
       "20       0.08    0.03                       0.28   \n",
       "21       0.07    0.03                       1.57   \n",
       "22       0.86    0.05                       5.94   \n",
       "23       0.04    0.04                       0.40   \n",
       "24       0.04    0.02                       0.75   \n",
       "25       0.35    0.04                       1.61   \n",
       "26       0.04    0.01                       0.46   \n",
       "27       0.89    0.04                       7.61   \n",
       "28       0.04    0.04                       0.90   \n",
       "30       0.04    0.04                       0.37   \n",
       "32       0.84    0.05                       3.83   \n",
       "33       0.08    0.06                       3.84   \n",
       "34       0.04    0.04                       0.36   \n",
       "36       0.85    0.04                       6.12   \n",
       "37       0.10    0.27                       0.91   \n",
       "38       0.85    0.04                       3.61   \n",
       "39       0.18    0.27                       2.87   \n",
       "40       0.14    0.02                       1.43   \n",
       "41       0.09    0.06                       1.44   \n",
       "42       0.75    0.04                       1.58   \n",
       "\n",
       "    Total Global Average GHG Emissions per kg         Unit of GHG Emissions  \n",
       "0                                        0.43  kg CO2e per kg food produced  \n",
       "1                                        0.86  kg CO2e per kg food produced  \n",
       "2                                        1.18  kg CO2e per kg food produced  \n",
       "5                                        1.81  kg CO2e per kg food produced  \n",
       "6                                        1.53  kg CO2e per kg food produced  \n",
       "7                                        0.51  kg CO2e per kg food produced  \n",
       "8                                        3.20  kg CO2e per kg food produced  \n",
       "9                                        1.32  kg CO2e per kg food produced  \n",
       "11                                       0.39  kg CO2e per kg food produced  \n",
       "12                                      28.53  kg CO2e per kg food produced  \n",
       "13                                      46.65  kg CO2e per kg food produced  \n",
       "16                                       3.23  kg CO2e per kg food produced  \n",
       "18                                       1.70  kg CO2e per kg food produced  \n",
       "20                                       0.43  kg CO2e per kg food produced  \n",
       "21                                       2.48  kg CO2e per kg food produced  \n",
       "22                                       5.42  kg CO2e per kg food produced  \n",
       "23                                       0.50  kg CO2e per kg food produced  \n",
       "24                                       1.05  kg CO2e per kg food produced  \n",
       "25                                       1.79  kg CO2e per kg food produced  \n",
       "26                                       0.53  kg CO2e per kg food produced  \n",
       "27                                       7.32  kg CO2e per kg food produced  \n",
       "28                                       0.98  kg CO2e per kg food produced  \n",
       "30                                       0.46  kg CO2e per kg food produced  \n",
       "32                                       3.77  kg CO2e per kg food produced  \n",
       "33                                       4.45  kg CO2e per kg food produced  \n",
       "34                                       0.43  kg CO2e per kg food produced  \n",
       "36                                       6.32  kg CO2e per kg food produced  \n",
       "37                                       0.98  kg CO2e per kg food produced  \n",
       "38                                       3.60  kg CO2e per kg food produced  \n",
       "39                                       3.16  kg CO2e per kg food produced  \n",
       "40                                       2.09  kg CO2e per kg food produced  \n",
       "41                                       1.57  kg CO2e per kg food produced  \n",
       "42                                       1.79  kg CO2e per kg food produced  "
      ]
     },
     "execution_count": 12,
     "metadata": {},
     "output_type": "execute_result"
    }
   ],
   "source": [
    "plant_products = data[data['Feed'] == 0]\n",
    "plant_products"
   ]
  },
  {
   "cell_type": "code",
   "execution_count": 16,
   "metadata": {},
   "outputs": [
    {
     "data": {
      "text/plain": [
       "Feed  Food product       Land Use Change  Farm   Processing  Transport  Packaging  Retail  Total from Land to Retail  Total Global Average GHG Emissions per kg  Unit of GHG Emissions       \n",
       "0.00  Apples             -0.03            0.23   0.00        0.10       0.04       0.02    0.36                       0.43                                       kg CO2e per kg food produced    1\n",
       "      Wine               -0.06            0.63   0.14        0.09       0.75       0.04    1.58                       1.79                                       kg CO2e per kg food produced    1\n",
       "      Rice               -0.02            3.55   0.07        0.10       0.08       0.06    3.84                       4.45                                       kg CO2e per kg food produced    1\n",
       "      Root Vegetables    0.01             0.15   0.00        0.11       0.04       0.04    0.36                       0.43                                       kg CO2e per kg food produced    1\n",
       "      Soybean Oil        3.10             1.52   0.31        0.30       0.85       0.04    6.12                       6.32                                       kg CO2e per kg food produced    1\n",
       "      Soymilk            0.18             0.09   0.16        0.11       0.10       0.27    0.91                       0.98                                       kg CO2e per kg food produced    1\n",
       "      Sunflower Oil      0.13             2.15   0.23        0.20       0.85       0.04    3.61                       3.60                                       kg CO2e per kg food produced    1\n",
       "      Tofu               0.96             0.49   0.79        0.18       0.18       0.27    2.87                       3.16                                       kg CO2e per kg food produced    1\n",
       "      Tomatoes           0.37             0.70   0.01        0.18       0.14       0.02    1.43                       2.09                                       kg CO2e per kg food produced    1\n",
       "      Wheat & Rye        0.10             0.85   0.22        0.13       0.09       0.06    1.44                       1.57                                       kg CO2e per kg food produced    1\n",
       "      Potatoes           -0.00            0.19   0.00        0.09       0.04       0.04    0.37                       0.46                                       kg CO2e per kg food produced    1\n",
       "      Rapeseed Oil       0.21             2.34   0.19        0.19       0.84       0.05    3.83                       3.77                                       kg CO2e per kg food produced    1\n",
       "      Peas               0.00             0.72   0.00        0.10       0.04       0.04    0.90                       0.98                                       kg CO2e per kg food produced    1\n",
       "      Bananas            -0.03            0.27   0.06        0.29       0.07       0.02    0.68                       0.86                                       kg CO2e per kg food produced    1\n",
       "      Dark Chocolate     14.31            3.71   0.18        0.06       0.40       0.02    18.68                      46.65                                      kg CO2e per kg food produced    1\n",
       "      Barley             0.01             0.18   0.13        0.04       0.50       0.26    1.11                       1.18                                       kg CO2e per kg food produced    1\n",
       "      Beet Sugar         0.00             0.54   0.24        0.63       0.09       0.04    1.54                       1.81                                       kg CO2e per kg food produced    1\n",
       "      Berries & Grapes   0.03             0.72   0.00        0.24       0.21       0.02    1.21                       1.53                                       kg CO2e per kg food produced    1\n",
       "      Brassicas          0.00             0.28   0.00        0.10       0.04       0.02    0.44                       0.51                                       kg CO2e per kg food produced    1\n",
       "      Cane Sugar         1.25             0.48   0.04        0.78       0.08       0.04    2.67                       3.20                                       kg CO2e per kg food produced    1\n",
       "      Cassava            0.59             0.22   0.00        0.09       0.04       0.04    0.99                       1.32                                       kg CO2e per kg food produced    1\n",
       "      Citrus Fruit       -0.15            0.31   0.00        0.09       0.04       0.02    0.32                       0.39                                       kg CO2e per kg food produced    1\n",
       "      Coffee             3.69             10.39  0.59        0.13       1.63       0.05    16.48                      28.53                                      kg CO2e per kg food produced    1\n",
       "      Groundnuts         0.44             1.43   0.37        0.12       0.10       0.04    2.50                       3.23                                       kg CO2e per kg food produced    1\n",
       "      Palm Oil           3.10             2.11   1.26        0.21       0.89       0.04    7.61                       7.32                                       kg CO2e per kg food produced    1\n",
       "      Maize              0.32             0.47   0.05        0.06       0.06       0.03    0.99                       1.70                                       kg CO2e per kg food produced    1\n",
       "      Nuts               -2.05            2.13   0.03        0.07       0.08       0.03    0.28                       0.43                                       kg CO2e per kg food produced    1\n",
       "      Oatmeal            0.00             1.37   0.04        0.07       0.07       0.03    1.57                       2.48                                       kg CO2e per kg food produced    1\n",
       "      Olive Oil          -0.38            4.27   0.66        0.48       0.86       0.05    5.94                       5.42                                       kg CO2e per kg food produced    1\n",
       "      Onions & Leeks     0.01             0.21   0.00        0.10       0.04       0.04    0.40                       0.50                                       kg CO2e per kg food produced    1\n",
       "      Other Fruit        0.13             0.37   0.01        0.18       0.04       0.02    0.75                       1.05                                       kg CO2e per kg food produced    1\n",
       "      Other Pulses       0.03             1.09   0.00        0.10       0.35       0.04    1.61                       1.79                                       kg CO2e per kg food produced    1\n",
       "      Other Vegetables   0.00             0.17   0.06        0.16       0.04       0.01    0.46                       0.53                                       kg CO2e per kg food produced    1\n",
       "0.24  Milk               0.49             1.46   0.15        0.09       0.10       0.26    2.78                       3.15                                       kg CO2e per kg food produced    1\n",
       "0.82  Fish (farmed)      0.53             3.60   0.02        0.11       0.06       0.04    5.18                       13.63                                      kg CO2e per kg food produced    1\n",
       "1.77  Poultry Meat       2.54             0.67   0.44        0.28       0.21       0.18    6.09                       9.87                                       kg CO2e per kg food produced    1\n",
       "1.88  Beef (beef herd)   16.28            39.39  1.27        0.35       0.25       0.16    59.57                      99.48                                      kg CO2e per kg food produced    1\n",
       "2.20  Eggs               0.71             1.32   0.00        0.08       0.16       0.04    4.51                       4.67                                       kg CO2e per kg food produced    1\n",
       "2.35  Cheese             4.46             13.06  0.74        0.14       0.17       0.33    21.24                      23.88                                      kg CO2e per kg food produced    1\n",
       "2.37  Lamb & Mutton      0.47             19.51  1.11        0.49       0.25       0.22    24.41                      39.72                                      kg CO2e per kg food produced    1\n",
       "2.51  Beef (dairy herd)  0.91             15.69  1.11        0.42       0.27       0.18    21.09                      33.30                                      kg CO2e per kg food produced    1\n",
       "      Shrimps (farmed)   0.21             8.38   0.00        0.21       0.33       0.22    11.85                      26.87                                      kg CO2e per kg food produced    1\n",
       "2.94  Pig Meat           1.53             1.69   0.28        0.34       0.30       0.19    7.28                       12.31                                      kg CO2e per kg food produced    1\n",
       "dtype: int64"
      ]
     },
     "execution_count": 16,
     "metadata": {},
     "output_type": "execute_result"
    }
   ],
   "source": [
    "data.groupby('Feed').value_counts()"
   ]
  },
  {
   "attachments": {},
   "cell_type": "markdown",
   "metadata": {},
   "source": [
    "How big is the difference of GHG Emissions from **processed** to **unprocessed** products? "
   ]
  },
  {
   "cell_type": "code",
   "execution_count": null,
   "metadata": {},
   "outputs": [],
   "source": []
  },
  {
   "attachments": {},
   "cell_type": "markdown",
   "metadata": {},
   "source": [
    "Which Factors are causing most of the GHG Emissions? "
   ]
  },
  {
   "cell_type": "code",
   "execution_count": null,
   "metadata": {},
   "outputs": [],
   "source": []
  },
  {
   "attachments": {},
   "cell_type": "markdown",
   "metadata": {},
   "source": [
    "Which factors vary the most and which appear to be relatively constant over the different products? "
   ]
  },
  {
   "cell_type": "code",
   "execution_count": null,
   "metadata": {},
   "outputs": [],
   "source": []
  },
  {
   "attachments": {},
   "cell_type": "markdown",
   "metadata": {},
   "source": [
    "What does this mean for the consumption of beef? "
   ]
  },
  {
   "cell_type": "code",
   "execution_count": null,
   "metadata": {},
   "outputs": [],
   "source": []
  }
 ],
 "metadata": {
  "kernelspec": {
   "display_name": "base",
   "language": "python",
   "name": "python3"
  },
  "language_info": {
   "codemirror_mode": {
    "name": "ipython",
    "version": 3
   },
   "file_extension": ".py",
   "mimetype": "text/x-python",
   "name": "python",
   "nbconvert_exporter": "python",
   "pygments_lexer": "ipython3",
   "version": "3.9.13"
  },
  "vscode": {
   "interpreter": {
    "hash": "103cb5f6bc3e1d16092eab664119432ca7ec893f6f9e9330ffbc5b4d58439f7c"
   }
  }
 },
 "nbformat": 4,
 "nbformat_minor": 0
}
