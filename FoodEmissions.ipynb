{
 "cells": [
  {
   "cell_type": "markdown",
   "source": [
    "# Emissions of different Food Products\n",
    "This Dataset was sourced from *Science* and *Our World in Data* (OWID) by **AMANDAROSEKNUDSEN** and downloaded from [**kaggle.com**](https://www.kaggle.com/datasets/amandaroseknudsen/foodproductemissions)."
   ],
   "metadata": {
    "collapsed": false
   }
  },
  {
   "cell_type": "code",
   "execution_count": 1,
   "outputs": [],
   "source": [
    "import pandas as pd\n",
    "import matplotlib.pyplot as plt\n",
    "import plotly.express as px"
   ],
   "metadata": {
    "collapsed": false
   }
  },
  {
   "cell_type": "code",
   "execution_count": 2,
   "metadata": {
    "collapsed": true
   },
   "outputs": [],
   "source": [
    "data = pd.read_csv('Food_Product_Emissions.csv')"
   ]
  },
  {
   "cell_type": "code",
   "execution_count": 3,
   "outputs": [],
   "source": [
    "pd.options.display.float_format = '{:,.2f}'.format"
   ],
   "metadata": {
    "collapsed": false
   }
  },
  {
   "cell_type": "markdown",
   "source": [
    "### Preliminary Data Exploration"
   ],
   "metadata": {
    "collapsed": false
   }
  },
  {
   "cell_type": "code",
   "execution_count": 5,
   "outputs": [
    {
     "name": "stdout",
     "output_type": "stream",
     "text": [
      "number of rows: 43\n",
      "number of columns: 11\n"
     ]
    }
   ],
   "source": [
    "shape = data.shape\n",
    "print(f\"number of rows: {shape[0]}\")\n",
    "print(f\"number of columns: {shape[1]}\")"
   ],
   "metadata": {
    "collapsed": false
   }
  },
  {
   "cell_type": "code",
   "execution_count": 6,
   "outputs": [
    {
     "name": "stdout",
     "output_type": "stream",
     "text": [
      "<class 'pandas.core.frame.DataFrame'>\n",
      "RangeIndex: 43 entries, 0 to 42\n",
      "Data columns (total 11 columns):\n",
      " #   Column                                     Non-Null Count  Dtype  \n",
      "---  ------                                     --------------  -----  \n",
      " 0   Food product                               43 non-null     object \n",
      " 1   Land Use Change                            43 non-null     float64\n",
      " 2   Feed                                       43 non-null     float64\n",
      " 3   Farm                                       43 non-null     float64\n",
      " 4   Processing                                 43 non-null     float64\n",
      " 5   Transport                                  43 non-null     float64\n",
      " 6   Packaging                                  43 non-null     float64\n",
      " 7   Retail                                     43 non-null     float64\n",
      " 8   Total from Land to Retail                  43 non-null     float64\n",
      " 9   Total Global Average GHG Emissions per kg  43 non-null     float64\n",
      " 10  Unit of GHG Emissions                      43 non-null     object \n",
      "dtypes: float64(9), object(2)\n",
      "memory usage: 3.8+ KB\n"
     ]
    }
   ],
   "source": [
    "data.info()"
   ],
   "metadata": {
    "collapsed": false
   }
  }
 ],
 "metadata": {
  "kernelspec": {
   "display_name": "Python 3",
   "language": "python",
   "name": "python3"
  },
  "language_info": {
   "codemirror_mode": {
    "name": "ipython",
    "version": 2
   },
   "file_extension": ".py",
   "mimetype": "text/x-python",
   "name": "python",
   "nbconvert_exporter": "python",
   "pygments_lexer": "ipython2",
   "version": "2.7.6"
  }
 },
 "nbformat": 4,
 "nbformat_minor": 0
}
